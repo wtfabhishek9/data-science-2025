{
 "cells": [
  {
   "metadata": {},
   "cell_type": "markdown",
   "source": [
    "# Combining two lists index-wise(Column wise)\n",
    "write a program to add two list index-wise. Create a new list that contains the 0th index item from both the list, then the 1st index item, and so on till the last element. ant leftover items will get added at the end of the new lists."
   ],
   "id": "82e257e66745aac6"
  },
  {
   "metadata": {
    "ExecuteTime": {
     "end_time": "2025-02-15T15:20:35.120182Z",
     "start_time": "2025-02-15T15:20:35.114396Z"
    }
   },
   "cell_type": "code",
   "source": [
    "# Problem\n",
    "list1 = [\"M\", \"na\", \"i\", \"kh\"]\n",
    "list2 = [\"y\", \"me\", \"s\", \"an\"]\n",
    "\n",
    "# Output\n",
    "# [['M', 'y'], ['na', 'me'], ['i', 's'], ['kh', 'an']]"
   ],
   "id": "e7c0359f5c3f61ca",
   "outputs": [],
   "execution_count": 1
  },
  {
   "metadata": {
    "ExecuteTime": {
     "end_time": "2025-02-15T05:02:44.138420Z",
     "start_time": "2025-02-15T05:02:44.119328Z"
    }
   },
   "cell_type": "code",
   "source": [
    "# Write a Program:\n",
    "\n",
    "[[i,j ] for (i,j) in zip (list1,list2)]"
   ],
   "id": "3d11e6959e504cdf",
   "outputs": [
    {
     "data": {
      "text/plain": [
       "[['M', 'y'], ['na', 'me'], ['i', 's'], ['kh', 'an']]"
      ]
     },
     "execution_count": 2,
     "metadata": {},
     "output_type": "execute_result"
    }
   ],
   "execution_count": 2
  },
  {
   "metadata": {},
   "cell_type": "markdown",
   "source": [
    "# Add new item to list after a specified item\n",
    "How to write a Python Programme to add an item 7000 and 6000 in the following Python List."
   ],
   "id": "7256c644534e774d"
  },
  {
   "metadata": {
    "ExecuteTime": {
     "end_time": "2025-02-15T05:02:45.092413Z",
     "start_time": "2025-02-15T05:02:45.086575Z"
    }
   },
   "cell_type": "code",
   "source": [
    "# Problem\n",
    "list_1 = [10, 20,[300,400, [5000, 6000], 500], 30, 40]\n",
    "\n",
    "# Output\n",
    "# [10, 20, [300, 400, [5000, 6000, 7000], 500], 30, 40]"
   ],
   "id": "63866b86da764a1c",
   "outputs": [],
   "execution_count": 3
  },
  {
   "metadata": {
    "ExecuteTime": {
     "end_time": "2025-02-15T05:02:45.115650Z",
     "start_time": "2025-02-15T05:02:45.106272Z"
    }
   },
   "cell_type": "code",
   "source": [
    "list_1 = [10, 20,[300,400, [5000, 6000], 500], 30, 40]\n",
    "list_1[2][2].append(7000)\n",
    "list_1"
   ],
   "id": "f44ce8c65b892ef2",
   "outputs": [
    {
     "data": {
      "text/plain": [
       "[10, 20, [300, 400, [5000, 6000, 7000], 500], 30, 40]"
      ]
     },
     "execution_count": 4,
     "metadata": {},
     "output_type": "execute_result"
    }
   ],
   "execution_count": 4
  },
  {
   "metadata": {},
   "cell_type": "markdown",
   "source": [
    "# Update No. of item available\n",
    "Suppose you are given a list of candy and another list of same size of representing no. of item of respective candy."
   ],
   "id": "f54532a5f3cd466c"
  },
  {
   "metadata": {
    "ExecuteTime": {
     "end_time": "2025-02-15T05:02:45.152870Z",
     "start_time": "2025-02-15T05:02:45.146910Z"
    }
   },
   "cell_type": "code",
   "source": [
    "# Problem\n",
    "candy_list = ['Jelly Belly','Kit Kat','Double Bubble','Milky Way','Three Musketeers']\n",
    "no_of_items = [10,20,34,74,32]\n",
    "\n",
    "# Output\n",
    "# Jelly Belly-10\n",
    "# Kit Kat-20\n",
    "# Double Bubble-34\n",
    "# Milky Way-74\n",
    "# Three Musketeers-32"
   ],
   "id": "1d74293cf3abcb6c",
   "outputs": [],
   "execution_count": 5
  },
  {
   "metadata": {
    "ExecuteTime": {
     "end_time": "2025-02-15T05:02:45.460561Z",
     "start_time": "2025-02-15T05:02:45.451857Z"
    }
   },
   "cell_type": "code",
   "source": [
    "candy_list = ['Jelly Belly','Kit Kat','Double Bubble','Milky Way','Three Musketeers']\n",
    "no_of_items = [10,20,34,74,32]\n",
    "\n",
    "for (i,j) in zip(candy_list, no_of_items):\n",
    "    print(i, '-', j)"
   ],
   "id": "660379375aafba27",
   "outputs": [
    {
     "name": "stdout",
     "output_type": "stream",
     "text": [
      "Jelly Belly - 10\n",
      "Kit Kat - 20\n",
      "Double Bubble - 34\n",
      "Milky Way - 74\n",
      "Three Musketeers - 32\n"
     ]
    }
   ],
   "execution_count": 6
  },
  {
   "metadata": {},
   "cell_type": "markdown",
   "source": [
    "# Running Sum on list\n",
    "Write a program to print a list after performing running sum on it."
   ],
   "id": "8c17a48813c965f3"
  },
  {
   "metadata": {
    "ExecuteTime": {
     "end_time": "2025-02-15T05:02:45.731060Z",
     "start_time": "2025-02-15T05:02:45.724775Z"
    }
   },
   "cell_type": "code",
   "source": [
    "# Problem\n",
    "list__1 = [1,2,3,4,5]\n",
    "\n",
    "# Output\n",
    "# [1, 3, 6, 10, 15]"
   ],
   "id": "5ab7714e35535c9b",
   "outputs": [],
   "execution_count": 7
  },
  {
   "metadata": {
    "ExecuteTime": {
     "end_time": "2025-02-15T05:02:45.903278Z",
     "start_time": "2025-02-15T05:02:45.890103Z"
    }
   },
   "cell_type": "code",
   "source": [
    "list__1 = [1,2,3,4,5]\n",
    "result = []\n",
    "sum = 0\n",
    "for i in list__1:\n",
    "    sum = sum + i\n",
    "    result.append(sum)\n",
    "\n",
    "print(result)"
   ],
   "id": "a91aa4d0d7baada5",
   "outputs": [
    {
     "name": "stdout",
     "output_type": "stream",
     "text": [
      "[1, 3, 6, 10, 15]\n"
     ]
    }
   ],
   "execution_count": 8
  },
  {
   "metadata": {},
   "cell_type": "markdown",
   "source": [
    "# You are given a list of integers. You are asked to make a list by running through elements of the list by adding all elements greater and itself.\n",
    "i.e. Say given list is [2,4,6,10,1] resultant list will be [22,20,10,23].\n",
    "\n",
    "For 1st element 2 ->> these are greater (4+6+10) values and 2 itself so on adding becomes 22.\n",
    "\n",
    "For 2nd element 4 ->> greater elements are (6, 10) and 4 itself, so on adding 20\n",
    "\n",
    "like wise for all other elememts.\n",
    "\n",
    "[2,4,6,10,1]-->[22,20,16,10,23]"
   ],
   "id": "4e5d57d8842e5d5"
  },
  {
   "metadata": {
    "ExecuteTime": {
     "end_time": "2025-02-15T05:02:46.038051Z",
     "start_time": "2025-02-15T05:02:46.030195Z"
    }
   },
   "cell_type": "code",
   "source": [
    "# Problem\n",
    "list__1 = [2,4,6,10,1]\n",
    "\n",
    "# Output\n",
    "# [22, 20, 16, 10, 23]"
   ],
   "id": "c9da41ab38452815",
   "outputs": [],
   "execution_count": 9
  },
  {
   "metadata": {
    "ExecuteTime": {
     "end_time": "2025-02-15T05:02:46.173907Z",
     "start_time": "2025-02-15T05:02:46.164739Z"
    }
   },
   "cell_type": "code",
   "source": [
    "list__1 = [2,4,6,10,1]\n",
    "result = []\n",
    "for i in list__1:\n",
    "    sum = 0\n",
    "    for j in list__1:\n",
    "        if i <= j:\n",
    "            sum = sum + j\n",
    "\n",
    "    result.append(sum)\n",
    "print(result)"
   ],
   "id": "2c554aa55c2fa742",
   "outputs": [
    {
     "name": "stdout",
     "output_type": "stream",
     "text": [
      "[22, 20, 16, 10, 23]\n"
     ]
    }
   ],
   "execution_count": 10
  },
  {
   "metadata": {},
   "cell_type": "markdown",
   "source": "# Split string of list on K character.",
   "id": "6ac2abc1016ca9db"
  },
  {
   "metadata": {
    "ExecuteTime": {
     "end_time": "2025-02-15T05:02:46.317319Z",
     "start_time": "2025-02-15T05:02:46.310965Z"
    }
   },
   "cell_type": "code",
   "source": [
    "# Problem\n",
    "# Input : ['campusX is a channel', 'for data-science', 'aspirants.']\n",
    "\n",
    "# output\n",
    "# ['CampusX', 'is', 'a', 'channel', 'for', 'data-science', 'aspirants.']"
   ],
   "id": "e9ad88189f789529",
   "outputs": [],
   "execution_count": 11
  },
  {
   "metadata": {
    "ExecuteTime": {
     "end_time": "2025-02-15T05:02:46.407689Z",
     "start_time": "2025-02-15T05:02:46.397256Z"
    }
   },
   "cell_type": "code",
   "source": [
    "L = ['campusX is a channel', 'for data-science', 'aspirants.']\n",
    "inp = ' '\n",
    "result = []\n",
    "for i in L:\n",
    "    result.extend(i.split(inp))\n",
    "\n",
    "print(result)"
   ],
   "id": "b6b95b8024b989fa",
   "outputs": [
    {
     "name": "stdout",
     "output_type": "stream",
     "text": [
      "['campusX', 'is', 'a', 'channel', 'for', 'data-science', 'aspirants.']\n"
     ]
    }
   ],
   "execution_count": 12
  },
  {
   "metadata": {},
   "cell_type": "markdown",
   "source": "# Convert character matrix to single string using string comprehension",
   "id": "ee7fe0f74e42434a"
  },
  {
   "metadata": {
    "ExecuteTime": {
     "end_time": "2025-02-15T05:02:46.518312Z",
     "start_time": "2025-02-15T05:02:46.512598Z"
    }
   },
   "cell_type": "code",
   "source": [
    "# Problem\n",
    "# Input : [['C', 'a', 'm', 'p', 'u', 's', 'X'], ['i', 's'], ['a'], ['c', 'h', 'a', 'n', 'n', 'e', 'l']]\n",
    "\n",
    "# Output\n",
    "# CampusX is a channel"
   ],
   "id": "7552216224781a99",
   "outputs": [],
   "execution_count": 13
  },
  {
   "metadata": {
    "ExecuteTime": {
     "end_time": "2025-02-19T03:10:35.176427Z",
     "start_time": "2025-02-19T03:10:35.164046Z"
    }
   },
   "cell_type": "code",
   "source": [
    "L = [['C', 'a', 'm', 'p', 'u', 's', 'X'], ['i', 's'], ['a'], ['c', 'h', 'a', 'n', 'n', 'e', 'l']]\n",
    "result = ' '.join([''.join(i) for i in L])\n",
    "print(result)"
   ],
   "id": "6673c50fa474f8c3",
   "outputs": [
    {
     "name": "stdout",
     "output_type": "stream",
     "text": [
      "CampusX is a channel\n"
     ]
    }
   ],
   "execution_count": 4
  },
  {
   "metadata": {},
   "cell_type": "markdown",
   "source": [
    "# Write a list Comprehension that can transpose a matrix\n",
    "Matrix = [[1,2,3],[4,5,6],[7,8,9]]"
   ],
   "id": "667cc88322fab45f"
  },
  {
   "metadata": {
    "ExecuteTime": {
     "end_time": "2025-02-19T03:31:13.203061Z",
     "start_time": "2025-02-19T03:31:13.093039Z"
    }
   },
   "cell_type": "code",
   "source": [
    "matrix = [[1,2,3],[4,5,6],[7,8,9]]\n",
    "[[row[i] for row in matrix] for i in range((len(matrix)))]"
   ],
   "id": "7bd9a03898bb3923",
   "outputs": [
    {
     "data": {
      "text/plain": [
       "[[1, 4, 7], [2, 5, 8], [3, 6, 9]]"
      ]
     },
     "execution_count": 5,
     "metadata": {},
     "output_type": "execute_result"
    }
   ],
   "execution_count": 5
  },
  {
   "metadata": {},
   "cell_type": "markdown",
   "source": [
    "# Write a list comprehension to flatten a given 1-D list\n",
    "Input Matrix = [[1,2,3],[4,5,6],[7,8,9]]"
   ],
   "id": "c0e89bfe9acadf54"
  },
  {
   "metadata": {
    "ExecuteTime": {
     "end_time": "2025-02-19T03:39:22.433599Z",
     "start_time": "2025-02-19T03:39:22.420620Z"
    }
   },
   "cell_type": "code",
   "source": [
    "matrix = [[1,2,3],[4,5,6],[7,8,9]]\n",
    "[i for row in matrix for i in row]"
   ],
   "id": "2c754f7e4a48ffe8",
   "outputs": [
    {
     "data": {
      "text/plain": [
       "[1, 2, 3, 4, 5, 6, 7, 8, 9]"
      ]
     },
     "execution_count": 6,
     "metadata": {},
     "output_type": "execute_result"
    }
   ],
   "execution_count": 6
  },
  {
   "metadata": {},
   "cell_type": "code",
   "outputs": [],
   "execution_count": null,
   "source": "",
   "id": "927d0ed3481dc382"
  }
 ],
 "metadata": {
  "kernelspec": {
   "display_name": "Python 3",
   "language": "python",
   "name": "python3"
  },
  "language_info": {
   "codemirror_mode": {
    "name": "ipython",
    "version": 2
   },
   "file_extension": ".py",
   "mimetype": "text/x-python",
   "name": "python",
   "nbconvert_exporter": "python",
   "pygments_lexer": "ipython2",
   "version": "2.7.6"
  }
 },
 "nbformat": 4,
 "nbformat_minor": 5
}
