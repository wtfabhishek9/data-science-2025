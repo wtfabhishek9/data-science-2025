{
 "cells": [
  {
   "metadata": {},
   "cell_type": "markdown",
   "source": [
    "# Tuples\n",
    "A tuples in python is similar to a lists. The difference between the two is that we cannot change the elements of a tuples once it is assigned\n",
    "whereas we can change the elements of a lists.\n",
    "\n",
    "In short, tuples is an immutable list. A tuples can not be changed in any way once it is created.\n",
    "\n",
    "- Characteristics of tuples\n",
    "    - Ordered\n",
    "    - Unchangeable\n",
    "    - Allow duplicate values\n",
    "    - Written in round brackets"
   ],
   "id": "2a9b5f1a17f1d4b3"
  },
  {
   "metadata": {},
   "cell_type": "markdown",
   "source": [
    "# Plan of Attack\n",
    "- create a tuple\n",
    "- access tuple items\n",
    "- change tuple values\n",
    "- loop through a tuple\n",
    "- check if an item exists\n",
    "- tuple length\n",
    "- add items\n",
    "- remove items\n",
    "- join two tuples\n",
    "- tuple constructor\n",
    "- tuple methods"
   ],
   "id": "a91ffcda3868c148"
  },
  {
   "metadata": {
    "ExecuteTime": {
     "end_time": "2025-02-21T02:20:10.554180Z",
     "start_time": "2025-02-21T02:20:10.546122Z"
    }
   },
   "cell_type": "code",
   "source": [
    "# create a tuple\n",
    "tuple_1 = (1,2,3,4,5)\n",
    "print(tuple_1)\n",
    "\n",
    "# access tuple items\n",
    "print(tuple_1[2])\n",
    "\n",
    "# change tuple values\n",
    "# tuple_1[2] = 100\n",
    "# print(tuple_1)\n",
    "\n",
    "# loop through a tuple\n",
    "for i in tuple_1:\n",
    "    print(i)\n",
    "\n",
    "# check if an item exists\n",
    "if 3 in tuple_1:\n",
    "    print('Yes')\n",
    "else:\n",
    "    print('No')\n",
    "\n",
    "# tuple length\n",
    "print(len(tuple_1))\n",
    "\n",
    "# add items\n",
    "# tuple_1.append(6)\n",
    "# print(tuple_1)\n",
    "\n",
    "# remove items\n",
    "# del tuple_1[2]\n",
    "# print(tuple_1)\n",
    "\n",
    "# join two tuples\n",
    "tuple_2 = (6,7,8,9,10)\n",
    "tuple_3 = tuple_1 + tuple_2\n",
    "\n",
    "print(tuple_3)\n",
    "\n",
    "# tuple constructor\n",
    "tuple_4 = tuple((1,2,3,4,5))\n",
    "print(tuple_4)\n",
    "\n",
    "# tuple methods\n",
    "# count\n",
    "print(tuple_1.count(2))\n",
    "\n",
    "# index\n",
    "print(tuple_1.index(2))\n",
    "\n",
    "# Create a tuple with one item\n",
    "tuple_5 = ('hello',)\n",
    "print(tuple_5)\n"
   ],
   "id": "ab0e4b298456fbac",
   "outputs": [
    {
     "name": "stdout",
     "output_type": "stream",
     "text": [
      "(1, 2, 3, 4, 5)\n",
      "3\n",
      "1\n",
      "2\n",
      "3\n",
      "4\n",
      "5\n",
      "Yes\n",
      "5\n",
      "(1, 2, 3, 4, 5, 6, 7, 8, 9, 10)\n",
      "(1, 2, 3, 4, 5)\n",
      "1\n",
      "1\n",
      "('hello',)\n"
     ]
    }
   ],
   "execution_count": 1
  },
  {
   "metadata": {},
   "cell_type": "markdown",
   "source": [
    "# Accessing tuple items\n",
    "- indexing\n",
    "- slicing"
   ],
   "id": "56bd2349b004af39"
  },
  {
   "metadata": {
    "ExecuteTime": {
     "end_time": "2025-02-21T02:20:10.598623Z",
     "start_time": "2025-02-21T02:20:10.593539Z"
    }
   },
   "cell_type": "code",
   "source": [
    "# indexing\n",
    "tuple_1 = (1,2,3,4,5)\n",
    "print(tuple_1[0])"
   ],
   "id": "2d3c9118b6400ca2",
   "outputs": [
    {
     "name": "stdout",
     "output_type": "stream",
     "text": [
      "1\n"
     ]
    }
   ],
   "execution_count": 2
  },
  {
   "metadata": {
    "ExecuteTime": {
     "end_time": "2025-02-21T02:20:10.632895Z",
     "start_time": "2025-02-21T02:20:10.628095Z"
    }
   },
   "cell_type": "code",
   "source": [
    "# slicing\n",
    "tuple_1 = (1,2,3,4,5)\n",
    "print(tuple_1[2:4])"
   ],
   "id": "69fa9d3e602847a",
   "outputs": [
    {
     "name": "stdout",
     "output_type": "stream",
     "text": [
      "(3, 4)\n"
     ]
    }
   ],
   "execution_count": 3
  },
  {
   "metadata": {},
   "cell_type": "markdown",
   "source": "# Operations on tuples",
   "id": "6c46d5e053ff102f"
  },
  {
   "metadata": {
    "ExecuteTime": {
     "end_time": "2025-02-21T02:44:36.845807Z",
     "start_time": "2025-02-21T02:44:36.839945Z"
    }
   },
   "cell_type": "code",
   "source": [
    "# + and *\n",
    "tuples_0 = (1,2,3,4,5)\n",
    "tuples_00 = (6,7,8,9,10)\n",
    "\n",
    "print(tuples_0 + tuples_00)\n",
    "\n",
    "# Membership\n",
    "1 in tuples_0\n",
    "\n",
    "# Iteration\n",
    "for i in tuples_0:\n",
    "    print(i)"
   ],
   "id": "52e271feb5edf232",
   "outputs": [
    {
     "name": "stdout",
     "output_type": "stream",
     "text": [
      "(1, 2, 3, 4, 5, 6, 7, 8, 9, 10)\n",
      "1\n",
      "2\n",
      "3\n",
      "4\n",
      "5\n"
     ]
    }
   ],
   "execution_count": 6
  },
  {
   "metadata": {
    "ExecuteTime": {
     "end_time": "2025-03-02T01:59:37.133209Z",
     "start_time": "2025-03-02T01:59:37.121084Z"
    }
   },
   "cell_type": "code",
   "source": [
    "# + and *\n",
    "tuples_0 = (1,2,3,4,5)\n",
    "tuples_00 = (6,7,8,9,10)\n",
    "\n",
    "# Concatenation with +\n",
    "print(\"Concatenation:\", tuples_0 + tuples_00)\n",
    "\n",
    "# Repetition with *\n",
    "print(\"Repetition:\", tuples_0 * 2)\n",
    "\n",
    "# Membership check with proper output\n",
    "print(\"Is 1 in tuples_0?\", 1 in tuples_0)\n",
    "print(\"Is 10 in tuples_0?\", 10 in tuples_0)\n",
    "\n",
    "# Iteration\n",
    "print(\"Iterating through tuples_0:\")\n",
    "for i in tuples_0:\n",
    "    print(i)"
   ],
   "id": "ba4adba141b3fa38",
   "outputs": [
    {
     "name": "stdout",
     "output_type": "stream",
     "text": [
      "Concatenation: (1, 2, 3, 4, 5, 6, 7, 8, 9, 10)\n",
      "Repetition: (1, 2, 3, 4, 5, 1, 2, 3, 4, 5)\n",
      "Is 1 in tuples_0? True\n",
      "Is 10 in tuples_0? False\n",
      "Iterating through tuples_0:\n",
      "1\n",
      "2\n",
      "3\n",
      "4\n",
      "5\n"
     ]
    }
   ],
   "execution_count": 1
  },
  {
   "metadata": {},
   "cell_type": "markdown",
   "source": "# Tuples Functions",
   "id": "c6d3e6a6c8d14326"
  },
  {
   "metadata": {
    "ExecuteTime": {
     "end_time": "2025-02-21T02:52:37.755982Z",
     "start_time": "2025-02-21T02:52:37.747998Z"
    }
   },
   "cell_type": "code",
   "source": [
    "# len/sum/min/max/sorted/reverse\n",
    "\n",
    "t = (1,2,3,4,5)\n",
    "\n",
    "print(len(t))\n",
    "print(sum(t))\n",
    "print(min(t))\n",
    "print(max(t))\n",
    "print(sorted(t))\n",
    "print(tuple(reversed(t)))\n",
    "sorted(t,reverse=True)"
   ],
   "id": "a77799b448c4a2f5",
   "outputs": [
    {
     "name": "stdout",
     "output_type": "stream",
     "text": [
      "5\n",
      "15\n",
      "1\n",
      "5\n",
      "[1, 2, 3, 4, 5]\n",
      "(5, 4, 3, 2, 1)\n"
     ]
    },
    {
     "data": {
      "text/plain": [
       "[5, 4, 3, 2, 1]"
      ]
     },
     "execution_count": 11,
     "metadata": {},
     "output_type": "execute_result"
    }
   ],
   "execution_count": 11
  },
  {
   "metadata": {
    "ExecuteTime": {
     "end_time": "2025-02-21T02:53:31.104299Z",
     "start_time": "2025-02-21T02:53:31.097541Z"
    }
   },
   "cell_type": "code",
   "source": [
    "# count\n",
    "t = (1,2,3,4,5,1,2,3,4,5)\n",
    "t.count(5)"
   ],
   "id": "11cdd1e6ea4cc81f",
   "outputs": [
    {
     "data": {
      "text/plain": [
       "2"
      ]
     },
     "execution_count": 12,
     "metadata": {},
     "output_type": "execute_result"
    }
   ],
   "execution_count": 12
  },
  {
   "metadata": {
    "ExecuteTime": {
     "end_time": "2025-02-21T02:53:53.866666Z",
     "start_time": "2025-02-21T02:53:53.859974Z"
    }
   },
   "cell_type": "code",
   "source": [
    "# index\n",
    "t = (1,2,3,4,5)\n",
    "t.index(4)"
   ],
   "id": "a2ee756db1295c0a",
   "outputs": [
    {
     "data": {
      "text/plain": [
       "3"
      ]
     },
     "execution_count": 13,
     "metadata": {},
     "output_type": "execute_result"
    }
   ],
   "execution_count": 13
  },
  {
   "metadata": {},
   "cell_type": "markdown",
   "source": [
    "# difference between python lists vs tuples\n",
    "Here are the key differences between Python lists and tuples:\n",
    "\n",
    "1. **Mutability**:\n",
    "   - **Lists**: Mutable, meaning you can change their content (add, remove, or modify elements).\n",
    "   - **Tuples**: Immutable, meaning once created, their content cannot be changed.\n",
    "\n",
    "2. **Syntax**:\n",
    "   - **Lists**: Defined using square brackets `[]`.\n",
    "   - **Tuples**: Defined using parentheses `()`.\n",
    "\n",
    "3. **Performance**:\n",
    "   - **Lists**: Generally slower than tuples due to their mutable nature.\n",
    "   - **Tuples**: Faster than lists because of their immutability.\n",
    "\n",
    "4. **Methods**:\n",
    "   - **Lists**: Have more built-in methods (e.g., `append()`, `remove()`, `pop()`, etc.) due to their mutable nature.\n",
    "   - **Tuples**: Have fewer methods (e.g., `count()`, `index()`) because they are immutable.\n",
    "\n",
    "5. **Use Cases**:\n",
    "   - **Lists**: Suitable for collections of items that may need to be modified.\n",
    "   - **Tuples**: Suitable for fixed collections of items, such as coordinates, or when you want to ensure the data remains constant.\n",
    "\n",
    "6. **Memory Usage**:\n",
    "   - **Lists**: Generally use more memory due to their dynamic nature.\n",
    "   - **Tuples**: Use less memory compared to lists.\n",
    "\n",
    "Here is an example to illustrate the differences:\n",
    "\n",
    "```python\n",
    "# List example\n",
    "my_list = [1, 2, 3]\n",
    "my_list.append(4)  # Lists can be modified\n",
    "print(my_list)  # Output: [1, 2, 3, 4]\n",
    "\n",
    "# Tuple example\n",
    "my_tuple = (1, 2, 3)\n",
    "# my_tuple.append(4)  # This will raise an AttributeError because tuples are immutable\n",
    "print(my_tuple)  # Output: (1, 2, 3)\n",
    "```\n",
    "\n",
    "In summary, choose lists when you need a mutable collection and tuples when you need an immutable collection."
   ],
   "id": "f18423be7f7dcd7f"
  },
  {
   "metadata": {
    "ExecuteTime": {
     "end_time": "2025-02-21T03:03:21.020745Z",
     "start_time": "2025-02-21T03:03:17.972960Z"
    }
   },
   "cell_type": "code",
   "source": [
    "import timeit\n",
    "\n",
    "# Define a function to create a list and a tuple\n",
    "def create_list():\n",
    "    return [i for i in range(1000)]\n",
    "\n",
    "def create_tuple():\n",
    "    return tuple(i for i in range(1000))\n",
    "\n",
    "# Define a function to access elements in a list and a tuple\n",
    "def access_list(lst):\n",
    "    for i in range(len(lst)):\n",
    "        _ = lst[i]\n",
    "\n",
    "def access_tuple(tpl):\n",
    "    for i in range(len(tpl)):\n",
    "        _ = tpl[i]\n",
    "\n",
    "# Define a function to iterate through a list and a tuple\n",
    "def iterate_list(lst):\n",
    "    for i in lst:\n",
    "        _ = i\n",
    "\n",
    "def iterate_tuple(tpl):\n",
    "    for i in tpl:\n",
    "        _ = i\n",
    "\n",
    "# Measure the time taken to create a list and a tuple\n",
    "list_creation_time = timeit.timeit(create_list, number=10000)\n",
    "tuple_creation_time = timeit.timeit(create_tuple, number=10000)\n",
    "\n",
    "# Measure the time taken to access elements in a list and a tuple\n",
    "list_access_time = timeit.timeit(lambda: access_list(create_list()), number=10000)\n",
    "tuple_access_time = timeit.timeit(lambda: access_tuple(create_tuple()), number=10000)\n",
    "\n",
    "# Measure the time taken to iterate through a list and a tuple\n",
    "list_iteration_time = timeit.timeit(lambda: iterate_list(create_list()), number=10000)\n",
    "tuple_iteration_time = timeit.timeit(lambda: iterate_tuple(create_tuple()), number=10000)\n",
    "\n",
    "# Print the results\n",
    "print(f\"List creation time: {list_creation_time:.6f} seconds\")\n",
    "print(f\"Tuple creation time: {tuple_creation_time:.6f} seconds\")\n",
    "print(f\"List access time: {list_access_time:.6f} seconds\")\n",
    "print(f\"Tuple access time: {tuple_access_time:.6f} seconds\")\n",
    "print(f\"List iteration time: {list_iteration_time:.6f} seconds\")\n",
    "print(f\"Tuple iteration time: {tuple_iteration_time:.6f} seconds\")"
   ],
   "id": "b96c7d78e50aa8b9",
   "outputs": [
    {
     "name": "stdout",
     "output_type": "stream",
     "text": [
      "List creation time: 0.308404 seconds\n",
      "Tuple creation time: 0.638967 seconds\n",
      "List access time: 0.534184 seconds\n",
      "Tuple access time: 0.659708 seconds\n",
      "List iteration time: 0.374273 seconds\n",
      "Tuple iteration time: 0.511248 seconds\n"
     ]
    }
   ],
   "execution_count": 14
  },
  {
   "metadata": {
    "ExecuteTime": {
     "end_time": "2025-02-21T03:19:38.027389Z",
     "start_time": "2025-02-21T03:17:32.651350Z"
    }
   },
   "cell_type": "code",
   "source": [
    "import time\n",
    "\n",
    "L = list(range(100000000))\n",
    "T = tuple(range(100000000))\n",
    "\n",
    "start = time.time()\n",
    "for i in L:\n",
    "    i*5\n",
    "print('List time',time.time()-start)\n",
    "\n",
    "start = time.time()\n",
    "for i in T:\n",
    "    i*5\n",
    "print('Tuple time',time.time()-start)"
   ],
   "id": "6052ae704eb431e8",
   "outputs": [
    {
     "name": "stdout",
     "output_type": "stream",
     "text": [
      "List time 28.577926635742188\n",
      "Tuple time 25.908788204193115\n"
     ]
    }
   ],
   "execution_count": 17
  },
  {
   "metadata": {
    "ExecuteTime": {
     "end_time": "2025-03-02T02:08:05.162970Z",
     "start_time": "2025-03-02T02:07:57.309973Z"
    }
   },
   "cell_type": "code",
   "source": [
    "import timeit\n",
    "import matplotlib.pyplot as plt\n",
    "\n",
    "def benchmark_containers(sizes):\n",
    "    list_times = []\n",
    "    tuple_times = []\n",
    "\n",
    "    for size in sizes:\n",
    "        # List benchmark\n",
    "        list_time = timeit.timeit(\n",
    "            f'for i in L: i*5',\n",
    "            setup=f'L = list(range({size}))',\n",
    "            number=5\n",
    "        )\n",
    "        list_times.append(list_time)\n",
    "\n",
    "        # Tuple benchmark\n",
    "        tuple_time = timeit.timeit(\n",
    "            f'for i in T: i*5',\n",
    "            setup=f'T = tuple(range({size}))',\n",
    "            number=5\n",
    "        )\n",
    "        tuple_times.append(tuple_time)\n",
    "\n",
    "        print(f\"Size {size}: List time = {list_time:.4f}s, Tuple time = {tuple_time:.4f}s\")\n",
    "\n",
    "    return list_times, tuple_times\n",
    "\n",
    "# Test with increasing sizes\n",
    "sizes = [100000, 1000000, 5000000, 10000000]\n",
    "list_times, tuple_times = benchmark_containers(sizes)\n",
    "\n",
    "# Plot results\n",
    "plt.figure(figsize=(10, 6))\n",
    "plt.plot(sizes, list_times, 'o-', label='List')\n",
    "plt.plot(sizes, tuple_times, 's-', label='Tuple')\n",
    "plt.xlabel('Container Size')\n",
    "plt.ylabel('Time (seconds)')\n",
    "plt.title('List vs Tuple Iteration Performance')\n",
    "plt.legend()\n",
    "plt.grid(True)\n",
    "plt.show()"
   ],
   "id": "e2723578543a60bf",
   "outputs": [
    {
     "name": "stdout",
     "output_type": "stream",
     "text": [
      "Size 100000: List time = 0.0404s, Tuple time = 0.0544s\n",
      "Size 1000000: List time = 0.2914s, Tuple time = 0.1664s\n",
      "Size 5000000: List time = 0.9316s, Tuple time = 0.6006s\n",
      "Size 10000000: List time = 1.4001s, Tuple time = 1.2610s\n"
     ]
    },
    {
     "data": {
      "text/plain": [
       "<Figure size 1000x600 with 1 Axes>"
      ],
      "image/png": "[encoded data removed]"
     },
     "metadata": {},
     "output_type": "display_data"
    }
   ],
   "execution_count": 2
  },
  {
   "metadata": {
    "ExecuteTime": {
     "end_time": "2025-02-21T03:33:35.845782Z",
     "start_time": "2025-02-21T03:33:05.356922Z"
    }
   },
   "cell_type": "code",
   "source": [
    "import sys\n",
    "\n",
    "L = list(range(1000))\n",
    "T = tuple(range(1000))\n",
    "\n",
    "print('List size',sys.getsizeof(L))\n",
    "print('Tuple size', sys.getsizeof(T))"
   ],
   "id": "533eb08e8e8d36d2",
   "outputs": [
    {
     "name": "stdout",
     "output_type": "stream",
     "text": [
      "List size 8056\n",
      "Tuple size 8040\n"
     ]
    }
   ],
   "execution_count": 18
  },
  {
   "metadata": {},
   "cell_type": "markdown",
   "source": [
    "# Sets\n",
    "A set is an unordered collection of items. Every  Set Element is unique (No duplicates) and must be immutable (which cannot be changed).\n",
    "However, a set itself is mutable. We can add or remove items from it.\n",
    "Set can also be used to perform mathematical set operation like union, intersection, symmetric difference, etc.\n",
    "\n",
    "Characteristics of sets\n",
    "- Unordered\n",
    "- Mutable\n",
    "- No duplicates\n",
    "- Can't contain mutable data types (like lists, dictionaries)"
   ],
   "id": "521f62914380d13f"
  },
  {
   "metadata": {
    "ExecuteTime": {
     "end_time": "2025-02-21T04:30:32.983156Z",
     "start_time": "2025-02-21T04:30:32.956039Z"
    }
   },
   "cell_type": "code",
   "source": [
    "# unordered\n",
    "\n",
    "set_1 = {1,2,3,4,5}\n",
    "set_2 = {5,4,3,2,1}\n",
    "print(set_1 == set_2)\n",
    "# mutable\n",
    "set_1.add(6)\n",
    "\n",
    "print(set_1)\n",
    "\n",
    "# no duplicates\n",
    "set_1.add(7)\n",
    "print(set_1)\n",
    "\n",
    "# can't contain mutable data type\n",
    "set_1.add([7,8,9])\n",
    "print(set_1)"
   ],
   "id": "f4aa8725b30aaf6a",
   "outputs": [
    {
     "name": "stdout",
     "output_type": "stream",
     "text": [
      "True\n",
      "{1, 2, 3, 4, 5, 6}\n",
      "{1, 2, 3, 4, 5, 6, 7}\n"
     ]
    },
    {
     "ename": "TypeError",
     "evalue": "unhashable type: 'list'",
     "output_type": "error",
     "traceback": [
      "\u001B[1;31m---------------------------------------------------------------------------\u001B[0m",
      "\u001B[1;31mTypeError\u001B[0m                                 Traceback (most recent call last)",
      "Cell \u001B[1;32mIn[25], line 16\u001B[0m\n\u001B[0;32m     13\u001B[0m \u001B[38;5;28mprint\u001B[39m(set_1)\n\u001B[0;32m     15\u001B[0m \u001B[38;5;66;03m# can't contain mutable data type\u001B[39;00m\n\u001B[1;32m---> 16\u001B[0m \u001B[43mset_1\u001B[49m\u001B[38;5;241;43m.\u001B[39;49m\u001B[43madd\u001B[49m\u001B[43m(\u001B[49m\u001B[43m[\u001B[49m\u001B[38;5;241;43m7\u001B[39;49m\u001B[43m,\u001B[49m\u001B[38;5;241;43m8\u001B[39;49m\u001B[43m,\u001B[49m\u001B[38;5;241;43m9\u001B[39;49m\u001B[43m]\u001B[49m\u001B[43m)\u001B[49m\n\u001B[0;32m     17\u001B[0m \u001B[38;5;28mprint\u001B[39m(set_1)\n",
      "\u001B[1;31mTypeError\u001B[0m: unhashable type: 'list'"
     ]
    }
   ],
   "execution_count": 25
  },
  {
   "metadata": {},
   "cell_type": "markdown",
   "source": "Sets Operations",
   "id": "50a5622cf1bcbd73"
  },
  {
   "metadata": {
    "ExecuteTime": {
     "end_time": "2025-02-28T03:36:38.149505Z",
     "start_time": "2025-02-28T03:36:38.142398Z"
    }
   },
   "cell_type": "code",
   "source": [
    "s1 = {1,2,3,4,5}\n",
    "s2 = {4,5,6,7,8}\n",
    "\n",
    "# union\n",
    "print(s1.union(s2))\n",
    "s1 | s2\n",
    "\n",
    "# Intersection(&)\n",
    "print(s1.intersection(s2))\n",
    "s1 - s2\n",
    "s2 -s1\n",
    "\n",
    "# Difference (-)\n",
    "print(s1.difference(s2))\n",
    "\n",
    "# Symmetric Difference (^)\n",
    "print(s1.symmetric_difference(s2))\n",
    "s1 ^ s2\n",
    "\n",
    "# Membership\n",
    "1 not in  s1\n",
    "\n",
    "2 not in s2\n",
    "\n",
    "# Intersection\n",
    "\n",
    "for i in s1:\n",
    "    print(i)"
   ],
   "id": "faae199057d934c1",
   "outputs": [
    {
     "name": "stdout",
     "output_type": "stream",
     "text": [
      "{1, 2, 3, 4, 5, 6, 7, 8}\n",
      "{4, 5}\n",
      "{1, 2, 3}\n",
      "{1, 2, 3, 6, 7, 8}\n",
      "1\n",
      "2\n",
      "3\n",
      "4\n",
      "5\n"
     ]
    }
   ],
   "execution_count": 16
  },
  {
   "metadata": {
    "ExecuteTime": {
     "end_time": "2025-03-02T02:11:27.858781Z",
     "start_time": "2025-03-02T02:11:27.848519Z"
    }
   },
   "cell_type": "code",
   "source": [
    "s1 = {1,2,3,4,5}\n",
    "s2 = {4,5,6,7,8}\n",
    "\n",
    "# Union\n",
    "print(\"Union using method:\", s1.union(s2))\n",
    "print(\"Union using operator:\", s1 | s2)\n",
    "\n",
    "# Intersection\n",
    "print(\"Intersection using method:\", s1.intersection(s2))\n",
    "print(\"Intersection using operator:\", s1 & s2)\n",
    "\n",
    "# Difference\n",
    "print(\"s1 - s2 using method:\", s1.difference(s2))\n",
    "print(\"s1 - s2 using operator:\", s1 - s2)\n",
    "print(\"s2 - s1 using method:\", s2.difference(s1))\n",
    "print(\"s2 - s1 using operator:\", s2 - s1)\n",
    "\n",
    "# Symmetric Difference\n",
    "print(\"Symmetric difference using method:\", s1.symmetric_difference(s2))\n",
    "print(\"Symmetric difference using operator:\", s1 ^ s2)\n",
    "\n",
    "# Membership\n",
    "print(\"Is 1 in s1?\", 1 in s1)\n",
    "print(\"Is 2 in s2?\", 2 in s2)\n",
    "\n",
    "# Iteration\n",
    "print(\"Iterating through s1:\")\n",
    "for i in s1:\n",
    "    print(i)"
   ],
   "id": "c14223140387f192",
   "outputs": [
    {
     "name": "stdout",
     "output_type": "stream",
     "text": [
      "Union using method: {1, 2, 3, 4, 5, 6, 7, 8}\n",
      "Union using operator: {1, 2, 3, 4, 5, 6, 7, 8}\n",
      "Intersection using method: {4, 5}\n",
      "Intersection using operator: {4, 5}\n",
      "s1 - s2 using method: {1, 2, 3}\n",
      "s1 - s2 using operator: {1, 2, 3}\n",
      "s2 - s1 using method: {8, 6, 7}\n",
      "s2 - s1 using operator: {8, 6, 7}\n",
      "Symmetric difference using method: {1, 2, 3, 6, 7, 8}\n",
      "Symmetric difference using operator: {1, 2, 3, 6, 7, 8}\n",
      "Is 1 in s1? True\n",
      "Is 2 in s2? False\n",
      "Iterating through s1:\n",
      "1\n",
      "2\n",
      "3\n",
      "4\n",
      "5\n"
     ]
    }
   ],
   "execution_count": 3
  },
  {
   "metadata": {},
   "cell_type": "markdown",
   "source": "# Set Functions",
   "id": "303fabc03bfcaa68"
  },
  {
   "metadata": {
    "ExecuteTime": {
     "end_time": "2025-02-28T03:48:09.901337Z",
     "start_time": "2025-02-28T03:48:09.894658Z"
    }
   },
   "cell_type": "code",
   "source": [
    "# len/min/max/sorted\n",
    "s = {1,2,3,4,5}\n",
    "print(len(s))\n",
    "# add\n",
    "s.add(6)\n",
    "print(s)\n",
    "# remove\n",
    "s.remove(4)\n",
    "print(s)\n",
    "# min\n",
    "print(min(s))\n",
    "\n",
    "# sorted\n",
    "print(sorted(s))"
   ],
   "id": "31dae9f744b43994",
   "outputs": [
    {
     "name": "stdout",
     "output_type": "stream",
     "text": [
      "5\n",
      "{1, 2, 3, 4, 5, 6}\n",
      "{1, 2, 3, 5, 6}\n",
      "1\n",
      "[1, 2, 3, 5, 6]\n"
     ]
    }
   ],
   "execution_count": 20
  },
  {
   "metadata": {
    "ExecuteTime": {
     "end_time": "2025-02-28T03:51:33.637997Z",
     "start_time": "2025-02-28T03:51:33.632336Z"
    }
   },
   "cell_type": "code",
   "source": [
    "# Union / update\n",
    "s1 = {1,2,3,4,5}\n",
    "s2 = {4,5,6,7,8}\n",
    "\n",
    "s1.union(s1)\n",
    "s1.update(s2)\n",
    "print(s1)\n",
    "print(s2)"
   ],
   "id": "ae7c0ea1695c9cb1",
   "outputs": [
    {
     "name": "stdout",
     "output_type": "stream",
     "text": [
      "{1, 2, 3, 4, 5, 6, 7, 8}\n",
      "{4, 5, 6, 7, 8}\n"
     ]
    }
   ],
   "execution_count": 24
  },
  {
   "metadata": {
    "ExecuteTime": {
     "end_time": "2025-02-28T03:54:29.617481Z",
     "start_time": "2025-02-28T03:54:29.611214Z"
    }
   },
   "cell_type": "code",
   "source": [
    "# Intersection / intersection_update\n",
    "s1 = {1,2,3,4,5}\n",
    "s2 = {4,5,6,7,8}\n",
    "\n",
    "s1.intersection(s2)\n",
    "s1.intersection_update(s2)\n",
    "print(s1)\n",
    "print(s2)"
   ],
   "id": "3ccc1b50cd917567",
   "outputs": [
    {
     "name": "stdout",
     "output_type": "stream",
     "text": [
      "{4, 5}\n",
      "{4, 5, 6, 7, 8}\n"
     ]
    }
   ],
   "execution_count": 25
  },
  {
   "metadata": {
    "ExecuteTime": {
     "end_time": "2025-02-28T03:55:50.684696Z",
     "start_time": "2025-02-28T03:55:50.678918Z"
    }
   },
   "cell_type": "code",
   "source": [
    "# Difference / difference_update\n",
    "s1 = {1,2,3,4,5}\n",
    "s2 = {4,5,6,7,8}\n",
    "\n",
    "s1.difference(s2)\n",
    "s1.difference_update(s2)\n",
    "print(s1)\n",
    "print(s2)"
   ],
   "id": "7c2a6f2fa9c687c1",
   "outputs": [
    {
     "name": "stdout",
     "output_type": "stream",
     "text": [
      "{1, 2, 3}\n",
      "{4, 5, 6, 7, 8}\n"
     ]
    }
   ],
   "execution_count": 27
  },
  {
   "metadata": {
    "ExecuteTime": {
     "end_time": "2025-02-28T03:58:18.083642Z",
     "start_time": "2025-02-28T03:58:18.074403Z"
    }
   },
   "cell_type": "code",
   "source": [
    "# Symmetric Difference / symmetric_difference_update\n",
    "s1 = {1,2,3,4,5}\n",
    "s2 = {4,5,6,7,8}\n",
    "\n",
    "s1.symmetric_difference(s2)\n",
    "s1.symmetric_difference_update(s2)\n",
    "print(s1)\n",
    "print(s2)"
   ],
   "id": "6e0567f074fafba6",
   "outputs": [
    {
     "name": "stdout",
     "output_type": "stream",
     "text": [
      "{1, 2, 3, 6, 7, 8}\n",
      "{4, 5, 6, 7, 8}\n"
     ]
    }
   ],
   "execution_count": 28
  },
  {
   "metadata": {},
   "cell_type": "code",
   "outputs": [],
   "execution_count": null,
   "source": "",
   "id": "d21c788b647360d0"
  },
  {
   "metadata": {},
   "cell_type": "markdown",
   "source": [
    "# Frozen Sets\n",
    "Frozen sets in Python are immutable objects that only support methods and operators that produce a result without affecting the frozen set or sets to which they are applied."
   ],
   "id": "58972daae1590bd5"
  },
  {
   "metadata": {
    "ExecuteTime": {
     "end_time": "2025-02-28T04:03:03.963203Z",
     "start_time": "2025-02-28T04:03:03.954357Z"
    }
   },
   "cell_type": "code",
   "source": [
    "# Create a frozen set\n",
    "frozen_set = frozenset([1, 2, 3, 4, 5])\n",
    "print(frozen_set)"
   ],
   "id": "a44dbad5155a5ec7",
   "outputs": [
    {
     "name": "stdout",
     "output_type": "stream",
     "text": [
      "frozenset({1, 2, 3, 4, 5})\n"
     ]
    }
   ],
   "execution_count": 29
  },
  {
   "metadata": {
    "ExecuteTime": {
     "end_time": "2025-02-28T04:11:00.229921Z",
     "start_time": "2025-02-28T04:11:00.221351Z"
    }
   },
   "cell_type": "code",
   "source": [
    "# 3D Frozenset\n",
    "frozen_set = frozenset({(1, 2, 3), (4, 5, 6), (7, 8, 9)})\n",
    "print(frozen_set)"
   ],
   "id": "e462d87ba455499b",
   "outputs": [
    {
     "name": "stdout",
     "output_type": "stream",
     "text": [
      "frozenset({(7, 8, 9), (1, 2, 3), (4, 5, 6)})\n"
     ]
    }
   ],
   "execution_count": 30
  },
  {
   "metadata": {},
   "cell_type": "code",
   "outputs": [],
   "execution_count": null,
   "source": "",
   "id": "b515195833b3408e"
  },
  {
   "metadata": {},
   "cell_type": "markdown",
   "source": [
    "# Dictionary\n",
    "A dictionary is a collection which is unordered, changeable and indexed. In Python dictionaries are written with curly brackets, and they have keys and values.\n",
    "\n",
    "- Characteristics of dictionary\n",
    "    - Unordered\n",
    "    - Changeable\n",
    "    - Indexed\n",
    "    - No duplicates\n",
    "    - Written in curly brackets\n",
    "    - Key-Value pair"
   ],
   "id": "7c1c41531f27929d"
  },
  {
   "metadata": {
    "ExecuteTime": {
     "end_time": "2025-02-28T04:39:00.963335Z",
     "start_time": "2025-02-28T04:39:00.952802Z"
    }
   },
   "cell_type": "code",
   "source": [
    "# empty dictionary\n",
    "d = { }\n",
    "d\n",
    "\n",
    "# 1D dictionary\n",
    "d1 = { 'name': 'Abhishek' , 'age': 24, 'city': 'Bangalore'}\n",
    "d1\n",
    "\n",
    "# With Mixed keys\n",
    "d2 = {(1,2,3):1, 'Hello': 'world'}\n",
    "d2\n",
    "\n",
    "# 2D dictionary -JSON\n",
    "s = {\n",
    "    'Name': 'Abhishek',\n",
    "            'College': 'IGNOU',\n",
    "    'Sem' : 'Final_Sem',\n",
    "    'Subjects': {\n",
    "        'DSA': 90,\n",
    "        'DBMS': 75,\n",
    "        'OS': 85,\n",
    "        'CN': 80,\n",
    "        'MATH': 95,\n",
    "    }\n",
    "\n",
    "}\n",
    "s\n",
    "\n",
    "# using sequence and dict function\n",
    "d3 = dict([(1, 'apple'), (2, 'ball')])\n",
    "d3"
   ],
   "id": "232f011519a2aec1",
   "outputs": [
    {
     "data": {
      "text/plain": [
       "{1: 'apple', 2: 'ball'}"
      ]
     },
     "execution_count": 42,
     "metadata": {},
     "output_type": "execute_result"
    }
   ],
   "execution_count": 42
  },
  {
   "metadata": {
    "ExecuteTime": {
     "end_time": "2025-02-28T04:43:21.668618Z",
     "start_time": "2025-02-28T04:43:21.657846Z"
    }
   },
   "cell_type": "code",
   "source": [
    "# Accessing dictionary items\n",
    "\n",
    "# Accessing items\n",
    "d1 = { 'name': 'Abhishek' , 'age': 24, 'city': 'Bangalore'}\n",
    "print(d1['age'])\n",
    "\n",
    "# Accessing items using get\n",
    "d1.get('age')\n"
   ],
   "id": "d75ab1b2b32056e0",
   "outputs": [
    {
     "name": "stdout",
     "output_type": "stream",
     "text": [
      "24\n"
     ]
    },
    {
     "data": {
      "text/plain": [
       "24"
      ]
     },
     "execution_count": 47,
     "metadata": {},
     "output_type": "execute_result"
    }
   ],
   "execution_count": 47
  },
  {
   "metadata": {
    "ExecuteTime": {
     "end_time": "2025-02-28T04:52:19.287869Z",
     "start_time": "2025-02-28T04:52:19.278345Z"
    }
   },
   "cell_type": "code",
   "source": [
    "# Adding key value pair\n",
    "\n",
    "d1 = {'name': 'Abhishek', 'age': 24, 'city': 'Bangalore', }\n",
    "d1['email'] = 'abhishekl.c.2925@iibm.in'\n",
    "d1\n",
    "\n",
    "# update\n",
    "d1.update({'age': 25})\n",
    "d1"
   ],
   "id": "853d17b876721208",
   "outputs": [
    {
     "data": {
      "text/plain": [
       "{'name': 'Abhishek',\n",
       " 'age': 25,\n",
       " 'city': 'Bangalore',\n",
       " 'email': 'abhishekl.c.2925@iibm.in'}"
      ]
     },
     "execution_count": 58,
     "metadata": {},
     "output_type": "execute_result"
    }
   ],
   "execution_count": 58
  },
  {
   "metadata": {
    "ExecuteTime": {
     "end_time": "2025-03-02T02:15:43.770180Z",
     "start_time": "2025-03-02T02:15:43.763287Z"
    }
   },
   "cell_type": "code",
   "source": [
    "# Dictionary creation and modification example\n",
    "d1 = {'name': 'Abhishek', 'age': 24, 'city': 'Bangalore'}\n",
    "\n",
    "# Method 1: Adding a new key-value pair using direct assignment\n",
    "d1['email'] = 'abhishek.c.2925@iibm.in'\n",
    "print(\"After adding email:\", d1)\n",
    "\n",
    "# Method 2: Using update() - can modify multiple key-value pairs at once\n",
    "d1.update({\n",
    "    'age': 25,\n",
    "    'phone': '1234567890',\n",
    "    'profession': 'Data Scientist'\n",
    "})\n",
    "print(\"After update():\", d1)\n",
    "\n",
    "# Alternative: Update with keyword arguments (more concise)\n",
    "d1.update(city='Mumbai', salary=75000)\n",
    "print(\"After keyword update:\", d1)"
   ],
   "id": "4cc7c2718fe748f3",
   "outputs": [
    {
     "name": "stdout",
     "output_type": "stream",
     "text": [
      "After adding email: {'name': 'Abhishek', 'age': 24, 'city': 'Bangalore', 'email': 'abhishek.c.2925@iibm.in'}\n",
      "After update(): {'name': 'Abhishek', 'age': 25, 'city': 'Bangalore', 'email': 'abhishek.c.2925@iibm.in', 'phone': '1234567890', 'profession': 'Data Scientist'}\n",
      "After keyword update: {'name': 'Abhishek', 'age': 25, 'city': 'Mumbai', 'email': 'abhishek.c.2925@iibm.in', 'phone': '1234567890', 'profession': 'Data Scientist', 'salary': 75000}\n"
     ]
    }
   ],
   "execution_count": 4
  },
  {
   "metadata": {
    "ExecuteTime": {
     "end_time": "2025-02-28T04:50:11.719744Z",
     "start_time": "2025-02-28T04:50:11.709353Z"
    }
   },
   "cell_type": "code",
   "source": [
    "# Remove key value pair\n",
    "# pop is delete the key value pair\n",
    "d1 = {'name': 'Abhishek', 'age': 24, 'city': 'Bangalore', 'email': 'abhishekl.c.2925@iibm.in'}\n",
    "d1.pop('age')\n",
    "d1\n",
    "\n",
    "# popitem is delete the last key value pair\n",
    "d1.popitem()\n",
    "print(d1)\n",
    "\n",
    "# del is delete the key value pair\n",
    "del d1 ['name']\n",
    "print(d1)\n",
    "\n",
    "# clear is delete all key value pair\n",
    "d1.clear()\n",
    "print(d1)"
   ],
   "id": "a23e6ed17f0a8538",
   "outputs": [
    {
     "name": "stdout",
     "output_type": "stream",
     "text": [
      "{'name': 'Abhishek', 'city': 'Bangalore'}\n",
      "{'city': 'Bangalore'}\n",
      "{}\n"
     ]
    }
   ],
   "execution_count": 57
  },
  {
   "metadata": {},
   "cell_type": "markdown",
   "source": [
    "# Dictionary Operation\n",
    "- Membership\n",
    "- Iteration"
   ],
   "id": "b3a16945541d5c41"
  },
  {
   "metadata": {
    "ExecuteTime": {
     "end_time": "2025-02-28T04:56:32.686128Z",
     "start_time": "2025-02-28T04:56:32.678003Z"
    }
   },
   "cell_type": "code",
   "source": [
    "print(s)\n",
    "'Name' in s"
   ],
   "id": "7362801e573a81c",
   "outputs": [
    {
     "name": "stdout",
     "output_type": "stream",
     "text": [
      "{'Name': 'Abhishek', 'College': 'IGNOU', 'Sem': 'Final_Sem', 'Subjects': {'DSA': 90, 'DBMS': 75, 'OS': 85, 'CN': 80, 'MATH': 95}}\n"
     ]
    },
    {
     "data": {
      "text/plain": [
       "True"
      ]
     },
     "execution_count": 60,
     "metadata": {},
     "output_type": "execute_result"
    }
   ],
   "execution_count": 60
  },
  {
   "metadata": {
    "ExecuteTime": {
     "end_time": "2025-02-28T05:00:09.469991Z",
     "start_time": "2025-02-28T05:00:09.457043Z"
    }
   },
   "cell_type": "code",
   "source": [
    "d = {'name' : 'manish', 'age' : 34, 'city' : 'pune'}\n",
    "for i in d:\n",
    "    print(i,d[i])"
   ],
   "id": "2893d5a0faf34a80",
   "outputs": [
    {
     "name": "stdout",
     "output_type": "stream",
     "text": [
      "name manish\n",
      "age 34\n",
      "city pune\n"
     ]
    }
   ],
   "execution_count": 61
  },
  {
   "metadata": {},
   "cell_type": "code",
   "outputs": [],
   "execution_count": null,
   "source": "",
   "id": "3faddffbe6b16cf5"
  },
  {
   "metadata": {},
   "cell_type": "markdown",
   "source": [
    "# Dictionary Functions\n",
    "\n",
    "- len\n",
    "- copy\n",
    "- fromkeys\n",
    "- items\n",
    "- keys\n",
    "- values\n",
    "- update\n",
    "- setdefault\n",
    "- pop"
   ],
   "id": "690f551186b989a0"
  },
  {
   "metadata": {
    "ExecuteTime": {
     "end_time": "2025-02-28T05:03:30.803372Z",
     "start_time": "2025-02-28T05:03:30.796518Z"
    }
   },
   "cell_type": "code",
   "source": [
    "# len/sorted\n",
    "len(d)\n",
    "print(d)\n",
    "sorted(d, reverse = True)\n",
    "max(d)"
   ],
   "id": "d875ea3579dd2ca1",
   "outputs": [
    {
     "name": "stdout",
     "output_type": "stream",
     "text": [
      "{'name': 'manish', 'age': 34, 'city': 'pune'}\n"
     ]
    },
    {
     "data": {
      "text/plain": [
       "'name'"
      ]
     },
     "execution_count": 66,
     "metadata": {},
     "output_type": "execute_result"
    }
   ],
   "execution_count": 66
  },
  {
   "metadata": {
    "ExecuteTime": {
     "end_time": "2025-02-28T05:07:00.090711Z",
     "start_time": "2025-02-28T05:07:00.084911Z"
    }
   },
   "cell_type": "code",
   "source": [
    "# items/keys/values\n",
    "print(d)\n",
    "\n",
    "print(d.items())\n",
    "print(d.keys())\n",
    "print(d.values())"
   ],
   "id": "29402fd202ef21ed",
   "outputs": [
    {
     "name": "stdout",
     "output_type": "stream",
     "text": [
      "{'name': 'manish', 'age': 34, 'city': 'pune'}\n",
      "dict_items([('name', 'manish'), ('age', 34), ('city', 'pune')])\n",
      "dict_keys(['name', 'age', 'city'])\n",
      "dict_values(['manish', 34, 'pune'])\n"
     ]
    }
   ],
   "execution_count": 68
  },
  {
   "metadata": {
    "ExecuteTime": {
     "end_time": "2025-02-28T05:10:01.853016Z",
     "start_time": "2025-02-28T05:10:01.845950Z"
    }
   },
   "cell_type": "code",
   "source": [
    "# update\n",
    "d1 = {1:2, 3:4, 4:5, 6:7}\n",
    "d2 = {4:7, 6:8}\n",
    "\n",
    "d1.update(d2)\n",
    "print(d1)"
   ],
   "id": "d0bc831a56a11ac1",
   "outputs": [
    {
     "name": "stdout",
     "output_type": "stream",
     "text": [
      "{1: 2, 3: 4, 4: 7, 6: 8}\n"
     ]
    }
   ],
   "execution_count": 69
  },
  {
   "metadata": {},
   "cell_type": "markdown",
   "source": [
    "# Dictionary Comprehension\n",
    "\n",
    "- Dictionary comprehension is an elegant and concise way to create dictionaries in Python.\n",
    "- Dictionary comprehension consists of an expression pair (key: value) followed by a for statement inside curly braces {}."
   ],
   "id": "c68d7923d9ff911d"
  },
  {
   "metadata": {
    "ExecuteTime": {
     "end_time": "2025-02-28T05:20:50.473777Z",
     "start_time": "2025-02-28T05:20:50.413842Z"
    }
   },
   "cell_type": "code",
   "source": [
    "# Print 1st 10 numbers and their squares\n",
    "{i: i**2 for i in range(1,11)}"
   ],
   "id": "1d27a95f034a435e",
   "outputs": [
    {
     "data": {
      "text/plain": [
       "{1: 1, 2: 4, 3: 9, 4: 16, 5: 25, 6: 36, 7: 49, 8: 64, 9: 81, 10: 100}"
      ]
     },
     "execution_count": 70,
     "metadata": {},
     "output_type": "execute_result"
    }
   ],
   "execution_count": 70
  },
  {
   "metadata": {
    "ExecuteTime": {
     "end_time": "2025-02-28T05:29:51.564623Z",
     "start_time": "2025-02-28T05:29:51.557221Z"
    }
   },
   "cell_type": "code",
   "source": [
    "# using existing dict\n",
    "distance = {'delhi' : 1000, 'mumbai' : 2000, 'pune' : 1500}\n",
    "distance_in_km = {key:value*0.62 for (key,value) in distance.items()}\n",
    "print(distance_in_km)"
   ],
   "id": "cbee03faa959554f",
   "outputs": [
    {
     "name": "stdout",
     "output_type": "stream",
     "text": [
      "{'delhi': 620.0, 'mumbai': 1240.0, 'pune': 930.0}\n"
     ]
    }
   ],
   "execution_count": 75
  },
  {
   "metadata": {
    "ExecuteTime": {
     "end_time": "2025-02-28T05:31:33.809512Z",
     "start_time": "2025-02-28T05:31:33.800125Z"
    }
   },
   "cell_type": "code",
   "source": [
    "# using zip\n",
    "days = ['mon','tue','wed','thu','fri']\n",
    "temp = [30,32,34,36,38]\n",
    "weather = {days:temp for days,temp in zip(days,temp)}\n",
    "print(weather)"
   ],
   "id": "373a7c336716ee87",
   "outputs": [
    {
     "name": "stdout",
     "output_type": "stream",
     "text": [
      "{'mon': 30, 'tue': 32, 'wed': 34, 'thu': 36, 'fri': 38}\n"
     ]
    }
   ],
   "execution_count": 76
  },
  {
   "metadata": {
    "ExecuteTime": {
     "end_time": "2025-02-28T05:32:39.867979Z",
     "start_time": "2025-02-28T05:32:39.861096Z"
    }
   },
   "cell_type": "code",
   "source": [
    "# using if condition\n",
    "temp = [30,32,34,36,38]\n",
    "weather = {days:temp for days,temp in zip(days,temp) if temp > 32}\n",
    "print(weather)"
   ],
   "id": "67a30999d385ea5a",
   "outputs": [
    {
     "name": "stdout",
     "output_type": "stream",
     "text": [
      "{'wed': 34, 'thu': 36, 'fri': 38}\n"
     ]
    }
   ],
   "execution_count": 77
  },
  {
   "metadata": {
    "ExecuteTime": {
     "end_time": "2025-02-28T14:48:04.509337Z",
     "start_time": "2025-02-28T14:48:04.502014Z"
    }
   },
   "cell_type": "code",
   "source": [
    "# Nested Dictionary Comprehension\n",
    "\n",
    "# Create a dictionary with nested dictionary comprehension\n",
    "nested_dict = {i: {j: f'{i} x {j} = {i*j}' for j in range(1, 6)} for i in range(2, 5)}\n",
    "print(nested_dict)"
   ],
   "id": "fe49ac6b5c565e17",
   "outputs": [
    {
     "name": "stdout",
     "output_type": "stream",
     "text": [
      "{2: {1: '2 x 1 = 2', 2: '2 x 2 = 4', 3: '2 x 3 = 6', 4: '2 x 4 = 8', 5: '2 x 5 = 10'}, 3: {1: '3 x 1 = 3', 2: '3 x 2 = 6', 3: '3 x 3 = 9', 4: '3 x 4 = 12', 5: '3 x 5 = 15'}, 4: {1: '4 x 1 = 4', 2: '4 x 2 = 8', 3: '4 x 3 = 12', 4: '4 x 4 = 16', 5: '4 x 5 = 20'}}\n"
     ]
    }
   ],
   "execution_count": 1
  },
  {
   "metadata": {},
   "cell_type": "markdown",
   "source": "",
   "id": "4dc4af9a2a445c75"
  }
 ],
 "metadata": {
  "kernelspec": {
   "display_name": "Python 3",
   "language": "python",
   "name": "python3"
  },
  "language_info": {
   "codemirror_mode": {
    "name": "ipython",
    "version": 2
   },
   "file_extension": ".py",
   "mimetype": "text/x-python",
   "name": "python",
   "nbconvert_exporter": "python",
   "pygments_lexer": "ipython2",
   "version": "2.7.6"
  }
 },
 "nbformat": 4,
 "nbformat_minor": 5
}
