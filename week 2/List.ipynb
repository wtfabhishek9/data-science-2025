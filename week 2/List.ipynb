{
 "cells": [
  {
   "metadata": {},
   "cell_type": "markdown",
   "source": "Creating a list",
   "id": "94a95d7910e3ebb9"
  },
  {
   "metadata": {
    "ExecuteTime": {
     "end_time": "2025-02-15T05:16:56.254005Z",
     "start_time": "2025-02-15T05:16:56.243916Z"
    }
   },
   "cell_type": "code",
   "source": [
    "# Empty list\n",
    "print([])\n",
    "\n",
    "# 1D list -> Homogeneous list\n",
    "print([1,2,3,4])\n",
    "\n",
    "# 2D list\n",
    "print([1,2,3,4,[3,4,5]])\n",
    "\n",
    "# 3D list\n",
    "print([[[2,3],[3,4],[4,5],[5,6]]])\n",
    "\n",
    "#Hatetrogenous list\n",
    "print([1,True,3.4,5+6j,'hello'])\n",
    "\n",
    "# using Type Conversion\n",
    "print(list(\"hello\"))"
   ],
   "id": "752e5335cb3b9ab3",
   "outputs": [
    {
     "name": "stdout",
     "output_type": "stream",
     "text": [
      "[]\n",
      "[1, 2, 3, 4]\n",
      "[1, 2, 3, 4, [3, 4, 5]]\n",
      "[[[2, 3], [3, 4], [4, 5], [5, 6]]]\n",
      "[1, True, 3.4, (5+6j), 'hello']\n",
      "['h', 'e', 'l', 'l', 'o']\n"
     ]
    }
   ],
   "execution_count": 1
  },
  {
   "metadata": {},
   "cell_type": "markdown",
   "source": "Accessing Items from List",
   "id": "1f5eebf9f1b8cc2f"
  },
  {
   "metadata": {
    "ExecuteTime": {
     "end_time": "2025-02-15T05:16:56.271801Z",
     "start_time": "2025-02-15T05:16:56.265829Z"
    }
   },
   "cell_type": "code",
   "source": [
    "# Indexing\n",
    "L = [1,2,3,4,5]\n",
    "print(L[0])\n",
    "\n",
    "# Slicing\n",
    "L = [1,2,3,4,5]\n",
    "print(L[3:4])"
   ],
   "id": "a323be52a8d772da",
   "outputs": [
    {
     "name": "stdout",
     "output_type": "stream",
     "text": [
      "1\n",
      "[4]\n"
     ]
    }
   ],
   "execution_count": 2
  },
  {
   "metadata": {},
   "cell_type": "markdown",
   "source": "Adding item to a list",
   "id": "4e854be46cf214ba"
  },
  {
   "metadata": {
    "ExecuteTime": {
     "end_time": "2025-02-15T05:16:56.678725Z",
     "start_time": "2025-02-15T05:16:56.673615Z"
    }
   },
   "cell_type": "code",
   "source": [
    "# append() method\n",
    "\n",
    "L = [1, 2, 3, 4, 5]\n",
    "L.append(6)\n",
    "print(L)"
   ],
   "id": "e7b3340ededba3f0",
   "outputs": [
    {
     "name": "stdout",
     "output_type": "stream",
     "text": [
      "[1, 2, 3, 4, 5, 6]\n"
     ]
    }
   ],
   "execution_count": 3
  },
  {
   "metadata": {
    "ExecuteTime": {
     "end_time": "2025-02-15T05:16:56.702898Z",
     "start_time": "2025-02-15T05:16:56.698827Z"
    }
   },
   "cell_type": "code",
   "source": [
    "# extend\n",
    "L = [1,2,3,4,5]\n",
    "L.extend([6,7,8,9,10])\n",
    "print(L)"
   ],
   "id": "328ba314219486cc",
   "outputs": [
    {
     "name": "stdout",
     "output_type": "stream",
     "text": [
      "[1, 2, 3, 4, 5, 6, 7, 8, 9, 10]\n"
     ]
    }
   ],
   "execution_count": 4
  },
  {
   "metadata": {
    "ExecuteTime": {
     "end_time": "2025-02-15T05:16:56.745348Z",
     "start_time": "2025-02-15T05:16:56.738967Z"
    }
   },
   "cell_type": "code",
   "source": [
    "# insert\n",
    "L = [1,2,3,4,5]\n",
    "L.insert(5,100)\n",
    "print(L)"
   ],
   "id": "443286d8091a7347",
   "outputs": [
    {
     "name": "stdout",
     "output_type": "stream",
     "text": [
      "[1, 2, 3, 4, 5, 100]\n"
     ]
    }
   ],
   "execution_count": 5
  },
  {
   "metadata": {},
   "cell_type": "markdown",
   "source": "Editing items in a list",
   "id": "a2892e1d34f8c1d2"
  },
  {
   "metadata": {
    "ExecuteTime": {
     "end_time": "2025-02-15T05:16:56.775406Z",
     "start_time": "2025-02-15T05:16:56.769775Z"
    }
   },
   "cell_type": "code",
   "source": [
    "L = [1,2,3,4,5]\n",
    "\n",
    "# editing with indexing\n",
    "L [-1] = 500\n",
    "\n",
    "# editing with slicing\n",
    "L[1:3] = [200,300]\n",
    "\n",
    "print(L)"
   ],
   "id": "fce016828fe1b006",
   "outputs": [
    {
     "name": "stdout",
     "output_type": "stream",
     "text": [
      "[1, 200, 300, 4, 500]\n"
     ]
    }
   ],
   "execution_count": 6
  },
  {
   "metadata": {},
   "cell_type": "markdown",
   "source": "Delete item from a list",
   "id": "a1fef8a51d51b906"
  },
  {
   "metadata": {
    "ExecuteTime": {
     "end_time": "2025-02-15T05:16:56.835647Z",
     "start_time": "2025-02-15T05:16:56.830492Z"
    }
   },
   "cell_type": "code",
   "source": [
    "# del\n",
    "L = [1,2,3,4,5]\n",
    "\n",
    "# indexing\n",
    "del L[-1]\n",
    "\n",
    "# slicing\n",
    "del L[1:3]\n",
    "\n",
    "print(L)\n"
   ],
   "id": "de8c373e820333b",
   "outputs": [
    {
     "name": "stdout",
     "output_type": "stream",
     "text": [
      "[1, 4]\n"
     ]
    }
   ],
   "execution_count": 7
  },
  {
   "metadata": {
    "ExecuteTime": {
     "end_time": "2025-02-15T05:16:56.877787Z",
     "start_time": "2025-02-15T05:16:56.872261Z"
    }
   },
   "cell_type": "code",
   "source": [
    "# remove\n",
    "L = [1,2,3,4,5]\n",
    "L.remove(1)\n",
    "print(L)"
   ],
   "id": "20ed2b1919676a27",
   "outputs": [
    {
     "name": "stdout",
     "output_type": "stream",
     "text": [
      "[2, 3, 4, 5]\n"
     ]
    }
   ],
   "execution_count": 8
  },
  {
   "metadata": {
    "ExecuteTime": {
     "end_time": "2025-02-15T05:16:56.913842Z",
     "start_time": "2025-02-15T05:16:56.907961Z"
    }
   },
   "cell_type": "code",
   "source": [
    "# pop\n",
    "L = [1,2,3,4,5]\n",
    "L.pop(2)\n",
    "print(L)"
   ],
   "id": "cd8735fe17d418bd",
   "outputs": [
    {
     "name": "stdout",
     "output_type": "stream",
     "text": [
      "[1, 2, 4, 5]\n"
     ]
    }
   ],
   "execution_count": 9
  },
  {
   "metadata": {
    "ExecuteTime": {
     "end_time": "2025-02-15T05:16:56.974839Z",
     "start_time": "2025-02-15T05:16:56.969978Z"
    }
   },
   "cell_type": "code",
   "source": [
    "# clear\n",
    "L = [1,2,3,4,5]\n",
    "L.clear()\n",
    "print(L)"
   ],
   "id": "a5ccdd24e1bfa9d8",
   "outputs": [
    {
     "name": "stdout",
     "output_type": "stream",
     "text": [
      "[]\n"
     ]
    }
   ],
   "execution_count": 10
  },
  {
   "metadata": {},
   "cell_type": "markdown",
   "source": [
    "Operations on List\n",
    "(Arithmetic Operations)\n",
    "(Membership Operations)\n",
    "(Loop)"
   ],
   "id": "91963517d18e1d9e"
  },
  {
   "metadata": {
    "ExecuteTime": {
     "end_time": "2025-02-15T05:16:57.031522Z",
     "start_time": "2025-02-15T05:16:57.023433Z"
    }
   },
   "cell_type": "code",
   "source": [
    "# Arithmetic Operations on List (Concatenation) ( + , * )\n",
    "L1 = [1,2,3,4,5]\n",
    "L2 = [6,7,8,9,10]\n",
    "\n",
    "print(L1 + L2)"
   ],
   "id": "6693a03490ac35c3",
   "outputs": [
    {
     "name": "stdout",
     "output_type": "stream",
     "text": [
      "[1, 2, 3, 4, 5, 6, 7, 8, 9, 10]\n"
     ]
    }
   ],
   "execution_count": 11
  },
  {
   "metadata": {
    "ExecuteTime": {
     "end_time": "2025-02-15T05:16:57.081642Z",
     "start_time": "2025-02-15T05:16:57.076133Z"
    }
   },
   "cell_type": "code",
   "source": [
    "# Arithmetic Operations on List (Repetition) ( + , * )\n",
    "L = [1,2,3,4,5]\n",
    "print(L*3)"
   ],
   "id": "431706b67fa61bd7",
   "outputs": [
    {
     "name": "stdout",
     "output_type": "stream",
     "text": [
      "[1, 2, 3, 4, 5, 1, 2, 3, 4, 5, 1, 2, 3, 4, 5]\n"
     ]
    }
   ],
   "execution_count": 12
  },
  {
   "metadata": {
    "ExecuteTime": {
     "end_time": "2025-02-15T05:16:57.137117Z",
     "start_time": "2025-02-15T05:16:57.131392Z"
    }
   },
   "cell_type": "code",
   "source": [
    "# Membership Operations (in, not in)\n",
    "L = [1,2,3,4,5]\n",
    "print(1 in L)\n",
    "print(10 not in L)"
   ],
   "id": "d36467c285e8a609",
   "outputs": [
    {
     "name": "stdout",
     "output_type": "stream",
     "text": [
      "True\n",
      "True\n"
     ]
    }
   ],
   "execution_count": 13
  },
  {
   "metadata": {
    "ExecuteTime": {
     "end_time": "2025-02-15T05:16:57.196265Z",
     "start_time": "2025-02-15T05:16:57.189007Z"
    }
   },
   "cell_type": "code",
   "source": [
    "# Loop\n",
    "L1 = [1,2,3,4,5]\n",
    "L2 = [6,7,8,9,10]\n",
    "L3 =[ [11,12],13,14,15]\n",
    "for i in L3:\n",
    "    print(i)"
   ],
   "id": "f4128da06abb6a8d",
   "outputs": [
    {
     "name": "stdout",
     "output_type": "stream",
     "text": [
      "[11, 12]\n",
      "13\n",
      "14\n",
      "15\n"
     ]
    }
   ],
   "execution_count": 14
  },
  {
   "metadata": {},
   "cell_type": "markdown",
   "source": "List functions",
   "id": "79ad61cbe2109c57"
  },
  {
   "metadata": {
    "ExecuteTime": {
     "end_time": "2025-02-15T05:16:57.240474Z",
     "start_time": "2025-02-15T05:16:57.235238Z"
    }
   },
   "cell_type": "code",
   "source": [
    "# len/min/max/sorted\n",
    "\n",
    "L = [1,2,3,4,5]\n",
    "print(len(L))\n",
    "print(min(L))\n",
    "print(max(L))\n",
    "print(sorted(L))"
   ],
   "id": "8a674867972c1342",
   "outputs": [
    {
     "name": "stdout",
     "output_type": "stream",
     "text": [
      "5\n",
      "1\n",
      "5\n",
      "[1, 2, 3, 4, 5]\n"
     ]
    }
   ],
   "execution_count": 15
  },
  {
   "metadata": {
    "ExecuteTime": {
     "end_time": "2025-02-15T05:16:57.282611Z",
     "start_time": "2025-02-15T05:16:57.277930Z"
    }
   },
   "cell_type": "code",
   "source": [
    "# count\n",
    "\n",
    "L = [1,2,3,4,5,1,2,3,4,5]\n",
    "print(L.count(1))"
   ],
   "id": "10bbea1d0ed9ce1a",
   "outputs": [
    {
     "name": "stdout",
     "output_type": "stream",
     "text": [
      "2\n"
     ]
    }
   ],
   "execution_count": 16
  },
  {
   "metadata": {
    "ExecuteTime": {
     "end_time": "2025-02-15T05:16:57.341605Z",
     "start_time": "2025-02-15T05:16:57.336677Z"
    }
   },
   "cell_type": "code",
   "source": [
    "# index\n",
    "\n",
    "L = [1,2,3,4,5]\n",
    "print(L.index(4))"
   ],
   "id": "93e75fd2f0d3381a",
   "outputs": [
    {
     "name": "stdout",
     "output_type": "stream",
     "text": [
      "3\n"
     ]
    }
   ],
   "execution_count": 17
  },
  {
   "metadata": {
    "ExecuteTime": {
     "end_time": "2025-02-15T05:16:57.384987Z",
     "start_time": "2025-02-15T05:16:57.379835Z"
    }
   },
   "cell_type": "code",
   "source": [
    "# Reverse\n",
    "\n",
    "L = [1,2,3,4,5]\n",
    "\n",
    "# Permanent reverse the list\n",
    "L.reverse()\n",
    "print(L)"
   ],
   "id": "ee3fbd9628398e91",
   "outputs": [
    {
     "name": "stdout",
     "output_type": "stream",
     "text": [
      "[5, 4, 3, 2, 1]\n"
     ]
    }
   ],
   "execution_count": 18
  },
  {
   "metadata": {
    "ExecuteTime": {
     "end_time": "2025-02-15T05:16:57.441642Z",
     "start_time": "2025-02-15T05:16:57.435210Z"
    }
   },
   "cell_type": "code",
   "source": [
    "# Copy\n",
    "\n",
    "L = [1,2,3,4,5]\n",
    "L1 = L.copy()\n",
    "print(L1)\n",
    "print(id(L))\n",
    "print(id(L1))"
   ],
   "id": "3b005bd76deb3bfd",
   "outputs": [
    {
     "name": "stdout",
     "output_type": "stream",
     "text": [
      "[1, 2, 3, 4, 5]\n",
      "1776010314816\n",
      "1776010318528\n"
     ]
    }
   ],
   "execution_count": 19
  },
  {
   "metadata": {
    "ExecuteTime": {
     "end_time": "2025-02-15T05:16:57.479804Z",
     "start_time": "2025-02-15T05:16:57.473364Z"
    }
   },
   "cell_type": "code",
   "source": [
    "# Clear\n",
    "\n",
    "L = [1,2,3,4,5]\n",
    "L.clear()\n",
    "print(L)"
   ],
   "id": "a32d96f97ebf090c",
   "outputs": [
    {
     "name": "stdout",
     "output_type": "stream",
     "text": [
      "[]\n"
     ]
    }
   ],
   "execution_count": 20
  },
  {
   "metadata": {
    "ExecuteTime": {
     "end_time": "2025-02-15T05:16:57.539383Z",
     "start_time": "2025-02-15T05:16:57.534812Z"
    }
   },
   "cell_type": "code",
   "source": [
    "# Sort\n",
    "\n",
    "L = [5,3,8,6,2,7,1,4,10,9]\n",
    "L.sort()\n",
    "print(L)"
   ],
   "id": "73a61c6d68499bec",
   "outputs": [
    {
     "name": "stdout",
     "output_type": "stream",
     "text": [
      "[1, 2, 3, 4, 5, 6, 7, 8, 9, 10]\n"
     ]
    }
   ],
   "execution_count": 21
  },
  {
   "metadata": {},
   "cell_type": "markdown",
   "source": [
    "# List Comprehension\n",
    "\n",
    "List Comprehension provides a concise way of creating lists.\n",
    "\n",
    "Newlist = [ expression for item in iterable if condition == True ]\n",
    "\n",
    "advantages of using list comprehension:\n",
    "- More time-efficient and space-efficient than loops.\n",
    "- Require fewer lines off code.\n",
    "- Transforming iterative statement into a formula."
   ],
   "id": "d750ded41a92e932"
  },
  {
   "metadata": {
    "ExecuteTime": {
     "end_time": "2025-02-15T05:16:57.592777Z",
     "start_time": "2025-02-15T05:16:57.587677Z"
    }
   },
   "cell_type": "code",
   "source": [
    "# Add 1 to 10 numbers to a list\n",
    "\n",
    "L =[]\n",
    "\n",
    "for i in range(1,11):\n",
    "    L.append(i)\n",
    "\n",
    "print(L)"
   ],
   "id": "d6f015db0d71ef28",
   "outputs": [
    {
     "name": "stdout",
     "output_type": "stream",
     "text": [
      "[1, 2, 3, 4, 5, 6, 7, 8, 9, 10]\n"
     ]
    }
   ],
   "execution_count": 22
  },
  {
   "metadata": {
    "ExecuteTime": {
     "end_time": "2025-02-15T05:16:57.638552Z",
     "start_time": "2025-02-15T05:16:57.632896Z"
    }
   },
   "cell_type": "code",
   "source": [
    "# Using List Comprehension\n",
    "L = [i for i in range(1,11)]\n",
    "print(L)"
   ],
   "id": "384753022935794b",
   "outputs": [
    {
     "name": "stdout",
     "output_type": "stream",
     "text": [
      "[1, 2, 3, 4, 5, 6, 7, 8, 9, 10]\n"
     ]
    }
   ],
   "execution_count": 23
  },
  {
   "metadata": {
    "ExecuteTime": {
     "end_time": "2025-02-15T05:16:57.695305Z",
     "start_time": "2025-02-15T05:16:57.681304Z"
    }
   },
   "cell_type": "code",
   "source": [
    "# Add squares\n",
    "L = [1,2,3,4,5]\n",
    "\n",
    "[i**2 for i in L]"
   ],
   "id": "bc94cfa6874b0f55",
   "outputs": [
    {
     "data": {
      "text/plain": [
       "[1, 4, 9, 16, 25]"
      ]
     },
     "execution_count": 24,
     "metadata": {},
     "output_type": "execute_result"
    }
   ],
   "execution_count": 24
  },
  {
   "metadata": {
    "ExecuteTime": {
     "end_time": "2025-02-15T05:16:57.731078Z",
     "start_time": "2025-02-15T05:16:57.722860Z"
    }
   },
   "cell_type": "code",
   "source": [
    "# Add squares of even numbers\n",
    "L = [1,2,3,4,5]\n",
    "\n",
    "[i**2 for i in L if i%2 == 0]"
   ],
   "id": "66843747a15735d",
   "outputs": [
    {
     "data": {
      "text/plain": [
       "[4, 16]"
      ]
     },
     "execution_count": 25,
     "metadata": {},
     "output_type": "execute_result"
    }
   ],
   "execution_count": 25
  },
  {
   "metadata": {
    "ExecuteTime": {
     "end_time": "2025-02-15T05:16:57.779932Z",
     "start_time": "2025-02-15T05:16:57.772272Z"
    }
   },
   "cell_type": "code",
   "source": [
    "# Print all numbers divisible by 5 in the range of 1 to 50\n",
    "\n",
    "[i for i in range (1,51) if i%5 ==0]"
   ],
   "id": "316bd39af61decda",
   "outputs": [
    {
     "data": {
      "text/plain": [
       "[5, 10, 15, 20, 25, 30, 35, 40, 45, 50]"
      ]
     },
     "execution_count": 26,
     "metadata": {},
     "output_type": "execute_result"
    }
   ],
   "execution_count": 26
  },
  {
   "metadata": {
    "ExecuteTime": {
     "end_time": "2025-02-15T05:16:57.844759Z",
     "start_time": "2025-02-15T05:16:57.836335Z"
    }
   },
   "cell_type": "code",
   "source": [
    "# find language which start with letter p\n",
    "\n",
    "languages = ['python','java','c','c++','perl','ruby','php','javascript']\n",
    "\n",
    "# [i for i in languages if i[0] == 'p']\n",
    "\n",
    "[language for language in languages if language.startswith('p')]"
   ],
   "id": "a221e3a0b7bfbd3b",
   "outputs": [
    {
     "data": {
      "text/plain": [
       "['python', 'perl', 'php']"
      ]
     },
     "execution_count": 27,
     "metadata": {},
     "output_type": "execute_result"
    }
   ],
   "execution_count": 27
  },
  {
   "metadata": {
    "ExecuteTime": {
     "end_time": "2025-02-15T05:16:57.880829Z",
     "start_time": "2025-02-15T05:16:57.873477Z"
    }
   },
   "cell_type": "code",
   "source": [
    "# Nested if with List comprehension\n",
    "basket = ['apple', 'orange', 'apple', 'pear', 'orange', 'banana']\n",
    "my_fruits = ['apple', 'orange']\n",
    "\n",
    "# add new list from my_fruits and item if the fruit exits in basket and also start with 'a'\n",
    "[fruit for fruit in basket if fruit in my_fruits if fruit.startswith('a')]"
   ],
   "id": "8801e60ea26f43c4",
   "outputs": [
    {
     "data": {
      "text/plain": [
       "['apple', 'apple']"
      ]
     },
     "execution_count": 28,
     "metadata": {},
     "output_type": "execute_result"
    }
   ],
   "execution_count": 28
  },
  {
   "metadata": {
    "ExecuteTime": {
     "end_time": "2025-02-15T05:16:57.929051Z",
     "start_time": "2025-02-15T05:16:57.922130Z"
    }
   },
   "cell_type": "code",
   "source": [
    "# print a 3(3,3) matrix using list comprehension -> Nestd list comprehension\n",
    "\n",
    "[[i*j for i in range(1,4)] for j in range(1,4)]"
   ],
   "id": "b8c3338ad2c743fc",
   "outputs": [
    {
     "data": {
      "text/plain": [
       "[[1, 2, 3], [2, 4, 6], [3, 6, 9]]"
      ]
     },
     "execution_count": 29,
     "metadata": {},
     "output_type": "execute_result"
    }
   ],
   "execution_count": 29
  },
  {
   "metadata": {
    "ExecuteTime": {
     "end_time": "2025-02-15T05:16:57.977416Z",
     "start_time": "2025-02-15T05:16:57.970067Z"
    }
   },
   "cell_type": "code",
   "source": [
    "# cartesian product -> List comprehension on 2 lists together\n",
    "\n",
    "L1 = [1,2,3,4]\n",
    "L2 = [5,6,7,8]\n",
    "\n",
    "[i*j for i in L1 for j in L2]"
   ],
   "id": "7967d1229b47ba39",
   "outputs": [
    {
     "data": {
      "text/plain": [
       "[5, 6, 7, 8, 10, 12, 14, 16, 15, 18, 21, 24, 20, 24, 28, 32]"
      ]
     },
     "execution_count": 30,
     "metadata": {},
     "output_type": "execute_result"
    }
   ],
   "execution_count": 30
  },
  {
   "metadata": {},
   "cell_type": "markdown",
   "source": [
    "# 2 Ways to traverse a list\n",
    "- Itemwise\n",
    "- indexwise"
   ],
   "id": "aa731840d55beb88"
  },
  {
   "metadata": {
    "ExecuteTime": {
     "end_time": "2025-02-15T05:16:58.034437Z",
     "start_time": "2025-02-15T05:16:58.029040Z"
    }
   },
   "cell_type": "code",
   "source": [
    "# itemwise\n",
    "L = [1,2,3,4,5]\n",
    "for i in L:\n",
    "    print(i)"
   ],
   "id": "43e258130b595306",
   "outputs": [
    {
     "name": "stdout",
     "output_type": "stream",
     "text": [
      "1\n",
      "2\n",
      "3\n",
      "4\n",
      "5\n"
     ]
    }
   ],
   "execution_count": 31
  },
  {
   "metadata": {
    "ExecuteTime": {
     "end_time": "2025-02-15T05:16:58.086044Z",
     "start_time": "2025-02-15T05:16:58.080261Z"
    }
   },
   "cell_type": "code",
   "source": [
    "# indexwise\n",
    "\n",
    "L = [1,2,3,4,5]\n",
    "for i in range(0, len(L)):\n",
    "    print(i)"
   ],
   "id": "466619492ef1892",
   "outputs": [
    {
     "name": "stdout",
     "output_type": "stream",
     "text": [
      "0\n",
      "1\n",
      "2\n",
      "3\n",
      "4\n"
     ]
    }
   ],
   "execution_count": 32
  },
  {
   "metadata": {},
   "cell_type": "markdown",
   "source": [
    "# ZiP\n",
    "the zip() function return a zip object which is an iterator of tuples where the first item in each passed iterator is paired together, and then the second item in each passed iterator are paired together.\n",
    "\n",
    "if the passed iterators have different lengths, the iterator with the least items decides the length of the new iterator."
   ],
   "id": "90f55555afd78b95"
  },
  {
   "metadata": {
    "ExecuteTime": {
     "end_time": "2025-02-15T05:16:58.120719Z",
     "start_time": "2025-02-15T05:16:58.113012Z"
    }
   },
   "cell_type": "code",
   "source": [
    "# write a program to add item 2 lists index-wise\n",
    "\n",
    "L1 = [1,2,3,4,5]\n",
    "L2 = [-1,-2,-3,-4,-5]\n",
    "\n",
    "list(zip(L1,L2))\n",
    "\n",
    "[i+j for i,j in zip(L1,L2)]"
   ],
   "id": "7414e4681082ec68",
   "outputs": [
    {
     "data": {
      "text/plain": [
       "[0, 0, 0, 0, 0]"
      ]
     },
     "execution_count": 33,
     "metadata": {},
     "output_type": "execute_result"
    }
   ],
   "execution_count": 33
  },
  {
   "metadata": {},
   "cell_type": "markdown",
   "source": [
    "# Disadvantages of python Lists\n",
    "- Slow\n",
    "- Fixed size\n",
    "- Homogeneous\n",
    "- Less efficient\n",
    "- Less memory efficient\n",
    "- Less time efficient\n",
    "- Less space efficient\n",
    "- Less performance efficient\n",
    "- Less scalable\n",
    "- Less flexible\n",
    "- Less dynamic\n",
    "- Less versatile\n",
    "- Less powerful\n",
    "- Less robust\n",
    "- Less reliable"
   ],
   "id": "e66c6c4e19cf4632"
  }
 ],
 "metadata": {
  "kernelspec": {
   "display_name": "Python 3",
   "language": "python",
   "name": "python3"
  },
  "language_info": {
   "codemirror_mode": {
    "name": "ipython",
    "version": 2
   },
   "file_extension": ".py",
   "mimetype": "text/x-python",
   "name": "python",
   "nbconvert_exporter": "python",
   "pygments_lexer": "ipython2",
   "version": "2.7.6"
  }
 },
 "nbformat": 4,
 "nbformat_minor": 5
}
