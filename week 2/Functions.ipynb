{
 "cells": [
  {
   "cell_type": "code",
   "id": "initial_id",
   "metadata": {
    "collapsed": true
   },
   "source": [
    "def scream():\n",
    "    print(\"Hello World\")\n",
    "scream()"
   ],
   "outputs": [],
   "execution_count": null
  },
  {
   "metadata": {},
   "cell_type": "code",
   "source": [
    "def square(num):\n",
    "    out = num**2\n",
    "    return out"
   ],
   "id": "cee92ffdd7dd195",
   "outputs": [],
   "execution_count": null
  },
  {
   "metadata": {},
   "cell_type": "code",
   "source": [
    "sq_3 = square(3)\n",
    "print(sq_3)"
   ],
   "id": "3b441280728c4773",
   "outputs": [],
   "execution_count": null
  },
  {
   "metadata": {},
   "cell_type": "code",
   "source": [
    "def squared(x,y):\n",
    "    return x**y\n",
    "print(squared(2,3))"
   ],
   "id": "5d2f73ece727a7ef",
   "outputs": [],
   "execution_count": null
  },
  {
   "metadata": {},
   "cell_type": "code",
   "source": [
    "def factorial(n):\n",
    "    if n > 1:\n",
    "        return n * factorial(n - 1)\n",
    "    else:\n",
    "        return n\n",
    "\n",
    "fact = factorial(5)\n",
    "print(fact)"
   ],
   "id": "98f095c13655d881",
   "outputs": [],
   "execution_count": null
  },
  {
   "metadata": {},
   "cell_type": "code",
   "source": [
    "def addition(*args):\n",
    "    print(args)\n",
    "    return sum(args)"
   ],
   "id": "bc195cf0674f40a5",
   "outputs": [],
   "execution_count": null
  },
  {
   "metadata": {},
   "cell_type": "code",
   "source": [
    "print(addition(1,2,3,4,5,6,7,8,9,10))\n",
    "print(addition(1,2,3))"
   ],
   "id": "1b70b81686e7b430",
   "outputs": [],
   "execution_count": null
  },
  {
   "metadata": {},
   "cell_type": "code",
   "source": [
    "def proper(some_text):\n",
    "    some_text = some_text.strip()\n",
    "    some_text = \" \". join([word[0].upper() + word[1: ] for word in some_text.split()])\n",
    "    return some_text\n",
    "\n",
    "captain = proper(\"mandrake singh dhoti\" )\n",
    "print(captain)"
   ],
   "id": "7ae6411ad9c53f04",
   "outputs": [],
   "execution_count": null
  },
  {
   "metadata": {},
   "cell_type": "code",
   "source": [
    "# basic lambda function\n",
    "square = lambda x: x**2\n",
    "print(square(5))\n",
    "\n",
    "# Lambda with multiple arguments\n",
    "add = lambda x, y: x * y\n",
    "print(add(5,9))\n",
    "\n",
    "# Using lambda in built-in functions\n",
    "numbers = [1,2,3,4,5]\n",
    "squared_numbers = list(map(lambda x:x ** 2, numbers))\n",
    "print(squared_numbers)\n",
    "\n",
    "# Lambda with filter\n",
    "even_numbers = list(filter(lambda x:x % 2 == 0 , numbers))\n",
    "print(even_numbers)\n",
    "\n",
    "# Lambda with sorting\n",
    "pairs = [(1, 'one'), (2, 'two'), (3, 'three')]\n",
    "pairs.sort(key=lambda pair: pair[1])\n",
    "print(pairs)"
   ],
   "id": "4d81a63142785ae",
   "outputs": [],
   "execution_count": null
  },
  {
   "metadata": {},
   "cell_type": "code",
   "source": [
    "# Create a lambda function 'greater', which take two arguments x and y and return x if x > y otherwise Y.\n",
    "# If x = 2 and y = 3 then it should return 3\n",
    "greater = lambda x,y: x if x > y else y\n",
    "print(greater(2,3))"
   ],
   "id": "a2f0acea42195c87",
   "outputs": [],
   "execution_count": null
  },
  {
   "metadata": {},
   "cell_type": "code",
   "source": [
    "def say(message, times = 1):\n",
    "    print(message * times)\n",
    "\n",
    "say('Hello')\n",
    "say('World', 5)"
   ],
   "id": "ae5fc06b3a47fb37",
   "outputs": [],
   "execution_count": null
  },
  {
   "metadata": {},
   "cell_type": "code",
   "source": [
    "Min = (lambda x, y: x if x < y else y)\n",
    "print(Min(101* 99, 102* 98))"
   ],
   "id": "88537b0bf0b3084c",
   "outputs": [],
   "execution_count": null
  },
  {
   "metadata": {},
   "cell_type": "code",
   "source": [
    "input_list = [5,6,4,8,9]\n",
    "cube = list(map(lambda x: x**3, input_list))\n",
    "print(cube)"
   ],
   "id": "be1d11cb7ac10c4a",
   "outputs": [],
   "execution_count": null
  },
  {
   "metadata": {},
   "cell_type": "code",
   "source": [
    "# Using the map function, count the numbers of words that start with 's' in input_list\n",
    "input_list = ['s', 'ss', 'sss', 'ssss']\n",
    "count = len(list(filter(lambda x: x.startswith('s'), input_list)))\n",
    "print(count)"
   ],
   "id": "6c217ede0225f13",
   "outputs": [],
   "execution_count": null
  },
  {
   "metadata": {},
   "cell_type": "code",
   "source": [
    "input_list2 = ['hdesk', 'salsa', 'sherpa']\n",
    "count= len(list(filter(lambda x:x.startswith('s') and x.endswith('p'), input_list2)))\n",
    "print(count)"
   ],
   "id": "6df105937a4c1f95",
   "outputs": [],
   "execution_count": null
  },
  {
   "metadata": {},
   "cell_type": "code",
   "source": [
    "# Using the Reduce function, concatenate a list of words in input_list, and print the output as a string.\n",
    "# If input_list = ['I','Love','Python'], the output should be the string 'I Love Python'.\n",
    "\n",
    "from functools import reduce\n",
    "input_list = ['I', 'Love', 'Python']\n",
    "result = reduce(lambda x, y:x + ' ' + y, input_list)\n",
    "print(result)"
   ],
   "id": "75496d7d546161eb",
   "outputs": [],
   "execution_count": null
  },
  {
   "metadata": {},
   "cell_type": "code",
   "source": [
    "# You are given a list of numbers such as input_list = [31, 63, 76, 89].\n",
    "# Find and print the largest number in input_list using the reduce() function.\n",
    "\n",
    "input_list = [31, 63, 76, 89]\n",
    "print(reduce(lambda x,y: x if x > y else y, input_list))"
   ],
   "id": "fe9509def3e740a3",
   "outputs": [],
   "execution_count": null
  },
  {
   "metadata": {},
   "cell_type": "markdown",
   "source": "Q. 1) What will the output be of ((500//7) % 5) ** 3?",
   "id": "825b857ae08aae65"
  },
  {
   "metadata": {},
   "cell_type": "code",
   "source": "print(((500//7) % 5)**3)",
   "id": "78aa57df5c1be69b",
   "outputs": [],
   "execution_count": null
  },
  {
   "metadata": {},
   "cell_type": "markdown",
   "source": "Q. 2) How will you extract ‘love’ from the string S = “I love Python”?",
   "id": "84e5a1f8c0137b3"
  },
  {
   "metadata": {},
   "cell_type": "code",
   "source": [
    "s = \"I love Python\"\n",
    "print(s[2:6])"
   ],
   "id": "b929dfd195af7ff5",
   "outputs": [],
   "execution_count": null
  },
  {
   "metadata": {},
   "cell_type": "markdown",
   "source": [
    "\n",
    "`List Multiplication:`<br>\n",
    "Q. 1) If you have a list L = [1, 2, 3], what will the output of L * 2 be?"
   ],
   "id": "c615579924672dc7"
  },
  {
   "metadata": {},
   "cell_type": "code",
   "source": [
    "L = [1,2,3]\n",
    "print(L* 2)"
   ],
   "id": "608e008c2bac2a0",
   "outputs": [],
   "execution_count": null
  },
  {
   "metadata": {},
   "cell_type": "markdown",
   "source": [
    "`List Slicing:` <br>\n",
    "Q. 2) If you have a list L = [[1, 2, 3], [4, 5, 6], [7, 8, 9, 10]], what will the output of L[2: ] be?"
   ],
   "id": "7a6b3ba8b4fe20b7"
  },
  {
   "metadata": {},
   "cell_type": "code",
   "source": [
    "L = [[1, 2, 3], [4, 5, 6], [7, 8, 9, 10]]\n",
    "print(L[2:])"
   ],
   "id": "6bd4bf18b51982f4",
   "outputs": [],
   "execution_count": null
  },
  {
   "metadata": {},
   "cell_type": "markdown",
   "source": [
    "`Tuples:` <br>\n",
    "Q. 3) If you have a tuple T = (3, 5, 7, 11), what will the output of T.append(9) be?"
   ],
   "id": "bfc3eab24464c16b"
  },
  {
   "metadata": {},
   "cell_type": "code",
   "source": [
    "T = (3, 5, 7, 11)\n",
    "T = T.append(9)\n",
    "print(T)"
   ],
   "id": "e1b567f356868d2",
   "outputs": [],
   "execution_count": null
  },
  {
   "metadata": {
    "ExecuteTime": {
     "end_time": "2025-03-16T15:38:11.152407Z",
     "start_time": "2025-03-16T15:38:11.146941Z"
    }
   },
   "cell_type": "code",
   "source": [
    "D = {1:['Raj', 22], 2:['Simran', 21], 3:['Rahul', 40]}\n",
    "for val in D:\n",
    "    print(val)"
   ],
   "id": "38762085935a8337",
   "outputs": [
    {
     "name": "stdout",
     "output_type": "stream",
     "text": [
      "1\n",
      "2\n",
      "3\n"
     ]
    }
   ],
   "execution_count": 17
  },
  {
   "metadata": {},
   "cell_type": "markdown",
   "source": [
    "`Set Operations` <br>\n",
    "\n",
    "In a school, there are total 20 students numbered from 1 to 20. You’re given three lists named ‘C’, ‘F’, and ‘H’, representing students who play cricket, football, and hockey, respectively. Based on this information, find out and print the following:\n",
    "\n",
    "1. Students who play all the three sports<br>\n",
    "2. Students who play both cricket and football but don’t play hockey <br>\n",
    "3. Students who play exactly two of the sports        <br>\n",
    "4. Students who don’t play any of the three sports   <br>\n",
    "\n",
    "Input 1: <br>\n",
    "[2, 5, 9, 12, 13, 15, 16, 17, 18, 19]\n",
    "\n",
    "[2, 4, 5, 6, 7, 9, 13, 16, 20]\n",
    "\n",
    "[1, 2, 5, 9, 10, 11, 12, 13, 15, 20]"
   ],
   "id": "c7a387563fc9c131"
  },
  {
   "metadata": {
    "ExecuteTime": {
     "end_time": "2025-03-17T13:15:12.443894Z",
     "start_time": "2025-03-17T13:15:12.431707Z"
    }
   },
   "cell_type": "code",
   "source": [
    "# Define Sports lists\n",
    "C = [2,5,9,12,13,15,16,17,18,19]\n",
    "F = [2,4,5,6,7,9,13,16,20]\n",
    "H = [1,2,5,9,10,11,12,13,15,20]\n",
    "\n",
    "# convert list ascending order\n",
    "C.sort()\n",
    "F.sort()\n",
    "H.sort()\n",
    "\n",
    "# Print the lists\n",
    "print(\"Cricket:\", C)\n",
    "print(\"Football:\", F)\n",
    "print(\"Hockey:\", H)\n",
    "\n",
    "# Convert lists to sets for set operations\n",
    "cricket = set(C)\n",
    "football = set(F)\n",
    "hockey = set(H)\n",
    "all_students = set(range(1,21)) # Students numbered from 1 to 20.\n",
    "\n",
    "# 1. Students who play all three sports\n",
    "play_all_three = cricket.intersection(football).intersection(hockey)\n",
    "print(\"1.Students who play all three sports:\", play_all_three)\n",
    "\n",
    "# 2. Students who play both cricket and football but don't play hockey\n",
    "play_cricket_football_not_hockey = cricket.intersection(football).difference(hockey)\n",
    "print(\"2. Students who play both cricket and football but don't play hockey:\", play_cricket_football_not_hockey )\n",
    "\n",
    "# 3. students who play exactly two of the sports\n",
    "# We'll find students who play any two sports and then subtract those who play all three.\n",
    "play_cricket_football = cricket.intersection(football)\n",
    "play_cricket_hockey = cricket.intersection(hockey)\n",
    "play_football_hockey = football.intersection(hockey)\n",
    "\n",
    "play_any_two = (play_cricket_football.union(play_cricket_hockey).union(play_football_hockey)).difference(play_all_three)\n",
    "print(\"3. Students who play exactly two of the sports\", play_any_two)\n",
    "\n",
    "# 4. Students who don't play any of the three sports\n",
    "play_none = all_students.difference(cricket.union(football).union(hockey))\n",
    "print(\"4. Students who don't play any of the three sports\", play_none)\n",
    "\n",
    "# This Solution :\n",
    "# 1. Convert the player lists to sets\n",
    "# 2. Uses intersection to find students in multiple sets\n",
    "# 3. Uses difference to exclude students from a set\n",
    "# 4, Uses union to combine sets\n",
    "# 5. applies set operations to solve each specific question."
   ],
   "id": "d2b4038c0c145dcb",
   "outputs": [
    {
     "name": "stdout",
     "output_type": "stream",
     "text": [
      "Cricket: [2, 5, 9, 12, 13, 15, 16, 17, 18, 19]\n",
      "Football: [2, 4, 5, 6, 7, 9, 13, 16, 20]\n",
      "Hockey: [1, 2, 5, 9, 10, 11, 12, 13, 15, 20]\n",
      "1.Students who play all three sports: {9, 2, 13, 5}\n",
      "2. Students who play both cricket and football but don't play hockey: {16}\n",
      "3. Students who play exactly two of the sports {16, 12, 20, 15}\n",
      "4. Students who don't play any of the three sports {8, 3, 14}\n"
     ]
    }
   ],
   "execution_count": 7
  },
  {
   "metadata": {
    "ExecuteTime": {
     "end_time": "2025-03-24T03:30:38.007257Z",
     "start_time": "2025-03-24T03:30:28.862611Z"
    }
   },
   "cell_type": "code",
   "source": [
    "# Take input using input()\n",
    "\n",
    "#input() takes input in form of the string\n",
    "in_string = input()\n",
    "\n",
    "#Here extract the two numbers from the string\n",
    "mylist = in_string.split(',')\n",
    "x = int(mylist[0])\n",
    "y = int(mylist[1])\n",
    "\n",
    "# Print x and y before swapping\n",
    "print('x before swapping: {0}' . format(x))\n",
    "print('y before swapping: {0}' . format(y))\n",
    "\n",
    "# Swapping\n",
    "z = x\n",
    "x = y\n",
    "y = z\n",
    "print()\n",
    "\n",
    "# Print x and y after swapping\n",
    "print('x after swapping: {0}' . format(x))\n",
    "print('y after swapping: {0}' . format(y))"
   ],
   "id": "8a8a705fd5fda169",
   "outputs": [
    {
     "name": "stdout",
     "output_type": "stream",
     "text": [
      "x before swapping: 20\n",
      "y before swapping: 50\n",
      "\n",
      "x after swapping: 50\n",
      "y after swapping: 20\n"
     ]
    }
   ],
   "execution_count": 2
  },
  {
   "metadata": {
    "ExecuteTime": {
     "end_time": "2025-03-24T03:31:55.962255Z",
     "start_time": "2025-03-24T03:31:55.957048Z"
    }
   },
   "cell_type": "code",
   "source": [
    "x = 20\n",
    "y = 50\n",
    "\n",
    "z = x\n",
    "x = y\n",
    "y = z\n",
    "print('x:', x)\n",
    "print('y:', y)"
   ],
   "id": "3d798bd6ef1cd6ac",
   "outputs": [
    {
     "name": "stdout",
     "output_type": "stream",
     "text": [
      "x: 50\n",
      "y: 20\n"
     ]
    }
   ],
   "execution_count": 3
  },
  {
   "metadata": {
    "ExecuteTime": {
     "end_time": "2025-03-24T10:00:26.059236Z",
     "start_time": "2025-03-24T10:00:23.138043Z"
    }
   },
   "cell_type": "code",
   "source": [
    "num = int(input())\n",
    "if num%2==0:\n",
    "    print(\"Even\")\n",
    "else:\n",
    "    print(\"Odd\")"
   ],
   "id": "39376bc56781173f",
   "outputs": [
    {
     "name": "stdout",
     "output_type": "stream",
     "text": [
      "Even\n"
     ]
    }
   ],
   "execution_count": 6
  },
  {
   "metadata": {},
   "cell_type": "markdown",
   "source": [
    "## Alarm Clock\n",
    "\n",
    "Description:\n",
    "You're trying to automate your alarm clock by writing a function for it. You're given a day of the week encoded as 1=Mon, 2=Tue, ... 6=Sat, 7=Sun, and whether you are on vacation as a boolean value (a boolean object is either True or False. Google \"booleans python\" to get a better understanding). Based on the day and whether you're on vacation, write a function that returns a time in form of a string indicating when the alarm clock should ring.\n",
    "\n",
    "When not on a vacation, on weekdays, the alarm should ring at \"7:00\" and on the weekends (Saturday and Sunday) it should ring at \"10:00\".\n",
    "\n",
    "While on a vacation, it should ring at \"10:00\" on weekdays. On vacation, it should not ring on weekends, that is, it should return \"off\".\n",
    "\n",
    "----------------------------------------------------------------------\n",
    "Input:\n",
    "The input will be a list of two elements. The first element will be an integer from 1 to 7, and the second element will be a boolean value.\n",
    "\n",
    "Output:\n",
    "The output will be a string denoting the time alarm will ring or 'off'\n",
    "\n",
    "----------------------------------------------------------------------\n",
    "Sample input:\n",
    "[7, True]\n",
    "\n",
    "Sample output:\n",
    "off\n",
    "\n",
    "----------------------------------------------------------------------\n",
    "Sample input:\n",
    "[3, True]\n",
    "\n",
    "Sample output:\n",
    "10:00\n",
    "\n",
    "----------------------------------------------------------------------"
   ],
   "id": "da5c800957b82436"
  },
  {
   "metadata": {
    "ExecuteTime": {
     "end_time": "2025-03-24T10:32:30.177588Z",
     "start_time": "2025-03-24T10:32:22.518871Z"
    }
   },
   "cell_type": "code",
   "source": [
    "# Take input here\n",
    "# We will take input using ast sys\n",
    "import ast\n",
    "input_str = input()\n",
    "\n",
    "# Ast.literal_eval() is used to evaluate a string and make a data structure for the same\n",
    "# here the input is a list since input is in '[..... ]', so ast.literal_eval() will make a list with the same data passed\n",
    "input_list = ast.literal_eval(input_str)\n",
    "\n",
    "# The data or the two values in lists is now changed to the separate variables\n",
    "day_of_the_week = input_list[0]  # first element is an integer denoting the dat of week\n",
    "is_on_vacation = input_list[1] # This is a boolean denoting if its vacation or not\n",
    "\n",
    "# Now we will check the conditions\n",
    "def alarm_time(day_of_the_week, is_on_vacation):\n",
    "    weekend = [6,7]\n",
    "    if is_on_vacation:\n",
    "        if day_of_the_week not in weekend:\n",
    "            return '10:00'\n",
    "        else:\n",
    "            return 'off'\n",
    "    else:\n",
    "        if day_of_the_week not in weekend:\n",
    "            return '7:00'\n",
    "        else:\n",
    "            return '10:00'\n",
    "print(alarm_time(day_of_the_week, is_on_vacation))"
   ],
   "id": "40f67f3c96c0aa50",
   "outputs": [
    {
     "name": "stdout",
     "output_type": "stream",
     "text": [
      "off\n"
     ]
    }
   ],
   "execution_count": 7
  },
  {
   "metadata": {},
   "cell_type": "markdown",
   "source": "## Factorial",
   "id": "11cdf2c3b8b32c04"
  },
  {
   "metadata": {
    "ExecuteTime": {
     "end_time": "2025-03-24T10:44:35.311496Z",
     "start_time": "2025-03-24T10:44:29.376007Z"
    }
   },
   "cell_type": "code",
   "source": [
    "number = int(input())\n",
    "def factorial(n):\n",
    "      if n < 0:\n",
    "        return -1\n",
    "      elif n == 0:\n",
    "        return 1\n",
    "      else:\n",
    "            f = 1\n",
    "            for i in range(1, n +1 ):\n",
    "                 f = f * 1\n",
    "            return f\n",
    "\n",
    "k = factorial(number)\n",
    "print(k)"
   ],
   "id": "11c92b801f2d7ea4",
   "outputs": [
    {
     "name": "stdout",
     "output_type": "stream",
     "text": [
      "-1\n"
     ]
    }
   ],
   "execution_count": 13
  },
  {
   "metadata": {},
   "cell_type": "code",
   "outputs": [],
   "execution_count": null,
   "source": "",
   "id": "7fbebaa05d0a7479"
  }
 ],
 "metadata": {
  "kernelspec": {
   "display_name": "Python 3",
   "language": "python",
   "name": "python3"
  },
  "language_info": {
   "codemirror_mode": {
    "name": "ipython",
    "version": 2
   },
   "file_extension": ".py",
   "mimetype": "text/x-python",
   "name": "python",
   "nbconvert_exporter": "python",
   "pygments_lexer": "ipython2",
   "version": "2.7.6"
  }
 },
 "nbformat": 4,
 "nbformat_minor": 5
}
