{
 "cells": [
  {
   "metadata": {},
   "cell_type": "markdown",
   "source": [
    "Q1: Join Tuples if similar initial element\n",
    "\n",
    "While working with Python tuples, we can have a problem in which we need to perform concatenation of records from the similarity of initial element. This problem can have applications in data domains such as Data Science."
   ],
   "id": "45d877d0d952f4e8"
  },
  {
   "metadata": {},
   "cell_type": "code",
   "outputs": [],
   "execution_count": null,
   "source": [
    "test_list = [(5,6), (5,7), (5,8), (6,10), (7, 13)]\n",
    "Output : [(5, 6, 7, 8), (6, 10), (7, 13)]"
   ],
   "id": "289ed2ea46ae5b3c"
  },
  {
   "metadata": {
    "ExecuteTime": {
     "end_time": "2025-03-02T03:00:07.693658Z",
     "start_time": "2025-03-02T03:00:07.680272Z"
    }
   },
   "cell_type": "code",
   "source": [
    "from collections import defaultdict\n",
    "\n",
    "def join_similar_tuples(test_list):\n",
    "    # Create a dictionary to group tuples by their first element\n",
    "    groups = defaultdict(list)\n",
    "\n",
    "    # Group values by the first element of each tuple\n",
    "    for tup in test_list:\n",
    "        groups[tup[0]].extend(tup[1:])\n",
    "\n",
    "    # Create new tuples with the first element followed by all grouped values\n",
    "    result = [(key,) + tuple(values) for key, values in groups.items()]\n",
    "\n",
    "    return result\n",
    "\n",
    "test_list = [(5,6), (5,7), (5,8), (6,10), (7, 13)]\n",
    "result = join_similar_tuples(test_list)\n",
    "print(result)  # Output: [(5, 6, 7, 8), (6, 10), (7, 13)]"
   ],
   "id": "5b25639ad6f480f0",
   "outputs": [
    {
     "name": "stdout",
     "output_type": "stream",
     "text": [
      "[(5, 6, 7, 8), (6, 10), (7, 13)]\n"
     ]
    }
   ],
   "execution_count": 1
  },
  {
   "metadata": {},
   "cell_type": "markdown",
   "source": "Q2: Multiply Adjacent elements (both side) and take sum of right and lest side multiplication result.",
   "id": "5c743612715a6535"
  },
  {
   "metadata": {},
   "cell_type": "code",
   "outputs": [],
   "execution_count": null,
   "source": [
    "The original tuple : (1,5,7,8,10)\n",
    "Resultant tuple after multiplication :\n",
    "(1*5, 1*5+5*7, 7*5 + 7*8, 8*7 + 8*10, 10*8)  -> (5, 40, 91, 136, 80)"
   ],
   "id": "f3f72cf5b637a36a"
  },
  {
   "metadata": {
    "ExecuteTime": {
     "end_time": "2025-03-02T03:17:29.566025Z",
     "start_time": "2025-03-02T03:17:29.558578Z"
    }
   },
   "cell_type": "code",
   "source": [
    "def multiply_adjacent_elements(input_tuple):\n",
    "    n = len(input_tuple)\n",
    "    result = []\n",
    "\n",
    "    # First element - multiply with next element\n",
    "    result.append(input_tuple[0] * input_tuple[1])\n",
    "\n",
    "    # For middle elements - multiply with both adjacent elements and sum\n",
    "    for i in range(1, n-1):\n",
    "        left_product = input_tuple[i-1] * input_tuple[i]\n",
    "        right_product = input_tuple[i] * input_tuple[i+1]\n",
    "        result.append(left_product + right_product)\n",
    "\n",
    "    # Last element - multiply with previous element\n",
    "    result.append(input_tuple[-1] * input_tuple[-2])\n",
    "\n",
    "    return tuple(result)\n",
    "\n",
    "# Test with the given example\n",
    "original_tuple = (1, 5, 7, 8, 10)\n",
    "result = multiply_adjacent_elements(original_tuple)\n",
    "print(\"The original tuple:\", original_tuple)\n",
    "print(\"Resultant tuple after multiplication:\", result)"
   ],
   "id": "9cc933c709691f6c",
   "outputs": [
    {
     "name": "stdout",
     "output_type": "stream",
     "text": [
      "The original tuple: (1, 5, 7, 8, 10)\n",
      "Resultant tuple after multiplication: (5, 40, 91, 136, 80)\n"
     ]
    }
   ],
   "execution_count": 2
  },
  {
   "metadata": {},
   "cell_type": "markdown",
   "source": [
    "Q3: Check is tuples are same or not?\n",
    "\n",
    "Two tuples would be same if both tuples have same element at same index"
   ],
   "id": "1a98f68252ac43c0"
  },
  {
   "metadata": {
    "ExecuteTime": {
     "end_time": "2025-03-02T03:20:40.423459Z",
     "start_time": "2025-03-02T03:20:40.416901Z"
    }
   },
   "cell_type": "code",
   "source": [
    "t1 = (1,2,3,0)\n",
    "t2 = (0,1,2,3)\n",
    "\n",
    "def are_tuples_same(t1, t2):\n",
    "    return t1 == t2\n",
    "print(are_tuples_same(t1, t2))  # Output: False"
   ],
   "id": "715e52a5ef626287",
   "outputs": [
    {
     "name": "stdout",
     "output_type": "stream",
     "text": [
      "False\n"
     ]
    }
   ],
   "execution_count": 3
  },
  {
   "metadata": {},
   "cell_type": "markdown",
   "source": "Q4: Count no of tuples, list and set from a list",
   "id": "b13ddcec5ddab178"
  },
  {
   "metadata": {
    "ExecuteTime": {
     "end_time": "2025-03-02T03:23:50.211355Z",
     "start_time": "2025-03-02T03:23:50.203318Z"
    }
   },
   "cell_type": "code",
   "source": [
    "list1 = [{'hi', 'bye'},{'Geeks', 'forGeeks'},('a', 'b'),['hi', 'bye'],['a', 'b']]\n",
    "\n",
    "def count_types(input_list):\n",
    "    tuple_count = 0\n",
    "    list_count = 0\n",
    "    set_count = 0\n",
    "\n",
    "    for item in input_list:\n",
    "        if isinstance(item, tuple):\n",
    "            tuple_count += 1\n",
    "        elif isinstance(item, list):\n",
    "            list_count += 1\n",
    "        elif isinstance(item, set):\n",
    "            set_count += 1\n",
    "\n",
    "    return tuple_count, list_count, set_count\n",
    "result = count_types(list1)\n",
    "print(\"Number of tuples:\", result[0])\n",
    "print(\"Number of lists:\", result[1])\n",
    "print(\"Number of sets:\", result[2])"
   ],
   "id": "6c4fa3b0a67e8657",
   "outputs": [
    {
     "name": "stdout",
     "output_type": "stream",
     "text": [
      "Number of tuples: 1\n",
      "Number of lists: 2\n",
      "Number of sets: 2\n"
     ]
    }
   ],
   "execution_count": 4
  },
  {
   "metadata": {},
   "cell_type": "markdown",
   "source": [
    "Q5: Shortlist Students for a Job role\n",
    "\n",
    "Ask user to input students record and store in tuples for each record. Then Ask user to input three things he wants in the candidate- Primary Skill, Higher Education, Year of Graduation.\n",
    "\n",
    "Show every students record in form of tuples if matches all required criteria.\n",
    "\n",
    "It is assumed that there will be only one primry skill.\n",
    "\n",
    "If no such candidate found, print No such candidate"
   ],
   "id": "a6d70cd439d9dab9"
  },
  {
   "metadata": {},
   "cell_type": "code",
   "outputs": [],
   "execution_count": null,
   "source": [
    "Enter No of records- 2\n",
    "Enter Details of student-1\n",
    "Enter Student name- Manohar\n",
    "Enter Higher Education- B.Tech\n",
    "Enter Primary Skill- Python\n",
    "Enter Year of Graduation- 2022\n",
    "Enter Details of student-2\n",
    "Enter Student name- Ponian\n",
    "Enter Higher Education- B.Sc.\n",
    "Enter Primary Skill- C++\n",
    "Enter Year of Graduation- 2020\n",
    "\n",
    "Enter Job Role Requirement\n",
    "Enter Skill- Python\n",
    "Enter Higher Education- B.Tech\n",
    "Enter Year of Graduation- 2022"
   ],
   "id": "da205d4b85683339"
  },
  {
   "metadata": {
    "ExecuteTime": {
     "end_time": "2025-03-02T03:44:09.630231Z",
     "start_time": "2025-03-02T03:42:54.760474Z"
    }
   },
   "cell_type": "code",
   "source": [
    "# Get  student records\n",
    "n = int(input(\"Enter No of records- \"))\n",
    "students = []\n",
    "\n",
    "for i in range(1, n+1):\n",
    "    print(f\"Enter Details of student-{i}\")\n",
    "    name = input(\"Enter Student name- \")\n",
    "    education = input(\"Enter Higher Education- \")\n",
    "    skill = input(\"Enter Primary Skill- \")\n",
    "    year = input(\"Enter Year of Graduation- \")\n",
    "    students.append((name, education, skill, year))\n",
    "\n",
    "# Get job requirements\n",
    "print(\"\\nEnter Job Role Requirement\")\n",
    "req_skill = input(\"Enter Skill- \")\n",
    "req_edu = input(\"Enter Higher Education- \")\n",
    "req_year = input(\"Enter Year of Graduation- \")\n",
    "\n",
    "# Filtering students based on Job requirements\n",
    "matches = [student for student in students if student[2] == req_skill and student[1] == req_edu and student[3] == req_year]\n",
    "\n",
    "# Display Results !\n",
    "if matches:\n",
    "    print(\"Matching candidates:\")\n",
    "    for match in matches:\n",
    "        print(match)\n",
    "else:\n",
    "    print(\"No such candidate\")"
   ],
   "id": "8053fed4d92dc62e",
   "outputs": [
    {
     "name": "stdout",
     "output_type": "stream",
     "text": [
      "Enter Details of student-1\n",
      "Enter Details of student-2\n",
      "\n",
      "Enter Job Role Requirement\n",
      "Matching candidates:\n",
      "('Manohar', 'B.Tech', 'Python', '2022')\n"
     ]
    }
   ],
   "execution_count": 6
  },
  {
   "metadata": {},
   "cell_type": "markdown",
   "source": [
    "# Sets\n",
    "\n",
    "Q- 1 Write a program to find set of common elements in three lists using sets."
   ],
   "id": "f9582c919ed9ad26"
  },
  {
   "metadata": {},
   "cell_type": "code",
   "outputs": [],
   "execution_count": null,
   "source": [
    "Input : ar1 = [1, 5, 10, 20, 40, 80]\n",
    "            ar2 = [6, 7, 20, 80, 100]\n",
    "            ar3 = [3, 4, 15, 20, 30, 70, 80, 120]"
   ],
   "id": "a6e98a1620036b64"
  },
  {
   "metadata": {
    "ExecuteTime": {
     "end_time": "2025-03-02T04:50:01.155123Z",
     "start_time": "2025-03-02T04:50:01.149668Z"
    }
   },
   "cell_type": "code",
   "source": [
    "def find_common_elements(list1, list2, list3):\n",
    "    # Convert all lists to sets\n",
    "    set1 = set(list1)\n",
    "    set2 = set(list2)\n",
    "    set3 = set(list3)\n",
    "\n",
    "# Find common elements using intersection\n",
    "    common_elements = set1.intersection(set2, set3)\n",
    "\n",
    "    return  common_elements\n",
    "\n",
    "# Test with the given example\n",
    "ar1 = [1, 5, 10, 20, 40, 80]\n",
    "ar2 = [6, 7, 20, 80, 100]\n",
    "ar3 = [3, 4, 15, 20, 30, 70, 80, 120]\n",
    "\n",
    "result = find_common_elements(ar1, ar2, ar3)\n",
    "print(f\"Common elements: {result}\")"
   ],
   "id": "dd6b66c7d0010d19",
   "outputs": [
    {
     "name": "stdout",
     "output_type": "stream",
     "text": [
      "Common elements: {80, 20}\n"
     ]
    }
   ],
   "execution_count": 16
  },
  {
   "metadata": {},
   "cell_type": "markdown",
   "source": "Q2: Write a program to count unique number of vowels using sets in a given string. Lowercase and upercase vowels will be taken as different.",
   "id": "f07fd676205f5cae"
  },
  {
   "metadata": {
    "ExecuteTime": {
     "end_time": "2025-03-02T06:17:21.193641Z",
     "start_time": "2025-03-02T06:17:21.183479Z"
    }
   },
   "cell_type": "code",
   "source": [
    "def count_unique_vowels(input_string):\n",
    "    # Define all vowels (lowercase and uppercase)\n",
    "    all_vowels = {\"hands-on data science mentorship progrAm with live classes at affordable fee only on CampusX\"}\n",
    "\n",
    "    # Find intersection between string characters and vowels set\n",
    "    found_vowels = set(input_string) & all_vowels\n",
    "\n",
    "    return len(found_vowels)\n",
    "\n",
    "# Test cases\n",
    "test_string1 = \"Hello World\"\n",
    "print(f\"Unique vowels in '{test_string1}': {count_unique_vowels(test_string1)}\")  # Output: 2 ('e', 'o')\n",
    "\n",
    "test_string2 = \"AEIOUaeiou\"\n",
    "print(f\"Unique vowels in '{test_string2}': {count_unique_vowels(test_string2)}\")  # Output: 10"
   ],
   "id": "9d660179e0fcfa32",
   "outputs": [
    {
     "name": "stdout",
     "output_type": "stream",
     "text": [
      "Unique vowels in 'Hello World': 0\n",
      "Unique vowels in 'AEIOUaeiou': 0\n"
     ]
    }
   ],
   "execution_count": 28
  },
  {
   "metadata": {},
   "cell_type": "markdown",
   "source": [
    "Q3: Write a program to Check if a given string is binary string of or not.\n",
    "\n",
    "A string is said to be binary if it's consists of only two unique characters."
   ],
   "id": "56fdb86a5aab5e6d"
  },
  {
   "metadata": {
    "ExecuteTime": {
     "end_time": "2025-03-02T06:23:29.726027Z",
     "start_time": "2025-03-02T06:23:29.631571Z"
    }
   },
   "cell_type": "code",
   "source": [
    "# Take input from user :\n",
    "\n",
    "# Input: str = \"01010101010\"\n",
    "\n",
    "# Input: str = \"1222211\"\n",
    "\n",
    "# Input: str = \"Campusx\"\n",
    "\n",
    "def is_binary_string(input_string):\n",
    "    # Convert string to set to find unique characters\n",
    "    unique_chars = set(input_string)\n",
    "\n",
    "    # Check if the number of unique characters is 2\n",
    "    return len(unique_chars) == 2\n",
    "\n",
    "# Test cases\n",
    "test_string1 = \"01010101010\"\n",
    "test_string2 = \"1222211\"\n",
    "test_string3 = \"Campusx\"\n",
    "\n",
    "print(f\"Is '{test_string1}' a binary string? {is_binary_string(test_string1)}\")  # Output: True\n",
    "print(f\"Is '{test_string2}' a binary string? {is_binary_string(test_string2)}\")  # Output: False\n",
    "print(f\"Is '{test_string3}' a binary string? {is_binary_string(test_string3)}\")  # Output: False"
   ],
   "id": "5479ac07c879bb9c",
   "outputs": [
    {
     "name": "stdout",
     "output_type": "stream",
     "text": [
      "Is '01010101010' a binary string? True\n",
      "Is '1222211' a binary string? True\n",
      "Is 'Campusx' a binary string? False\n"
     ]
    }
   ],
   "execution_count": 29
  },
  {
   "metadata": {
    "ExecuteTime": {
     "end_time": "2025-03-02T10:17:27.426283Z",
     "start_time": "2025-03-02T10:17:25.160465Z"
    }
   },
   "cell_type": "code",
   "source": [
    "def is_binary_string(input_string):\n",
    "    # A string is binary if it has exactly 2 unique characters\n",
    "    return len(set(input_string)) == 2\n",
    "\n",
    "# Get input from user\n",
    "user_input = input(\"Enter a string to check:\")\n",
    "\n",
    "# Check and display result\n",
    "if is_binary_string(user_input):\n",
    "    print(f\"'{user_input}' is a binary string\")\n",
    "else:\n",
    "    print(f\"'{user_input}' is not a binary string\")"
   ],
   "id": "28fa13c345adbaf5",
   "outputs": [
    {
     "name": "stdout",
     "output_type": "stream",
     "text": [
      "'Campusx' is not a binary string\n"
     ]
    }
   ],
   "execution_count": 32
  },
  {
   "metadata": {},
   "cell_type": "markdown",
   "source": [
    "Q1: Key with maximum unique values\n",
    "\n",
    "Given a dictionary with values list, extract key whose value has most unique values."
   ],
   "id": "3608f551d44795b7"
  },
  {
   "metadata": {
    "ExecuteTime": {
     "end_time": "2025-03-02T10:31:09.783467Z",
     "start_time": "2025-03-02T10:31:09.743500Z"
    }
   },
   "cell_type": "code",
   "source": [
    "# Example 1 :\n",
    "# input_dic = {\"CampusX\" : [5, 7, 9, 4, 0], \"is\" : [6, 7, 4, 3, 3], \"Best\" : [9, 9, 6, 5, 5]}\n",
    "# Output : CampusX\n",
    "\n",
    "# Example 2 :\n",
    "# test_dict = {\"CampusX\" : [5, 7, 7, 7, 7], \"is\" : [6, 7, 7, 7], \"Best\" : [9, 9, 6, 5, 5]}\n",
    "# Output : Best\n",
    "\n",
    "test_dict = {\"CampusX\" : [5, 7, 7, 7, 7], \"is\" : [6, 7, 7, 7], \"Best\" : [9, 9, 6, 5, 5]}\n",
    "\n",
    "max_val = 0\n",
    "max_key = None\n",
    "for i in test_dict:\n",
    "    if max_val < len(set(test_dict[i])):\n",
    "        max_val = len(set(test_dict[i]))\n",
    "        max_key = i\n",
    "\n",
    "print(max_key)"
   ],
   "id": "521f3b2a0ee77a37",
   "outputs": [
    {
     "name": "stdout",
     "output_type": "stream",
     "text": [
      "Best\n"
     ]
    }
   ],
   "execution_count": 33
  },
  {
   "metadata": {
    "ExecuteTime": {
     "end_time": "2025-03-02T10:32:38.962766Z",
     "start_time": "2025-03-02T10:32:38.944576Z"
    }
   },
   "cell_type": "code",
   "source": [
    "def find_key_with_max_unique_values(input_dict):\n",
    "    # Dictionary to store count of unique values for each key\n",
    "    unique_counts = {}\n",
    "\n",
    "    # Count unique values for each key\n",
    "    for key, value_list in input_dict.items():\n",
    "        unique_counts[key] = len(set(value_list))\n",
    "\n",
    "    # Find key with maximum unique values\n",
    "    max_key = max(unique_counts, key=unique_counts.get)\n",
    "\n",
    "    return max_key\n",
    "\n",
    "# Example\n",
    "input_dic = {\"CampusX\": [5, 7, 9, 4, 0], \"is\": [6, 7, 4, 3, 3], \"Best\": [9, 9, 6, 5, 5]}\n",
    "result = find_key_with_max_unique_values(input_dic)\n",
    "print(f\"Key with maximum unique values: {result}\")"
   ],
   "id": "608d738f45b9aae3",
   "outputs": [
    {
     "name": "stdout",
     "output_type": "stream",
     "text": [
      "Key with maximum unique values: CampusX\n"
     ]
    }
   ],
   "execution_count": 34
  },
  {
   "metadata": {},
   "cell_type": "markdown",
   "source": [
    "Q - 2: Replace words from Dictionary. Given string, replace its words from lookup dictionary.\n",
    "\n",
    "Example 1 :\n",
    "test_str = 'CampusX best for DS students.'\n",
    "repl_dict = {\"best\" : \"is the best channel\",  \"DS\" : \"Data-Science\"}"
   ],
   "id": "93168910b4413f5"
  },
  {
   "metadata": {
    "ExecuteTime": {
     "end_time": "2025-03-02T10:45:56.399083Z",
     "start_time": "2025-03-02T10:45:56.361864Z"
    }
   },
   "cell_type": "code",
   "source": [
    "test_str = 'CampusX best for DS students.'\n",
    "repl_dict = {\"best\" : \"is the best channel\",  \"DS\" : \"Data-Science\"}\n",
    "\n",
    "res = []\n",
    "for i in test_str.split():\n",
    "    if i in repl_dict:\n",
    "        res.append(repl_dict[i])\n",
    "    else:\n",
    "        res.append(i)\n",
    "\n",
    "print(\" \".join(res))"
   ],
   "id": "7f774c0defb80468",
   "outputs": [
    {
     "name": "stdout",
     "output_type": "stream",
     "text": [
      "CampusX is the best channel for Data-Science students.\n"
     ]
    }
   ],
   "execution_count": 36
  },
  {
   "metadata": {},
   "cell_type": "code",
   "outputs": [],
   "execution_count": null,
   "source": "",
   "id": "ac52d42cf11a39e8"
  }
 ],
 "metadata": {
  "kernelspec": {
   "display_name": "Python 3",
   "language": "python",
   "name": "python3"
  },
  "language_info": {
   "codemirror_mode": {
    "name": "ipython",
    "version": 2
   },
   "file_extension": ".py",
   "mimetype": "text/x-python",
   "name": "python",
   "nbconvert_exporter": "python",
   "pygments_lexer": "ipython2",
   "version": "2.7.6"
  }
 },
 "nbformat": 4,
 "nbformat_minor": 5
}
