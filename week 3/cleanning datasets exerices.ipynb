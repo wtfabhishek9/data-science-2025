{
 "cells": [
  {
   "metadata": {},
   "cell_type": "markdown",
   "source": [
    "#### Missing Values\n",
    "\n",
    "- Description:\n",
    "Print out the number of missing values in each column in the given dataframe."
   ],
   "id": "7aae56fc80c3debb"
  },
  {
   "cell_type": "code",
   "id": "initial_id",
   "metadata": {
    "collapsed": true,
    "ExecuteTime": {
     "end_time": "2025-04-20T13:51:58.356138Z",
     "start_time": "2025-04-20T13:51:53.138262Z"
    }
   },
   "source": [
    "import pandas as pd\n",
    "import numpy as np\n",
    "\n",
    "df = pd.read_csv('https://query.data.world/s/Hfu_PsEuD1Z_yJHmGaxWTxvkz7W_b0')\n",
    "df.head()"
   ],
   "outputs": [
    {
     "data": {
      "text/plain": [
       "     Ord_id  Prod_id   Ship_id    Cust_id    Sales  Discount  Order_Quantity  \\\n",
       "0  Ord_5446  Prod_16  SHP_7609  Cust_1818   136.81      0.01            23.0   \n",
       "1  Ord_5406  Prod_13  SHP_7549  Cust_1818    42.27      0.01            13.0   \n",
       "2  Ord_5446   Prod_4  SHP_7610  Cust_1818  4701.69      0.00            26.0   \n",
       "3  Ord_5456   Prod_6  SHP_7625  Cust_1818  2337.89      0.09            43.0   \n",
       "4  Ord_5485  Prod_17  SHP_7664  Cust_1818  4233.15      0.08            35.0   \n",
       "\n",
       "    Profit  Shipping_Cost  Product_Base_Margin  \n",
       "0   -30.51           3.60                 0.56  \n",
       "1     4.56           0.93                 0.54  \n",
       "2  1148.90           2.50                 0.59  \n",
       "3   729.34          14.30                 0.37  \n",
       "4  1219.87          26.30                 0.38  "
      ],
      "text/html": [
       "<div>\n",
       "<style scoped>\n",
       "    .dataframe tbody tr th:only-of-type {\n",
       "        vertical-align: middle;\n",
       "    }\n",
       "\n",
       "    .dataframe tbody tr th {\n",
       "        vertical-align: top;\n",
       "    }\n",
       "\n",
       "    .dataframe thead th {\n",
       "        text-align: right;\n",
       "    }\n",
       "</style>\n",
       "<table border=\"1\" class=\"dataframe\">\n",
       "  <thead>\n",
       "    <tr style=\"text-align: right;\">\n",
       "      <th></th>\n",
       "      <th>Ord_id</th>\n",
       "      <th>Prod_id</th>\n",
       "      <th>Ship_id</th>\n",
       "      <th>Cust_id</th>\n",
       "      <th>Sales</th>\n",
       "      <th>Discount</th>\n",
       "      <th>Order_Quantity</th>\n",
       "      <th>Profit</th>\n",
       "      <th>Shipping_Cost</th>\n",
       "      <th>Product_Base_Margin</th>\n",
       "    </tr>\n",
       "  </thead>\n",
       "  <tbody>\n",
       "    <tr>\n",
       "      <th>0</th>\n",
       "      <td>Ord_5446</td>\n",
       "      <td>Prod_16</td>\n",
       "      <td>SHP_7609</td>\n",
       "      <td>Cust_1818</td>\n",
       "      <td>136.81</td>\n",
       "      <td>0.01</td>\n",
       "      <td>23.0</td>\n",
       "      <td>-30.51</td>\n",
       "      <td>3.60</td>\n",
       "      <td>0.56</td>\n",
       "    </tr>\n",
       "    <tr>\n",
       "      <th>1</th>\n",
       "      <td>Ord_5406</td>\n",
       "      <td>Prod_13</td>\n",
       "      <td>SHP_7549</td>\n",
       "      <td>Cust_1818</td>\n",
       "      <td>42.27</td>\n",
       "      <td>0.01</td>\n",
       "      <td>13.0</td>\n",
       "      <td>4.56</td>\n",
       "      <td>0.93</td>\n",
       "      <td>0.54</td>\n",
       "    </tr>\n",
       "    <tr>\n",
       "      <th>2</th>\n",
       "      <td>Ord_5446</td>\n",
       "      <td>Prod_4</td>\n",
       "      <td>SHP_7610</td>\n",
       "      <td>Cust_1818</td>\n",
       "      <td>4701.69</td>\n",
       "      <td>0.00</td>\n",
       "      <td>26.0</td>\n",
       "      <td>1148.90</td>\n",
       "      <td>2.50</td>\n",
       "      <td>0.59</td>\n",
       "    </tr>\n",
       "    <tr>\n",
       "      <th>3</th>\n",
       "      <td>Ord_5456</td>\n",
       "      <td>Prod_6</td>\n",
       "      <td>SHP_7625</td>\n",
       "      <td>Cust_1818</td>\n",
       "      <td>2337.89</td>\n",
       "      <td>0.09</td>\n",
       "      <td>43.0</td>\n",
       "      <td>729.34</td>\n",
       "      <td>14.30</td>\n",
       "      <td>0.37</td>\n",
       "    </tr>\n",
       "    <tr>\n",
       "      <th>4</th>\n",
       "      <td>Ord_5485</td>\n",
       "      <td>Prod_17</td>\n",
       "      <td>SHP_7664</td>\n",
       "      <td>Cust_1818</td>\n",
       "      <td>4233.15</td>\n",
       "      <td>0.08</td>\n",
       "      <td>35.0</td>\n",
       "      <td>1219.87</td>\n",
       "      <td>26.30</td>\n",
       "      <td>0.38</td>\n",
       "    </tr>\n",
       "  </tbody>\n",
       "</table>\n",
       "</div>"
      ]
     },
     "execution_count": 1,
     "metadata": {},
     "output_type": "execute_result"
    }
   ],
   "execution_count": 1
  },
  {
   "metadata": {
    "ExecuteTime": {
     "end_time": "2025-04-20T13:53:19.278885Z",
     "start_time": "2025-04-20T13:53:19.261785Z"
    }
   },
   "cell_type": "code",
   "source": "df.isnull()",
   "id": "e883b8c8586f8605",
   "outputs": [
    {
     "data": {
      "text/plain": [
       "      Ord_id  Prod_id  Ship_id  Cust_id  Sales  Discount  Order_Quantity  \\\n",
       "0      False    False    False    False  False     False           False   \n",
       "1      False    False    False    False  False     False           False   \n",
       "2      False    False    False    False  False     False           False   \n",
       "3      False    False    False    False  False     False           False   \n",
       "4      False    False    False    False  False     False           False   \n",
       "...      ...      ...      ...      ...    ...       ...             ...   \n",
       "8394   False    False    False    False   True      True            True   \n",
       "8395   False    False    False    False   True      True            True   \n",
       "8396   False    False    False    False   True      True            True   \n",
       "8397   False    False    False    False   True      True            True   \n",
       "8398   False    False    False    False   True      True            True   \n",
       "\n",
       "      Profit  Shipping_Cost  Product_Base_Margin  \n",
       "0      False          False                False  \n",
       "1      False          False                False  \n",
       "2      False          False                False  \n",
       "3      False          False                False  \n",
       "4      False          False                False  \n",
       "...      ...            ...                  ...  \n",
       "8394    True           True                 True  \n",
       "8395    True           True                 True  \n",
       "8396    True           True                 True  \n",
       "8397    True           True                 True  \n",
       "8398    True           True                 True  \n",
       "\n",
       "[8399 rows x 10 columns]"
      ],
      "text/html": [
       "<div>\n",
       "<style scoped>\n",
       "    .dataframe tbody tr th:only-of-type {\n",
       "        vertical-align: middle;\n",
       "    }\n",
       "\n",
       "    .dataframe tbody tr th {\n",
       "        vertical-align: top;\n",
       "    }\n",
       "\n",
       "    .dataframe thead th {\n",
       "        text-align: right;\n",
       "    }\n",
       "</style>\n",
       "<table border=\"1\" class=\"dataframe\">\n",
       "  <thead>\n",
       "    <tr style=\"text-align: right;\">\n",
       "      <th></th>\n",
       "      <th>Ord_id</th>\n",
       "      <th>Prod_id</th>\n",
       "      <th>Ship_id</th>\n",
       "      <th>Cust_id</th>\n",
       "      <th>Sales</th>\n",
       "      <th>Discount</th>\n",
       "      <th>Order_Quantity</th>\n",
       "      <th>Profit</th>\n",
       "      <th>Shipping_Cost</th>\n",
       "      <th>Product_Base_Margin</th>\n",
       "    </tr>\n",
       "  </thead>\n",
       "  <tbody>\n",
       "    <tr>\n",
       "      <th>0</th>\n",
       "      <td>False</td>\n",
       "      <td>False</td>\n",
       "      <td>False</td>\n",
       "      <td>False</td>\n",
       "      <td>False</td>\n",
       "      <td>False</td>\n",
       "      <td>False</td>\n",
       "      <td>False</td>\n",
       "      <td>False</td>\n",
       "      <td>False</td>\n",
       "    </tr>\n",
       "    <tr>\n",
       "      <th>1</th>\n",
       "      <td>False</td>\n",
       "      <td>False</td>\n",
       "      <td>False</td>\n",
       "      <td>False</td>\n",
       "      <td>False</td>\n",
       "      <td>False</td>\n",
       "      <td>False</td>\n",
       "      <td>False</td>\n",
       "      <td>False</td>\n",
       "      <td>False</td>\n",
       "    </tr>\n",
       "    <tr>\n",
       "      <th>2</th>\n",
       "      <td>False</td>\n",
       "      <td>False</td>\n",
       "      <td>False</td>\n",
       "      <td>False</td>\n",
       "      <td>False</td>\n",
       "      <td>False</td>\n",
       "      <td>False</td>\n",
       "      <td>False</td>\n",
       "      <td>False</td>\n",
       "      <td>False</td>\n",
       "    </tr>\n",
       "    <tr>\n",
       "      <th>3</th>\n",
       "      <td>False</td>\n",
       "      <td>False</td>\n",
       "      <td>False</td>\n",
       "      <td>False</td>\n",
       "      <td>False</td>\n",
       "      <td>False</td>\n",
       "      <td>False</td>\n",
       "      <td>False</td>\n",
       "      <td>False</td>\n",
       "      <td>False</td>\n",
       "    </tr>\n",
       "    <tr>\n",
       "      <th>4</th>\n",
       "      <td>False</td>\n",
       "      <td>False</td>\n",
       "      <td>False</td>\n",
       "      <td>False</td>\n",
       "      <td>False</td>\n",
       "      <td>False</td>\n",
       "      <td>False</td>\n",
       "      <td>False</td>\n",
       "      <td>False</td>\n",
       "      <td>False</td>\n",
       "    </tr>\n",
       "    <tr>\n",
       "      <th>...</th>\n",
       "      <td>...</td>\n",
       "      <td>...</td>\n",
       "      <td>...</td>\n",
       "      <td>...</td>\n",
       "      <td>...</td>\n",
       "      <td>...</td>\n",
       "      <td>...</td>\n",
       "      <td>...</td>\n",
       "      <td>...</td>\n",
       "      <td>...</td>\n",
       "    </tr>\n",
       "    <tr>\n",
       "      <th>8394</th>\n",
       "      <td>False</td>\n",
       "      <td>False</td>\n",
       "      <td>False</td>\n",
       "      <td>False</td>\n",
       "      <td>True</td>\n",
       "      <td>True</td>\n",
       "      <td>True</td>\n",
       "      <td>True</td>\n",
       "      <td>True</td>\n",
       "      <td>True</td>\n",
       "    </tr>\n",
       "    <tr>\n",
       "      <th>8395</th>\n",
       "      <td>False</td>\n",
       "      <td>False</td>\n",
       "      <td>False</td>\n",
       "      <td>False</td>\n",
       "      <td>True</td>\n",
       "      <td>True</td>\n",
       "      <td>True</td>\n",
       "      <td>True</td>\n",
       "      <td>True</td>\n",
       "      <td>True</td>\n",
       "    </tr>\n",
       "    <tr>\n",
       "      <th>8396</th>\n",
       "      <td>False</td>\n",
       "      <td>False</td>\n",
       "      <td>False</td>\n",
       "      <td>False</td>\n",
       "      <td>True</td>\n",
       "      <td>True</td>\n",
       "      <td>True</td>\n",
       "      <td>True</td>\n",
       "      <td>True</td>\n",
       "      <td>True</td>\n",
       "    </tr>\n",
       "    <tr>\n",
       "      <th>8397</th>\n",
       "      <td>False</td>\n",
       "      <td>False</td>\n",
       "      <td>False</td>\n",
       "      <td>False</td>\n",
       "      <td>True</td>\n",
       "      <td>True</td>\n",
       "      <td>True</td>\n",
       "      <td>True</td>\n",
       "      <td>True</td>\n",
       "      <td>True</td>\n",
       "    </tr>\n",
       "    <tr>\n",
       "      <th>8398</th>\n",
       "      <td>False</td>\n",
       "      <td>False</td>\n",
       "      <td>False</td>\n",
       "      <td>False</td>\n",
       "      <td>True</td>\n",
       "      <td>True</td>\n",
       "      <td>True</td>\n",
       "      <td>True</td>\n",
       "      <td>True</td>\n",
       "      <td>True</td>\n",
       "    </tr>\n",
       "  </tbody>\n",
       "</table>\n",
       "<p>8399 rows × 10 columns</p>\n",
       "</div>"
      ]
     },
     "execution_count": 2,
     "metadata": {},
     "output_type": "execute_result"
    }
   ],
   "execution_count": 2
  },
  {
   "metadata": {
    "ExecuteTime": {
     "end_time": "2025-04-20T13:53:47.068881Z",
     "start_time": "2025-04-20T13:53:47.059864Z"
    }
   },
   "cell_type": "code",
   "source": "df.isnull().sum()",
   "id": "c51f56fb21c18cbc",
   "outputs": [
    {
     "data": {
      "text/plain": [
       "Ord_id                   0\n",
       "Prod_id                  0\n",
       "Ship_id                  0\n",
       "Cust_id                  0\n",
       "Sales                   20\n",
       "Discount                55\n",
       "Order_Quantity          55\n",
       "Profit                  55\n",
       "Shipping_Cost           55\n",
       "Product_Base_Margin    109\n",
       "dtype: int64"
      ]
     },
     "execution_count": 3,
     "metadata": {},
     "output_type": "execute_result"
    }
   ],
   "execution_count": 3
  },
  {
   "metadata": {
    "ExecuteTime": {
     "end_time": "2025-04-20T13:55:05.308416Z",
     "start_time": "2025-04-20T13:55:05.296724Z"
    }
   },
   "cell_type": "code",
   "source": "df.isnull().sum(axis=1)",
   "id": "7eb0a13015988f7b",
   "outputs": [
    {
     "data": {
      "text/plain": [
       "0       0\n",
       "1       0\n",
       "2       0\n",
       "3       0\n",
       "4       0\n",
       "       ..\n",
       "8394    6\n",
       "8395    6\n",
       "8396    6\n",
       "8397    6\n",
       "8398    6\n",
       "Length: 8399, dtype: int64"
      ]
     },
     "execution_count": 5,
     "metadata": {},
     "output_type": "execute_result"
    }
   ],
   "execution_count": 5
  },
  {
   "metadata": {
    "ExecuteTime": {
     "end_time": "2025-04-20T14:43:33.375311Z",
     "start_time": "2025-04-20T14:43:33.329077Z"
    }
   },
   "cell_type": "code",
   "source": "round(100 * (df.isnull().sum() / len(df.index)),2)",
   "id": "c3149fecbb3cda4c",
   "outputs": [
    {
     "data": {
      "text/plain": [
       "Ord_id                 0.00\n",
       "Prod_id                0.00\n",
       "Ship_id                0.00\n",
       "Cust_id                0.00\n",
       "Sales                  0.24\n",
       "Discount               0.65\n",
       "Order_Quantity         0.65\n",
       "Profit                 0.65\n",
       "Shipping_Cost          0.65\n",
       "Product_Base_Margin    1.30\n",
       "dtype: float64"
      ]
     },
     "execution_count": 6,
     "metadata": {},
     "output_type": "execute_result"
    }
   ],
   "execution_count": 6
  },
  {
   "metadata": {
    "ExecuteTime": {
     "end_time": "2025-04-20T14:45:06.152356Z",
     "start_time": "2025-04-20T14:45:06.138864Z"
    }
   },
   "cell_type": "code",
   "source": [
    "# count the number of rows having > 5 missing values\n",
    "# use len(df.index)\n",
    "len(df[df.isnull().sum(axis = 1) > 5].index)"
   ],
   "id": "c69fcdd650bb9390",
   "outputs": [
    {
     "data": {
      "text/plain": [
       "20"
      ]
     },
     "execution_count": 7,
     "metadata": {},
     "output_type": "execute_result"
    }
   ],
   "execution_count": 7
  },
  {
   "metadata": {
    "ExecuteTime": {
     "end_time": "2025-04-20T14:46:19.354952Z",
     "start_time": "2025-04-20T14:46:19.339532Z"
    }
   },
   "cell_type": "code",
   "source": [
    "# removing the rows with more than 5 missing values\n",
    "df.dropna(thresh = len(df.columns)*0.7, axis = 0, inplace = True)\n",
    "round(100 * (df.isnull().sum() / len(df.index)),2)"
   ],
   "id": "230b38956c437739",
   "outputs": [
    {
     "data": {
      "text/plain": [
       "Ord_id                 0.00\n",
       "Prod_id                0.00\n",
       "Ship_id                0.00\n",
       "Cust_id                0.00\n",
       "Sales                  0.00\n",
       "Discount               0.00\n",
       "Order_Quantity         0.00\n",
       "Profit                 0.00\n",
       "Shipping_Cost          0.00\n",
       "Product_Base_Margin    0.74\n",
       "dtype: float64"
      ]
     },
     "execution_count": 9,
     "metadata": {},
     "output_type": "execute_result"
    }
   ],
   "execution_count": 9
  },
  {
   "metadata": {
    "ExecuteTime": {
     "end_time": "2025-04-20T14:46:32.875940Z",
     "start_time": "2025-04-20T14:46:32.863695Z"
    }
   },
   "cell_type": "code",
   "source": "len(df[df.isnull().sum(axis = 1) > 5].index)",
   "id": "4f84a4ea655c873f",
   "outputs": [
    {
     "data": {
      "text/plain": [
       "0"
      ]
     },
     "execution_count": 10,
     "metadata": {},
     "output_type": "execute_result"
    }
   ],
   "execution_count": 10
  },
  {
   "metadata": {
    "ExecuteTime": {
     "end_time": "2025-04-20T14:51:24.839564Z",
     "start_time": "2025-04-20T14:51:24.828474Z"
    }
   },
   "cell_type": "code",
   "source": [
    "# Impute the mean value for Product_Base_Margin\n",
    "mean_value = df['Product_Base_Margin'].mean()\n",
    "df['Product_Base_Margin'].fillna(mean_value, inplace=True)\n",
    "\n",
    "# Print the percentage of missing values in each column\n",
    "print(round(100 * (df.isnull().sum() / len(df.index)), 2))"
   ],
   "id": "47463112ab55b9d8",
   "outputs": [
    {
     "name": "stdout",
     "output_type": "stream",
     "text": [
      "Ord_id                 0.0\n",
      "Prod_id                0.0\n",
      "Ship_id                0.0\n",
      "Cust_id                0.0\n",
      "Sales                  0.0\n",
      "Discount               0.0\n",
      "Order_Quantity         0.0\n",
      "Profit                 0.0\n",
      "Shipping_Cost          0.0\n",
      "Product_Base_Margin    0.0\n",
      "dtype: float64\n"
     ]
    },
    {
     "name": "stderr",
     "output_type": "stream",
     "text": [
      "C:\\Users\\abhis\\AppData\\Local\\Temp\\ipykernel_8036\\2734622649.py:3: FutureWarning: A value is trying to be set on a copy of a DataFrame or Series through chained assignment using an inplace method.\n",
      "The behavior will change in pandas 3.0. This inplace method will never work because the intermediate object on which we are setting values always behaves as a copy.\n",
      "\n",
      "For example, when doing 'df[col].method(value, inplace=True)', try using 'df.method({col: value}, inplace=True)' or df[col] = df[col].method(value) instead, to perform the operation inplace on the original object.\n",
      "\n",
      "\n",
      "  df['Product_Base_Margin'].fillna(mean_value, inplace=True)\n"
     ]
    }
   ],
   "execution_count": 14
  },
  {
   "metadata": {
    "ExecuteTime": {
     "end_time": "2025-04-20T14:52:26.354286Z",
     "start_time": "2025-04-20T14:52:26.337320Z"
    }
   },
   "cell_type": "code",
   "source": "df['Product_Base_Margin'].describe()",
   "id": "753115d59e61ba73",
   "outputs": [
    {
     "data": {
      "text/plain": [
       "count    8344.000000\n",
       "mean        0.512456\n",
       "std         0.135065\n",
       "min         0.350000\n",
       "25%         0.380000\n",
       "50%         0.520000\n",
       "75%         0.590000\n",
       "max         0.850000\n",
       "Name: Product_Base_Margin, dtype: float64"
      ]
     },
     "execution_count": 15,
     "metadata": {},
     "output_type": "execute_result"
    }
   ],
   "execution_count": 15
  },
  {
   "metadata": {},
   "cell_type": "code",
   "outputs": [],
   "execution_count": null,
   "source": "",
   "id": "44a5973f98eb73d5"
  }
 ],
 "metadata": {
  "kernelspec": {
   "display_name": "Python 3",
   "language": "python",
   "name": "python3"
  },
  "language_info": {
   "codemirror_mode": {
    "name": "ipython",
    "version": 2
   },
   "file_extension": ".py",
   "mimetype": "text/x-python",
   "name": "python",
   "nbconvert_exporter": "python",
   "pygments_lexer": "ipython2",
   "version": "2.7.6"
  }
 },
 "nbformat": 4,
 "nbformat_minor": 5
}
