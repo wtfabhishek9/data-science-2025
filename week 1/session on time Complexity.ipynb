{
 "cells": [
  {
   "cell_type": "code",
   "id": "initial_id",
   "metadata": {
    "collapsed": true,
    "ExecuteTime": {
     "end_time": "2025-02-03T03:14:07.552074Z",
     "start_time": "2025-02-03T03:14:07.544335Z"
    }
   },
   "source": [
    "import time\n",
    "start = time.time()\n",
    "for i in range(100):\n",
    "    print(i)\n",
    "\n",
    "end = time.time()\n",
    "print(end - start)"
   ],
   "outputs": [
    {
     "name": "stdout",
     "output_type": "stream",
     "text": [
      "0\n",
      "1\n",
      "2\n",
      "3\n",
      "4\n",
      "5\n",
      "6\n",
      "7\n",
      "8\n",
      "9\n",
      "10\n",
      "11\n",
      "12\n",
      "13\n",
      "14\n",
      "15\n",
      "16\n",
      "17\n",
      "18\n",
      "19\n",
      "20\n",
      "21\n",
      "22\n",
      "23\n",
      "24\n",
      "25\n",
      "26\n",
      "27\n",
      "28\n",
      "29\n",
      "30\n",
      "31\n",
      "32\n",
      "33\n",
      "34\n",
      "35\n",
      "36\n",
      "37\n",
      "38\n",
      "39\n",
      "40\n",
      "41\n",
      "42\n",
      "43\n",
      "44\n",
      "45\n",
      "46\n",
      "47\n",
      "48\n",
      "49\n",
      "50\n",
      "51\n",
      "52\n",
      "53\n",
      "54\n",
      "55\n",
      "56\n",
      "57\n",
      "58\n",
      "59\n",
      "60\n",
      "61\n",
      "62\n",
      "63\n",
      "64\n",
      "65\n",
      "66\n",
      "67\n",
      "68\n",
      "69\n",
      "70\n",
      "71\n",
      "72\n",
      "73\n",
      "74\n",
      "75\n",
      "76\n",
      "77\n",
      "78\n",
      "79\n",
      "80\n",
      "81\n",
      "82\n",
      "83\n",
      "84\n",
      "85\n",
      "86\n",
      "87\n",
      "88\n",
      "89\n",
      "90\n",
      "91\n",
      "92\n",
      "93\n",
      "94\n",
      "95\n",
      "96\n",
      "97\n",
      "98\n",
      "99\n",
      "0.0011365413665771484\n"
     ]
    }
   ],
   "execution_count": 1
  },
  {
   "metadata": {
    "ExecuteTime": {
     "end_time": "2025-02-03T03:14:07.752963Z",
     "start_time": "2025-02-03T03:14:07.747996Z"
    }
   },
   "cell_type": "code",
   "source": [
    "start = time.time()\n",
    "i = 0\n",
    "while i  != 2:\n",
    "    print(i)\n",
    "    i += 1\n",
    "\n",
    "end = time.time()\n",
    "print(end-start)"
   ],
   "id": "4d04ba46b5bbbacc",
   "outputs": [
    {
     "name": "stdout",
     "output_type": "stream",
     "text": [
      "0\n",
      "1\n",
      "0.0001761913299560547\n"
     ]
    }
   ],
   "execution_count": 2
  },
  {
   "metadata": {},
   "cell_type": "markdown",
   "source": [
    "what do we want\n",
    "\n",
    "1. we want to evaluate the algorithm\n",
    "2. we want to evaluate scalability\n",
    "3. we want to evaluate in terms of input size"
   ],
   "id": "813b6076ef583f2c"
  },
  {
   "metadata": {},
   "cell_type": "markdown",
   "source": "ORDERS OF GROWTH",
   "id": "59d33aa5506bc697"
  },
  {
   "metadata": {
    "ExecuteTime": {
     "end_time": "2025-02-03T03:14:07.784530Z",
     "start_time": "2025-02-03T03:14:07.780800Z"
    }
   },
   "cell_type": "code",
   "source": "# time complexity of n^2 + 2n + 2",
   "id": "50a5d4b53fd10574",
   "outputs": [],
   "execution_count": 3
  },
  {
   "metadata": {},
   "cell_type": "markdown",
   "source": [
    "types of orders of growth\n",
    "1. constant time\n",
    "2. linear time\n",
    "3. logarithmic time\n",
    "4. nlogn\n",
    "5. quadratic time\n",
    "6. cubic time\n",
    "7. exponential time\n",
    "8. factorial time"
   ],
   "id": "f51ce0c37528e452"
  },
  {
   "metadata": {
    "ExecuteTime": {
     "end_time": "2025-02-03T03:14:07.804740Z",
     "start_time": "2025-02-03T03:14:07.800032Z"
    }
   },
   "cell_type": "code",
   "source": [
    "# constant time complexity example\n",
    "# the time complexity of this function is O(1)\n",
    "def print_number(number):\n",
    "    print(number)\n",
    "\n",
    "print_number(10)\n",
    "\n"
   ],
   "id": "3841b1aad4e3e763",
   "outputs": [
    {
     "name": "stdout",
     "output_type": "stream",
     "text": [
      "10\n"
     ]
    }
   ],
   "execution_count": 4
  },
  {
   "metadata": {
    "ExecuteTime": {
     "end_time": "2025-02-03T03:14:07.849719Z",
     "start_time": "2025-02-03T03:14:07.843973Z"
    }
   },
   "cell_type": "code",
   "source": [
    "# linear time complexity example\n",
    "# the time complexity of this function is O(n)\n",
    "def print_numbers(numbers):\n",
    "    for number in numbers:\n",
    "        print(number)\n",
    "\n",
    "numbers = [1, 2, 3, 4, 5]\n",
    "print_numbers(numbers)\n",
    "\n"
   ],
   "id": "f8ae122bdc47a005",
   "outputs": [
    {
     "name": "stdout",
     "output_type": "stream",
     "text": [
      "1\n",
      "2\n",
      "3\n",
      "4\n",
      "5\n"
     ]
    }
   ],
   "execution_count": 5
  },
  {
   "metadata": {
    "ExecuteTime": {
     "end_time": "2025-02-03T03:14:07.901065Z",
     "start_time": "2025-02-03T03:14:07.894410Z"
    }
   },
   "cell_type": "code",
   "source": [
    "# quadratic time complexity example\n",
    "# the time complexity of this function is O(n^2)\n",
    "def print_numbers(numbers):\n",
    "    for first_number in numbers:\n",
    "        for second_number in numbers:\n",
    "            print(first_number, second_number)\n",
    "\n",
    "numbers = [1, 2, 3, 4, 5]\n",
    "print_numbers(numbers)"
   ],
   "id": "2e105178dde7b88e",
   "outputs": [
    {
     "name": "stdout",
     "output_type": "stream",
     "text": [
      "1 1\n",
      "1 2\n",
      "1 3\n",
      "1 4\n",
      "1 5\n",
      "2 1\n",
      "2 2\n",
      "2 3\n",
      "2 4\n",
      "2 5\n",
      "3 1\n",
      "3 2\n",
      "3 3\n",
      "3 4\n",
      "3 5\n",
      "4 1\n",
      "4 2\n",
      "4 3\n",
      "4 4\n",
      "4 5\n",
      "5 1\n",
      "5 2\n",
      "5 3\n",
      "5 4\n",
      "5 5\n"
     ]
    }
   ],
   "execution_count": 6
  },
  {
   "metadata": {
    "ExecuteTime": {
     "end_time": "2025-02-03T03:14:07.953140Z",
     "start_time": "2025-02-03T03:14:07.947263Z"
    }
   },
   "cell_type": "code",
   "source": [
    "# logarithmic time complexity example\n",
    "# the time complexity of this function is O(log n)\n",
    "def print_numbers(numbers):\n",
    "    for index in range(0, len(numbers), 2):\n",
    "        print(numbers[index])\n",
    "\n",
    "numbers = [1, 2, 3, 4, 5, 6, 7, 8, 9, 10]\n",
    "print_numbers(numbers)"
   ],
   "id": "5474c9999381fd39",
   "outputs": [
    {
     "name": "stdout",
     "output_type": "stream",
     "text": [
      "1\n",
      "3\n",
      "5\n",
      "7\n",
      "9\n"
     ]
    }
   ],
   "execution_count": 7
  },
  {
   "metadata": {
    "ExecuteTime": {
     "end_time": "2025-02-03T03:14:08.054999Z",
     "start_time": "2025-02-03T03:14:08.049811Z"
    }
   },
   "cell_type": "code",
   "source": [
    "# n log n time complexity example\n",
    "# the time complexity of this function is O(n log n)\n",
    "def print_numbers(numbers):\n",
    "    numbers.sort()\n",
    "    for number in numbers:\n",
    "        print(number)\n",
    "\n",
    "numbers = [5, 3, 8, 6, 2, 7, 1, 4, 10, 9]\n",
    "print_numbers(numbers)"
   ],
   "id": "18c438e8a20c9972",
   "outputs": [
    {
     "name": "stdout",
     "output_type": "stream",
     "text": [
      "1\n",
      "2\n",
      "3\n",
      "4\n",
      "5\n",
      "6\n",
      "7\n",
      "8\n",
      "9\n",
      "10\n"
     ]
    }
   ],
   "execution_count": 8
  },
  {
   "metadata": {
    "ExecuteTime": {
     "end_time": "2025-02-03T03:14:08.139763Z",
     "start_time": "2025-02-03T03:14:08.130263Z"
    }
   },
   "cell_type": "code",
   "source": [
    "# cubic time complexity example\n",
    "# the time complexity of this function is O(n^3)\n",
    "def print_numbers(numbers):\n",
    "    for first_number in numbers:\n",
    "        for second_number in numbers:\n",
    "            for third_number in numbers:\n",
    "                print(first_number, second_number, third_number)\n",
    "\n",
    "numbers = [1, 2, 3, 4, 5]\n",
    "print_numbers(numbers)"
   ],
   "id": "7e45835c58af0d63",
   "outputs": [
    {
     "name": "stdout",
     "output_type": "stream",
     "text": [
      "1 1 1\n",
      "1 1 2\n",
      "1 1 3\n",
      "1 1 4\n",
      "1 1 5\n",
      "1 2 1\n",
      "1 2 2\n",
      "1 2 3\n",
      "1 2 4\n",
      "1 2 5\n",
      "1 3 1\n",
      "1 3 2\n",
      "1 3 3\n",
      "1 3 4\n",
      "1 3 5\n",
      "1 4 1\n",
      "1 4 2\n",
      "1 4 3\n",
      "1 4 4\n",
      "1 4 5\n",
      "1 5 1\n",
      "1 5 2\n",
      "1 5 3\n",
      "1 5 4\n",
      "1 5 5\n",
      "2 1 1\n",
      "2 1 2\n",
      "2 1 3\n",
      "2 1 4\n",
      "2 1 5\n",
      "2 2 1\n",
      "2 2 2\n",
      "2 2 3\n",
      "2 2 4\n",
      "2 2 5\n",
      "2 3 1\n",
      "2 3 2\n",
      "2 3 3\n",
      "2 3 4\n",
      "2 3 5\n",
      "2 4 1\n",
      "2 4 2\n",
      "2 4 3\n",
      "2 4 4\n",
      "2 4 5\n",
      "2 5 1\n",
      "2 5 2\n",
      "2 5 3\n",
      "2 5 4\n",
      "2 5 5\n",
      "3 1 1\n",
      "3 1 2\n",
      "3 1 3\n",
      "3 1 4\n",
      "3 1 5\n",
      "3 2 1\n",
      "3 2 2\n",
      "3 2 3\n",
      "3 2 4\n",
      "3 2 5\n",
      "3 3 1\n",
      "3 3 2\n",
      "3 3 3\n",
      "3 3 4\n",
      "3 3 5\n",
      "3 4 1\n",
      "3 4 2\n",
      "3 4 3\n",
      "3 4 4\n",
      "3 4 5\n",
      "3 5 1\n",
      "3 5 2\n",
      "3 5 3\n",
      "3 5 4\n",
      "3 5 5\n",
      "4 1 1\n",
      "4 1 2\n",
      "4 1 3\n",
      "4 1 4\n",
      "4 1 5\n",
      "4 2 1\n",
      "4 2 2\n",
      "4 2 3\n",
      "4 2 4\n",
      "4 2 5\n",
      "4 3 1\n",
      "4 3 2\n",
      "4 3 3\n",
      "4 3 4\n",
      "4 3 5\n",
      "4 4 1\n",
      "4 4 2\n",
      "4 4 3\n",
      "4 4 4\n",
      "4 4 5\n",
      "4 5 1\n",
      "4 5 2\n",
      "4 5 3\n",
      "4 5 4\n",
      "4 5 5\n",
      "5 1 1\n",
      "5 1 2\n",
      "5 1 3\n",
      "5 1 4\n",
      "5 1 5\n",
      "5 2 1\n",
      "5 2 2\n",
      "5 2 3\n",
      "5 2 4\n",
      "5 2 5\n",
      "5 3 1\n",
      "5 3 2\n",
      "5 3 3\n",
      "5 3 4\n",
      "5 3 5\n",
      "5 4 1\n",
      "5 4 2\n",
      "5 4 3\n",
      "5 4 4\n",
      "5 4 5\n",
      "5 5 1\n",
      "5 5 2\n",
      "5 5 3\n",
      "5 5 4\n",
      "5 5 5\n"
     ]
    }
   ],
   "execution_count": 9
  },
  {
   "metadata": {
    "ExecuteTime": {
     "end_time": "2025-02-03T03:14:08.196608Z",
     "start_time": "2025-02-03T03:14:08.190052Z"
    }
   },
   "cell_type": "code",
   "source": [
    "# exponential time complexity example\n",
    "# the time complexity of this function is O(2^n)\n",
    "def fibonacci(n):\n",
    "    if n <= 1:\n",
    "        return n\n",
    "    return fibonacci(n - 1) + fibonacci(n - 2)\n",
    "\n",
    "n = 7\n",
    "print(fibonacci(n))"
   ],
   "id": "4f5a515209345e48",
   "outputs": [
    {
     "name": "stdout",
     "output_type": "stream",
     "text": [
      "13\n"
     ]
    }
   ],
   "execution_count": 10
  },
  {
   "metadata": {
    "ExecuteTime": {
     "end_time": "2025-02-03T03:14:08.240997Z",
     "start_time": "2025-02-03T03:14:08.235506Z"
    }
   },
   "cell_type": "code",
   "source": [
    "# factorial time complexity example\n",
    "# the time complexity of this function is O(n!)\n",
    "def factorial(n):\n",
    "    if n == 1:\n",
    "        return n\n",
    "    return n * factorial(n - 1)\n",
    "\n",
    "n = 5\n",
    "print(factorial(n))"
   ],
   "id": "abe524eb79237e98",
   "outputs": [
    {
     "name": "stdout",
     "output_type": "stream",
     "text": [
      "120\n"
     ]
    }
   ],
   "execution_count": 11
  },
  {
   "metadata": {
    "ExecuteTime": {
     "end_time": "2025-02-03T03:14:08.285523Z",
     "start_time": "2025-02-03T03:14:08.282250Z"
    }
   },
   "cell_type": "code",
   "source": "",
   "id": "48c6eb485f0de1fd",
   "outputs": [],
   "execution_count": null
  }
 ],
 "metadata": {
  "kernelspec": {
   "display_name": "Python 3",
   "language": "python",
   "name": "python3"
  },
  "language_info": {
   "codemirror_mode": {
    "name": "ipython",
    "version": 2
   },
   "file_extension": ".py",
   "mimetype": "text/x-python",
   "name": "python",
   "nbconvert_exporter": "python",
   "pygments_lexer": "ipython2",
   "version": "2.7.6"
  }
 },
 "nbformat": 4,
 "nbformat_minor": 5
}
