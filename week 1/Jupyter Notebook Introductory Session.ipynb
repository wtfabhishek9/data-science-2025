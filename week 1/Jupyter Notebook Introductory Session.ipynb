{
 "cells": [
  {
   "metadata": {},
   "cell_type": "raw",
   "source": "",
   "id": "8a5e43327b5b558a"
  },
  {
   "metadata": {},
   "cell_type": "markdown",
   "source": [
    "# This is a title\n",
    "## This is a heading\n",
    "### This is a subheading\n",
    "#### This is a sub-subheading\n",
    "##### This Fifth hash makes it italic. Wow!\n"
   ],
   "id": "753db5702d400b69"
  },
  {
   "metadata": {},
   "cell_type": "markdown",
   "source": [
    "## Formatting in Markdown cells\n",
    "\n",
    "### Emphasis\n",
    "\n",
    "__\"This will apper bold\"__\n",
    "\n",
    "**\"So will this\"**\n",
    "\n",
    "_\"Just one dash makes it italic\"_\n",
    "\n",
    "*\"And one star on either side as well.\"*\n",
    "\n",
    "***\"This one's both bold and italic.\"***"
   ],
   "id": "4659b9928acde8d6"
  },
  {
   "metadata": {},
   "cell_type": "markdown",
   "source": [
    "### Monospace Fonts\n",
    "\n",
    "Use a back single quotation mark (\\`) to get monospace fonts.\n",
    "\n",
    "`This text will apper in monospace font.` <br> `Python is important language` <br>"
   ],
   "id": "f8ee6a70892fd33a"
  },
  {
   "metadata": {},
   "cell_type": "markdown",
   "source": [
    "### Line Breaks\n",
    "\n",
    "Sometimes in the markdown cells, you don't get a line break where you want simply by pressing enter. in such cases use `<br>` to get a manual line break.\n",
    "\n",
    "I want a line break here.\n",
    "But I don't get it. :/\n",
    "<br>\n",
    "So i used a manual line break <br>\n",
    "There we Go ! :)"
   ],
   "id": "fcd8789e389143a3"
  },
  {
   "metadata": {},
   "cell_type": "markdown",
   "source": [
    "### Indenting\n",
    "\n",
    "Use `>` to indent your text.\n",
    "\n",
    "this is the first line\n",
    "> This indents the second line.\n",
    ">> This further indents it.\n",
    ">>> And this goes on and on."
   ],
   "id": "b864a23c0356521b"
  },
  {
   "metadata": {},
   "cell_type": "markdown",
   "source": [
    "### Bullets and Numbering\n",
    "\n",
    "-  A dash followed by two spaces, i.e. `'_  '` creates a bullet.\n",
    "    -  Pressing a tab before   doing the above creates a sub-bullet."
   ],
   "id": "1f1ca1df77410c3c"
  },
  {
   "metadata": {},
   "cell_type": "markdown",
   "source": [
    "1. Start with a simple `1. ` (Followed by a dot and space) to get a numbered list.\n",
    "2. And keep doing it for further numbers.\n",
    "    1. Again  just a tab the sub-bullet."
   ],
   "id": "59c4f9eee26c7981"
  },
  {
   "metadata": {},
   "cell_type": "markdown",
   "source": [
    "### Coloring\n",
    "\n",
    "-  <font color = Pink> Pussy. </font>\n",
    "-  <font color = Yellow> I hate this color </font>"
   ],
   "id": "18551c946767f4bd"
  },
  {
   "metadata": {},
   "cell_type": "markdown",
   "source": [
    "### Adding a image\n",
    "\n",
    "![This is an image](https://www.w3schools.com/w3images/lights.jpg)"
   ],
   "id": "fe73f9e13e1a3572"
  },
  {
   "metadata": {},
   "cell_type": "markdown",
   "source": [
    "### Latex Equations\n",
    "\n",
    "Jupyter notebook also supports Latex equations. Use a `$` on either side to write a latex equation.\n",
    "\n",
    "The below example is just a hypothetical equation to explain how you can write LateX equation in Jupyter Notebook.\n",
    "<br>\n",
    "\n",
    "$(\\frac{a_1}{a_2} + \\frac{a_3}{a_4})^2 = a_5^3$\n",
    "Go Through the [LaTeX Math Symbols](https://www.latex-tutorial.com/tutorials/latex-math-symbols/) for more symbols."
   ],
   "id": "8fe77c768c97ab29"
  },
  {
   "metadata": {},
   "cell_type": "markdown",
   "source": [
    "### Command mode.\n",
    "-   `esc` to go into command line\n",
    "-   `enter` to go back to edit\n",
    "-    `M` to convert the cell to markdown\n",
    "-   `Y` to convert the cell to code\n",
    "-   `A` to insert a New cell above\n",
    "-   `B` to insert a New cell below\n",
    "-   `X` to cut the cell\n",
    "-   `C` to copy the cell\n",
    "-   `V` to paste the cell\n",
    "-   `Z` to undo the last cell deletion\n",
    "-   `D` `D` to delete the cell\n",
    "-   `Shift + Space` to scroll upwards\n",
    "-   `Space` to scroll downwards"
   ],
   "id": "17b8297de29732eb"
  },
  {
   "metadata": {},
   "cell_type": "markdown",
   "source": [
    "### Edit mode\n",
    "-   `Ctrl + Enter` to run the cell\n",
    "-   `Shift + Enter` to run the cell and go to the next cell\n",
    "-   `Alt + Enter` to run the cell and insert a new cell below\n",
    "-   `Ctrl + Z` to undo the last cell deletion\n",
    "-  `Ctrl + Shift + -` to split the cell at the cursor\n",
    "-  `Ctrl + Shift + P` to open the command palette\n",
    "-  `Ctrl + Shift + C` to copy the cell\n",
    "-  `Ctrl + Shift + V` to paste the cell\n",
    "-  `alt + Enter` to run the cell and insert a new cell below\n",
    "- `Ctrl + Shift + -` to split the cell at the cursor"
   ],
   "id": "f61b1b4dda664efe"
  },
  {
   "metadata": {},
   "cell_type": "markdown",
   "source": "",
   "id": "1d45da6f58909dff"
  }
 ],
 "metadata": {
  "kernelspec": {
   "display_name": "Python 3",
   "language": "python",
   "name": "python3"
  },
  "language_info": {
   "codemirror_mode": {
    "name": "ipython",
    "version": 2
   },
   "file_extension": ".py",
   "mimetype": "text/x-python",
   "name": "python",
   "nbconvert_exporter": "python",
   "pygments_lexer": "ipython2",
   "version": "2.7.6"
  }
 },
 "nbformat": 4,
 "nbformat_minor": 5
}
