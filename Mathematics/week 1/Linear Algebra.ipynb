{
 "cells": [
  {
   "cell_type": "markdown",
   "id": "6693e8141505d8d",
   "metadata": {},
   "source": [
    "## Vector Spaces"
   ]
  },
  {
   "cell_type": "markdown",
   "id": "cd755f16bf471911",
   "metadata": {},
   "source": [
    "### 1. Verifying Vector Spaces and Subspaces.\n",
    "\n",
    "__Example 1: Is a subset of ℝ³ a subspace?__\n",
    "\n",
    "__Problem__: Determine if the set $(W=\\{(x,y,z)\\in \\mathbb{R}^{3}\\mid x+y+z=0\\}$ is a subspace.\n",
    "\n",
    "__Python Approach:__\n",
    "\n",
    "1. Check if the __zero vector__ is in $W.$\n",
    "2. Verify __closure under addition__ and __scalar multiplication.__"
   ]
  },
  {
   "cell_type": "code",
   "execution_count": 1,
   "id": "5343f8882043954b",
   "metadata": {
    "ExecuteTime": {
     "end_time": "2025-03-29T08:32:44.253152Z",
     "start_time": "2025-03-29T08:32:44.000316Z"
    }
   },
   "outputs": [
    {
     "name": "stdout",
     "output_type": "stream",
     "text": [
      "v1 + v2 = Sum satisfies x + y + z =  0\n",
      "3 * v1 =  [ 3 -3  0] Scaled satisfies x + y + z = 0\n",
      "Zero vector in W ? True\n"
     ]
    }
   ],
   "source": [
    "import numpy as np\n",
    "\n",
    "# Define vector in W ( satisfy x + y + z = 0)\n",
    "v1 = np.array([1, -1, 0])\n",
    "v2 = np.array([2, 3, -5])\n",
    "\n",
    "# check closure under addition\n",
    "v_sum = v1 + v2\n",
    "print(\"v1 + v2 =\", \"Sum satisfies x + y + z = \", np.sum(v_sum))\n",
    "\n",
    "# check closure  under scalar multiplication\n",
    "c = 3\n",
    "v_scaled = c * v1\n",
    "print(\"3 * v1 = \", v_scaled, \"Scaled satisfies x + y + z =\", np.sum(v_scaled))\n",
    "\n",
    "# Check if zero vector exists\n",
    "zero = np.array([0, 0, 0])\n",
    "print(\"Zero vector in W ?\", np.sum(zero) == 0)"
   ]
  },
  {
   "cell_type": "markdown",
   "id": "6d757092683c7cf4",
   "metadata": {},
   "source": [
    "__Example 2: A non-subspace (z = 1) <br> <br>__\n",
    "__Problem:__ Check if $S={(x,y,1)∣x,y∈R}$ is a subspace."
   ]
  },
  {
   "cell_type": "code",
   "execution_count": 2,
   "id": "bc4e9a354e885772",
   "metadata": {
    "ExecuteTime": {
     "end_time": "2025-03-29T08:32:44.281561Z",
     "start_time": "2025-03-29T08:32:44.275357Z"
    }
   },
   "outputs": [
    {
     "name": "stdout",
     "output_type": "stream",
     "text": [
      "u + w =  [1 7 2] z-component =  2\n"
     ]
    }
   ],
   "source": [
    "# define vector in S ( z = 1)\n",
    "u = np.array([2,3,1])\n",
    "w = np.array([-1, 4, 1])\n",
    "\n",
    "# Check closure in under addition\n",
    "u_plus_w = u +  w\n",
    "print(\"u + w = \", u_plus_w, \"z-component = \", np.sum(u_plus_w[2]))"
   ]
  },
  {
   "cell_type": "markdown",
   "id": "481d4443e0299565",
   "metadata": {},
   "source": [
    " __2. Linear Independence__ <br> <br>\n",
    "Problem: Check if $v_1$ = (1,2), $v_2$ = (3,4) are linearly independent.\n",
    "\n",
    "__Python Approach:__\n",
    "\n",
    "- Form a matrix with these vectors as columns.\n",
    "\n",
    "- Check if the determinant is non-zero (for 2x2 matrices)."
   ]
  },
  {
   "cell_type": "code",
   "execution_count": 3,
   "id": "1f18581178089069",
   "metadata": {
    "ExecuteTime": {
     "end_time": "2025-03-29T08:32:44.958694Z",
     "start_time": "2025-03-29T08:32:44.951835Z"
    }
   },
   "outputs": [
    {
     "name": "stdout",
     "output_type": "stream",
     "text": [
      "Determinant:  -2.0\n"
     ]
    }
   ],
   "source": [
    "matrix = np.array([[1,3],\n",
    "                   [2,4]])\n",
    "det = np.linalg.det(matrix)\n",
    "print(\"Determinant: \", det)"
   ]
  },
  {
   "cell_type": "markdown",
   "id": "7be9401187e642d",
   "metadata": {},
   "source": [
    "__3. Spanning Sets__ <br> <br>\n",
    "__Problem:__ Check if the vectors $v_1$ = (1,2,3), $v_2$ = (4,5,6), $v_3$ = (7,8,9) span $\\mathbb{R}^3$.\n",
    "\n",
    "__Python Approach:__\n",
    "\n",
    "- Check the rank of the matrix formed by these vectors."
   ]
  },
  {
   "cell_type": "code",
   "execution_count": 4,
   "id": "2104a902e736ecc5",
   "metadata": {
    "ExecuteTime": {
     "end_time": "2025-03-29T08:32:44.984988Z",
     "start_time": "2025-03-29T08:32:44.972735Z"
    }
   },
   "outputs": [
    {
     "name": "stdout",
     "output_type": "stream",
     "text": [
      "Rank of the matrix:  2\n"
     ]
    }
   ],
   "source": [
    "matrix = np.array([\n",
    "    [1, 4, 7],\n",
    "    [2, 5, 8],\n",
    "    [3, 6, 9]\n",
    "])\n",
    "rank = np.linalg.matrix_rank(matrix)\n",
    "print(\"Rank of the matrix: \", rank)"
   ]
  },
  {
   "cell_type": "markdown",
   "id": "a311fb9a69154da3",
   "metadata": {},
   "source": [
    "__4. Basis for a Subspace__ <br> <br>\n",
    "__Problem:__ Find a basis for $W=\\{(x_{1},x_{2},x_{3},x_{4})\\in \\mathbb{R}^{4}\\mid x_{1}+x_{2}-x_{3}=0\\text{\\ and\\ }x_{2}+x_{4}=0\\}$\n",
    "\n",
    "__Python Approach:__\n",
    "\n",
    "- Use `sympy` to solve the system of equations symbolically."
   ]
  },
  {
   "cell_type": "code",
   "execution_count": 6,
   "id": "f6288344fb06c507",
   "metadata": {
    "ExecuteTime": {
     "end_time": "2025-03-29T08:32:46.217545Z",
     "start_time": "2025-03-29T08:32:45.074137Z"
    }
   },
   "outputs": [
    {
     "name": "stdout",
     "output_type": "stream",
     "text": [
      "Defaulting to user installation because normal site-packages is not writeable\n",
      "Collecting sympy\n",
      "  Downloading sympy-1.13.3-py3-none-any.whl.metadata (12 kB)\n",
      "Collecting mpmath<1.4,>=1.1.0 (from sympy)\n",
      "  Using cached mpmath-1.3.0-py3-none-any.whl.metadata (8.6 kB)\n",
      "Downloading sympy-1.13.3-py3-none-any.whl (6.2 MB)\n",
      "   ---------------------------------------- 0.0/6.2 MB ? eta -:--:--\n",
      "   ---------------------------------------- 0.0/6.2 MB ? eta -:--:--\n",
      "   - -------------------------------------- 0.3/6.2 MB ? eta -:--:--\n",
      "   - -------------------------------------- 0.3/6.2 MB ? eta -:--:--\n",
      "   - -------------------------------------- 0.3/6.2 MB ? eta -:--:--\n",
      "   - -------------------------------------- 0.3/6.2 MB ? eta -:--:--\n",
      "   - -------------------------------------- 0.3/6.2 MB ? eta -:--:--\n",
      "   --- ------------------------------------ 0.5/6.2 MB 262.1 kB/s eta 0:00:22\n",
      "   --- ------------------------------------ 0.5/6.2 MB 262.1 kB/s eta 0:00:22\n",
      "   --- ------------------------------------ 0.5/6.2 MB 262.1 kB/s eta 0:00:22\n",
      "   --- ------------------------------------ 0.5/6.2 MB 262.1 kB/s eta 0:00:22\n",
      "   --- ------------------------------------ 0.5/6.2 MB 262.1 kB/s eta 0:00:22\n",
      "   --- ------------------------------------ 0.5/6.2 MB 262.1 kB/s eta 0:00:22\n",
      "   --- ------------------------------------ 0.5/6.2 MB 262.1 kB/s eta 0:00:22\n",
      "   ----- ---------------------------------- 0.8/6.2 MB 218.5 kB/s eta 0:00:25\n",
      "   ----- ---------------------------------- 0.8/6.2 MB 218.5 kB/s eta 0:00:25\n",
      "   ----- ---------------------------------- 0.8/6.2 MB 218.5 kB/s eta 0:00:25\n",
      "   ----- ---------------------------------- 0.8/6.2 MB 218.5 kB/s eta 0:00:25\n",
      "   ------ --------------------------------- 1.0/6.2 MB 239.3 kB/s eta 0:00:22\n",
      "   ------ --------------------------------- 1.0/6.2 MB 239.3 kB/s eta 0:00:22\n",
      "   ------ --------------------------------- 1.0/6.2 MB 239.3 kB/s eta 0:00:22\n",
      "   ------ --------------------------------- 1.0/6.2 MB 239.3 kB/s eta 0:00:22\n",
      "   ------ --------------------------------- 1.0/6.2 MB 239.3 kB/s eta 0:00:22\n",
      "   ------ --------------------------------- 1.0/6.2 MB 239.3 kB/s eta 0:00:22\n",
      "   -------- ------------------------------- 1.3/6.2 MB 237.0 kB/s eta 0:00:21\n",
      "   -------- ------------------------------- 1.3/6.2 MB 237.0 kB/s eta 0:00:21\n",
      "   -------- ------------------------------- 1.3/6.2 MB 237.0 kB/s eta 0:00:21\n",
      "   -------- ------------------------------- 1.3/6.2 MB 237.0 kB/s eta 0:00:21\n",
      "   -------- ------------------------------- 1.3/6.2 MB 237.0 kB/s eta 0:00:21\n",
      "   -------- ------------------------------- 1.3/6.2 MB 237.0 kB/s eta 0:00:21\n",
      "   ---------- ----------------------------- 1.6/6.2 MB 228.8 kB/s eta 0:00:21\n",
      "   ---------- ----------------------------- 1.6/6.2 MB 228.8 kB/s eta 0:00:21\n",
      "   ---------- ----------------------------- 1.6/6.2 MB 228.8 kB/s eta 0:00:21\n",
      "   ---------- ----------------------------- 1.6/6.2 MB 228.8 kB/s eta 0:00:21\n",
      "   ---------- ----------------------------- 1.6/6.2 MB 228.8 kB/s eta 0:00:21\n",
      "   ---------- ----------------------------- 1.6/6.2 MB 228.8 kB/s eta 0:00:21\n",
      "   ----------- ---------------------------- 1.8/6.2 MB 226.5 kB/s eta 0:00:20\n",
      "   ----------- ---------------------------- 1.8/6.2 MB 226.5 kB/s eta 0:00:20\n",
      "   ----------- ---------------------------- 1.8/6.2 MB 226.5 kB/s eta 0:00:20\n",
      "   ----------- ---------------------------- 1.8/6.2 MB 226.5 kB/s eta 0:00:20\n",
      "   ----------- ---------------------------- 1.8/6.2 MB 226.5 kB/s eta 0:00:20\n",
      "   ----------- ---------------------------- 1.8/6.2 MB 226.5 kB/s eta 0:00:20\n",
      "   ------------- -------------------------- 2.1/6.2 MB 224.1 kB/s eta 0:00:19\n",
      "   ------------- -------------------------- 2.1/6.2 MB 224.1 kB/s eta 0:00:19\n",
      "   ------------- -------------------------- 2.1/6.2 MB 224.1 kB/s eta 0:00:19\n",
      "   ------------- -------------------------- 2.1/6.2 MB 224.1 kB/s eta 0:00:19\n",
      "   ------------- -------------------------- 2.1/6.2 MB 224.1 kB/s eta 0:00:19\n",
      "   ------------- -------------------------- 2.1/6.2 MB 224.1 kB/s eta 0:00:19\n",
      "   ------------- -------------------------- 2.1/6.2 MB 224.1 kB/s eta 0:00:19\n",
      "   ------------- -------------------------- 2.1/6.2 MB 224.1 kB/s eta 0:00:19\n",
      "   --------------- ------------------------ 2.4/6.2 MB 211.4 kB/s eta 0:00:19\n",
      "   --------------- ------------------------ 2.4/6.2 MB 211.4 kB/s eta 0:00:19\n",
      "   --------------- ------------------------ 2.4/6.2 MB 211.4 kB/s eta 0:00:19\n",
      "   --------------- ------------------------ 2.4/6.2 MB 211.4 kB/s eta 0:00:19\n",
      "   --------------- ------------------------ 2.4/6.2 MB 211.4 kB/s eta 0:00:19\n",
      "   --------------- ------------------------ 2.4/6.2 MB 211.4 kB/s eta 0:00:19\n",
      "   --------------- ------------------------ 2.4/6.2 MB 211.4 kB/s eta 0:00:19\n",
      "   ---------------- ----------------------- 2.6/6.2 MB 203.3 kB/s eta 0:00:18\n",
      "   ---------------- ----------------------- 2.6/6.2 MB 203.3 kB/s eta 0:00:18\n",
      "   ---------------- ----------------------- 2.6/6.2 MB 203.3 kB/s eta 0:00:18\n",
      "   ---------------- ----------------------- 2.6/6.2 MB 203.3 kB/s eta 0:00:18\n",
      "   ---------------- ----------------------- 2.6/6.2 MB 203.3 kB/s eta 0:00:18\n",
      "   ------------------ --------------------- 2.9/6.2 MB 206.9 kB/s eta 0:00:16\n",
      "   ------------------ --------------------- 2.9/6.2 MB 206.9 kB/s eta 0:00:16\n",
      "   ------------------ --------------------- 2.9/6.2 MB 206.9 kB/s eta 0:00:16\n",
      "   ------------------ --------------------- 2.9/6.2 MB 206.9 kB/s eta 0:00:16\n",
      "   ------------------ --------------------- 2.9/6.2 MB 206.9 kB/s eta 0:00:16\n",
      "   ------------------ --------------------- 2.9/6.2 MB 206.9 kB/s eta 0:00:16\n",
      "   ------------------ --------------------- 2.9/6.2 MB 206.9 kB/s eta 0:00:16\n",
      "   -------------------- ------------------- 3.1/6.2 MB 206.8 kB/s eta 0:00:15\n",
      "   -------------------- ------------------- 3.1/6.2 MB 206.8 kB/s eta 0:00:15\n",
      "   -------------------- ------------------- 3.1/6.2 MB 206.8 kB/s eta 0:00:15\n",
      "   ---------------------- ----------------- 3.4/6.2 MB 214.4 kB/s eta 0:00:13\n",
      "   ---------------------- ----------------- 3.4/6.2 MB 214.4 kB/s eta 0:00:13\n",
      "   ---------------------- ----------------- 3.4/6.2 MB 214.4 kB/s eta 0:00:13\n",
      "   ---------------------- ----------------- 3.4/6.2 MB 214.4 kB/s eta 0:00:13\n",
      "   ---------------------- ----------------- 3.4/6.2 MB 214.4 kB/s eta 0:00:13\n",
      "   ---------------------- ----------------- 3.4/6.2 MB 214.4 kB/s eta 0:00:13\n",
      "   ----------------------- ---------------- 3.7/6.2 MB 212.7 kB/s eta 0:00:12\n",
      "   ----------------------- ---------------- 3.7/6.2 MB 212.7 kB/s eta 0:00:12\n",
      "   ----------------------- ---------------- 3.7/6.2 MB 212.7 kB/s eta 0:00:12\n",
      "   ----------------------- ---------------- 3.7/6.2 MB 212.7 kB/s eta 0:00:12\n",
      "   ----------------------- ---------------- 3.7/6.2 MB 212.7 kB/s eta 0:00:12\n",
      "   ----------------------- ---------------- 3.7/6.2 MB 212.7 kB/s eta 0:00:12\n",
      "   ----------------------- ---------------- 3.7/6.2 MB 212.7 kB/s eta 0:00:12\n",
      "   ------------------------- -------------- 3.9/6.2 MB 212.1 kB/s eta 0:00:11\n",
      "   ------------------------- -------------- 3.9/6.2 MB 212.1 kB/s eta 0:00:11\n",
      "   ------------------------- -------------- 3.9/6.2 MB 212.1 kB/s eta 0:00:11\n",
      "   ------------------------- -------------- 3.9/6.2 MB 212.1 kB/s eta 0:00:11\n",
      "   ------------------------- -------------- 3.9/6.2 MB 212.1 kB/s eta 0:00:11\n",
      "   ------------------------- -------------- 3.9/6.2 MB 212.1 kB/s eta 0:00:11\n",
      "   ------------------------- -------------- 3.9/6.2 MB 212.1 kB/s eta 0:00:11\n",
      "   --------------------------- ------------ 4.2/6.2 MB 208.2 kB/s eta 0:00:10\n",
      "   --------------------------- ------------ 4.2/6.2 MB 208.2 kB/s eta 0:00:10\n",
      "   --------------------------- ------------ 4.2/6.2 MB 208.2 kB/s eta 0:00:10\n",
      "   --------------------------- ------------ 4.2/6.2 MB 208.2 kB/s eta 0:00:10\n",
      "   --------------------------- ------------ 4.2/6.2 MB 208.2 kB/s eta 0:00:10\n",
      "   --------------------------- ------------ 4.2/6.2 MB 208.2 kB/s eta 0:00:10\n",
      "   ---------------------------- ----------- 4.5/6.2 MB 207.9 kB/s eta 0:00:09\n",
      "   ---------------------------- ----------- 4.5/6.2 MB 207.9 kB/s eta 0:00:09\n",
      "   ---------------------------- ----------- 4.5/6.2 MB 207.9 kB/s eta 0:00:09\n",
      "   ---------------------------- ----------- 4.5/6.2 MB 207.9 kB/s eta 0:00:09\n",
      "   ---------------------------- ----------- 4.5/6.2 MB 207.9 kB/s eta 0:00:09\n",
      "   ---------------------------- ----------- 4.5/6.2 MB 207.9 kB/s eta 0:00:09\n",
      "   ---------------------------- ----------- 4.5/6.2 MB 207.9 kB/s eta 0:00:09\n",
      "   ---------------------------- ----------- 4.5/6.2 MB 207.9 kB/s eta 0:00:09\n",
      "   ------------------------------ --------- 4.7/6.2 MB 205.7 kB/s eta 0:00:08\n",
      "   ------------------------------ --------- 4.7/6.2 MB 205.7 kB/s eta 0:00:08\n",
      "   ------------------------------ --------- 4.7/6.2 MB 205.7 kB/s eta 0:00:08\n",
      "   ------------------------------ --------- 4.7/6.2 MB 205.7 kB/s eta 0:00:08\n",
      "   -------------------------------- ------- 5.0/6.2 MB 209.7 kB/s eta 0:00:06\n",
      "   -------------------------------- ------- 5.0/6.2 MB 209.7 kB/s eta 0:00:06\n",
      "   -------------------------------- ------- 5.0/6.2 MB 209.7 kB/s eta 0:00:06\n",
      "   --------------------------------- ------ 5.2/6.2 MB 214.7 kB/s eta 0:00:05\n",
      "   --------------------------------- ------ 5.2/6.2 MB 214.7 kB/s eta 0:00:05\n",
      "   --------------------------------- ------ 5.2/6.2 MB 214.7 kB/s eta 0:00:05\n",
      "   ----------------------------------- ---- 5.5/6.2 MB 219.5 kB/s eta 0:00:04\n",
      "   ----------------------------------- ---- 5.5/6.2 MB 219.5 kB/s eta 0:00:04\n",
      "   ----------------------------------- ---- 5.5/6.2 MB 219.5 kB/s eta 0:00:04\n",
      "   ----------------------------------- ---- 5.5/6.2 MB 219.5 kB/s eta 0:00:04\n",
      "   ----------------------------------- ---- 5.5/6.2 MB 219.5 kB/s eta 0:00:04\n",
      "   ----------------------------------- ---- 5.5/6.2 MB 219.5 kB/s eta 0:00:04\n",
      "   ------------------------------------- -- 5.8/6.2 MB 220.3 kB/s eta 0:00:02\n",
      "   ------------------------------------- -- 5.8/6.2 MB 220.3 kB/s eta 0:00:02\n",
      "   ------------------------------------- -- 5.8/6.2 MB 220.3 kB/s eta 0:00:02\n",
      "   ------------------------------------- -- 5.8/6.2 MB 220.3 kB/s eta 0:00:02\n",
      "   ------------------------------------- -- 5.8/6.2 MB 220.3 kB/s eta 0:00:02\n",
      "   ------------------------------------- -- 5.8/6.2 MB 220.3 kB/s eta 0:00:02\n",
      "   ------------------------------------- -- 5.8/6.2 MB 220.3 kB/s eta 0:00:02\n",
      "   ------------------------------------- -- 5.8/6.2 MB 220.3 kB/s eta 0:00:02\n",
      "   -------------------------------------- - 6.0/6.2 MB 216.2 kB/s eta 0:00:01\n",
      "   -------------------------------------- - 6.0/6.2 MB 216.2 kB/s eta 0:00:01\n",
      "   -------------------------------------- - 6.0/6.2 MB 216.2 kB/s eta 0:00:01\n",
      "   -------------------------------------- - 6.0/6.2 MB 216.2 kB/s eta 0:00:01\n",
      "   ---------------------------------------- 6.2/6.2 MB 216.0 kB/s eta 0:00:00\n",
      "Using cached mpmath-1.3.0-py3-none-any.whl (536 kB)\n",
      "Installing collected packages: mpmath, sympy\n",
      "Successfully installed mpmath-1.3.0 sympy-1.13.3\n",
      "Note: you may need to restart the kernel to use updated packages.\n",
      "General solution: {x1: x_3 + x_4, x_2: -x_4}\n",
      "Basic vector: Matrix([[1, 1], [0, -1], [1, 0], [0, 1]])\n"
     ]
    }
   ],
   "source": [
    "%pip install sympy\n",
    "from sympy import symbols, Eq, solve, Matrix\n",
    "x1, x2, x3, x4 = symbols('x1  x_2  x_3  x_4')\n",
    "eq1 = Eq(x1 + x2 - x3, 0)\n",
    "eq2 = Eq(x2 + x4, 0)\n",
    "\n",
    "# solve the system (express in terms of free variables)\n",
    "solution = solve((eq1, eq2), (x1, x2, x3, x4))\n",
    "print(\"General solution:\", solution)\n",
    "\n",
    "# Extract the basis vectors from free variables\n",
    "basis = []\n",
    "for free_var in [x3, x4]:  # x3 and x4 are free variables\n",
    "      vec = []\n",
    "      for var in [x1, x2, x3, x4]:\n",
    "          # Check if var is present in the solution, else use default coefficient\n",
    "          if var in solution:\n",
    "              coeff = solution[var].coeff(free_var)\n",
    "          else:\n",
    "              coeff = 1 if var == free_var else 0\n",
    "          vec.append(coeff)\n",
    "      basis.append(vec)\n",
    "\n",
    "print(\"Basic vector:\", Matrix(basis).T)"
   ]
  },
  {
   "cell_type": "markdown",
   "id": "2dad426aaa7d749f",
   "metadata": {},
   "source": [
    "__5. Application: Portfolio Optimization__ <br> <br>\n",
    "__Problem:__ In finance, is the set of portfolios with __zero net investment__ (sum of weights = 0) a subspace?\n",
    "\n",
    "__Python Approach:__\n",
    "\n",
    "- Verify closure under addition and scalar multiplication."
   ]
  },
  {
   "cell_type": "code",
   "execution_count": null,
   "id": "90da083877cc9195",
   "metadata": {
    "ExecuteTime": {
     "end_time": "2025-03-29T08:32:46.261264Z",
     "start_time": "2025-03-29T08:32:46.252898Z"
    }
   },
   "outputs": [
    {
     "name": "stdout",
     "output_type": "stream",
     "text": [
      "Sum of portfolios: [ 0.4  0.1 -0.5] Total: 0.0\n",
      "Scaled portfolio: [ 1.  -0.6 -0.4] Total: 0.0\n"
     ]
    }
   ],
   "source": [
    "# Define two portfolios with sum = 0\n",
    "portfolio1 = np.array([0.5, -0.3, -0.2])  # Sum : 0.5 - 0.3 - 0.2 = 0\n",
    "portfolio2 = np.array([-0.1, 0.4, -0.3])  # Sum : -0.1 + 0.4 - 0.3 = 0\n",
    "\n",
    "# Check closure under addition\n",
    "sum_portfolio = portfolio1 + portfolio2  # Sum should be 0\n",
    "print(\"Sum of portfolios:\", sum_portfolio, \"Total:\", np.sum(sum_portfolio))\n",
    "\n",
    "# Check closure under scalar multiplication\n",
    "c = 2  # Scaling factor\n",
    "scaled_portfolio = c * portfolio1  # Scaling by 2\n",
    "print(\"Scaled portfolio:\", scaled_portfolio, \"Total:\", np.sum(scaled_portfolio))  # Should be 0"
   ]
  },
  {
   "cell_type": "markdown",
   "id": "cd37056fcde907a",
   "metadata": {},
   "source": [
    "__Exercise 16__ (Differential Equations): <br> <br>\n",
    "Show that the set of all solutions to the differential equation $y ′′+y=0$ forms a vector space."
   ]
  },
  {
   "cell_type": "code",
   "execution_count": null,
   "id": "5b4f3152ebe5d989",
   "metadata": {
    "ExecuteTime": {
     "end_time": "2025-03-29T08:32:46.362664Z",
     "start_time": "2025-03-29T08:32:46.320325Z"
    }
   },
   "outputs": [
    {
     "name": "stdout",
     "output_type": "stream",
     "text": [
      "y_add satisfies y''+y=0: True\n",
      "y_scalar satisfies y''+y=0: True\n"
     ]
    }
   ],
   "source": [
    "import sympy as sp # import sympy as sp\n",
    "\n",
    "x = sp.Symbol('x', real=True)  # Define the variable\n",
    "C1, C2, D1, D2, k = sp.symbols('C1 C2 D1 D2 k')  # Define constants\n",
    "\n",
    "# Define two solutions\n",
    "y1 = C1 * sp.cos(x) + C2 * sp.sin(x) # General solution of the equation\n",
    "y2 = D1 * sp.cos(x) + D2 * sp.sin(x) # Another solution\n",
    "\n",
    "# Check closure under addition\n",
    "y_add = y1 + y2  # Sum of two solutions\n",
    "check_add = (y_add.diff(x, 2) + y_add).simplify()  # Check if the sum satisfies the equation\n",
    "\n",
    "# Check closure under scalar multiplication\n",
    "y_scalar = k * y1  # Scalar multiplication of a solution\n",
    "check_scalar = (y_scalar.diff(x, 2) + y_scalar).simplify()   # Check if the scalar multiple satisfies the equation\n",
    "\n",
    "print(\"y_add satisfies y''+y=0:\", check_add == 0) # Check if the sum satisfies the equation\n",
    "print(\"y_scalar satisfies y''+y=0:\", check_scalar == 0) # Check if the scalar multiple satisfies the equation"
   ]
  },
  {
   "cell_type": "code",
   "execution_count": null,
   "id": "102d968b7873e4f6",
   "metadata": {
    "ExecuteTime": {
     "end_time": "2025-03-29T08:32:46.374280Z",
     "start_time": "2025-03-29T08:32:46.371519Z"
    }
   },
   "outputs": [],
   "source": []
  }
 ],
 "metadata": {
  "kernelspec": {
   "display_name": "Python 3",
   "language": "python",
   "name": "python3"
  },
  "language_info": {
   "codemirror_mode": {
    "name": "ipython",
    "version": 3
   },
   "file_extension": ".py",
   "mimetype": "text/x-python",
   "name": "python",
   "nbconvert_exporter": "python",
   "pygments_lexer": "ipython3",
   "version": "3.13.1"
  }
 },
 "nbformat": 4,
 "nbformat_minor": 5
}
