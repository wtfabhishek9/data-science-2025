{
 "cells": [
  {
   "cell_type": "code",
   "id": "initial_id",
   "metadata": {
    "collapsed": true,
    "ExecuteTime": {
     "end_time": "2025-03-28T11:49:04.232753Z",
     "start_time": "2025-03-28T11:49:04.044597Z"
    }
   },
   "source": "import numpy as np",
   "outputs": [],
   "execution_count": 1
  },
  {
   "metadata": {
    "ExecuteTime": {
     "end_time": "2025-03-28T11:49:04.264485Z",
     "start_time": "2025-03-28T11:49:04.258055Z"
    }
   },
   "cell_type": "code",
   "source": [
    "# create a 1D array using a list\n",
    "a = np.array([1, 2, 3, 4, 5])    # np.array() is a function that creates a numpy array\n",
    "print(a)\n",
    "print(type(a))"
   ],
   "id": "86a2d91d52666cd6",
   "outputs": [
    {
     "name": "stdout",
     "output_type": "stream",
     "text": [
      "[1 2 3 4 5]\n",
      "<class 'numpy.ndarray'>\n"
     ]
    }
   ],
   "execution_count": 2
  },
  {
   "metadata": {
    "ExecuteTime": {
     "end_time": "2025-03-28T11:49:04.897323Z",
     "start_time": "2025-03-28T11:49:04.892081Z"
    }
   },
   "cell_type": "code",
   "source": [
    "# create a 2D array using a list of lists\n",
    "b = np.array([[1,2,3], [4,5,6]])\n",
    "print(b)"
   ],
   "id": "af0b3a8632ec8dfd",
   "outputs": [
    {
     "name": "stdout",
     "output_type": "stream",
     "text": [
      "[[1 2 3]\n",
      " [4 5 6]]\n"
     ]
    }
   ],
   "execution_count": 3
  },
  {
   "metadata": {
    "ExecuteTime": {
     "end_time": "2025-03-28T11:49:04.956292Z",
     "start_time": "2025-03-28T11:49:04.951656Z"
    }
   },
   "cell_type": "code",
   "source": [
    "# Creating 3 * 3 array:\n",
    "c = np.array([[1,2,3], [4,5,6], [7,8,9]])\n",
    "print(c)"
   ],
   "id": "50b94d22ea61d5f9",
   "outputs": [
    {
     "name": "stdout",
     "output_type": "stream",
     "text": [
      "[[1 2 3]\n",
      " [4 5 6]\n",
      " [7 8 9]]\n"
     ]
    }
   ],
   "execution_count": 4
  },
  {
   "metadata": {
    "ExecuteTime": {
     "end_time": "2025-03-28T11:49:05.130403Z",
     "start_time": "2025-03-28T11:49:05.125366Z"
    }
   },
   "cell_type": "code",
   "source": [
    "# Map a lambda function:\n",
    "\n",
    "list1 = [3,6,7,5]\n",
    "list2 = [4,5,1,7]\n",
    "\n",
    "# the list way to do it: map a function to each element of the list\n",
    "product_list = list(map(lambda x, y : x * y, list1, list2))\n",
    "print(product_list)"
   ],
   "id": "3dca4edef6657e70",
   "outputs": [
    {
     "name": "stdout",
     "output_type": "stream",
     "text": [
      "[12, 30, 7, 35]\n"
     ]
    }
   ],
   "execution_count": 5
  },
  {
   "metadata": {
    "ExecuteTime": {
     "end_time": "2025-03-28T11:49:05.258707Z",
     "start_time": "2025-03-28T11:49:05.253672Z"
    }
   },
   "cell_type": "code",
   "source": [
    "# the numpy array way to do it : simply multiply the two arrays\n",
    "array_1 = np.array(list1)\n",
    "array_2 = np.array(list2)\n",
    "\n",
    "array_3 = array_1 + array_2\n",
    "print(array_3)\n",
    "print(type(array_3))"
   ],
   "id": "7b93b9892d6dcfd2",
   "outputs": [
    {
     "name": "stdout",
     "output_type": "stream",
     "text": [
      "[ 7 11  8 12]\n",
      "<class 'numpy.ndarray'>\n"
     ]
    }
   ],
   "execution_count": 6
  },
  {
   "metadata": {
    "ExecuteTime": {
     "end_time": "2025-03-28T11:49:05.348910Z",
     "start_time": "2025-03-28T11:49:05.342932Z"
    }
   },
   "cell_type": "code",
   "source": [
    "# element wise multiplication and obtain as the output as a list.\n",
    "# Hint Convert the list to an array and then convert the result to a list.\n",
    "\n",
    "list_1 = [2,3,4,5]\n",
    "list_2 = [7,8,9,6]\n",
    "array_1 = np.array(list_1)   # np.array() is a function that creates a numpy array\n",
    "array_2 = np.array(list_2)  # np.array() is a function that creates a numpy array\n",
    "product = array_1 * array_2 # element wise multiplication\n",
    "print(product)   # this will print the product as a numpy array\n",
    "product_list = product.tolist()  # convert the numpy array to a list\n",
    "print(product_list)  # this will print the product as a list"
   ],
   "id": "479b99fdf8706377",
   "outputs": [
    {
     "name": "stdout",
     "output_type": "stream",
     "text": [
      "[14 24 36 30]\n",
      "[14, 24, 36, 30]\n"
     ]
    }
   ],
   "execution_count": 7
  },
  {
   "metadata": {},
   "cell_type": "markdown",
   "source": [
    "- np.ones(): Creates an array filled with ones.\n",
    "- np.zeros(): Creates an array filled with zeros.\n",
    "- np.arange(): Creates an array with incremental of a fixed step size.\n",
    "- np.random.random(): create a array of random numbers between 0 and 1.\n",
    "- np.random.randint(): create a array of random integers between a given range.\n",
    "- np.linspace(): create a array of fixed length"
   ],
   "id": "368822b9ed2804c6"
  },
  {
   "metadata": {
    "ExecuteTime": {
     "end_time": "2025-03-28T11:49:05.430710Z",
     "start_time": "2025-03-28T11:49:05.426503Z"
    }
   },
   "cell_type": "code",
   "source": [
    "# Tip : use help to see the syntax when required\n",
    "help(np.ones)"
   ],
   "id": "eac36b86dc374bab",
   "outputs": [
    {
     "name": "stdout",
     "output_type": "stream",
     "text": [
      "Help on function ones in module numpy:\n",
      "\n",
      "ones(shape, dtype=None, order='C', *, device=None, like=None)\n",
      "    Return a new array of given shape and type, filled with ones.\n",
      "\n",
      "    Parameters\n",
      "    ----------\n",
      "    shape : int or sequence of ints\n",
      "        Shape of the new array, e.g., ``(2, 3)`` or ``2``.\n",
      "    dtype : data-type, optional\n",
      "        The desired data-type for the array, e.g., `numpy.int8`.  Default is\n",
      "        `numpy.float64`.\n",
      "    order : {'C', 'F'}, optional, default: C\n",
      "        Whether to store multi-dimensional data in row-major\n",
      "        (C-style) or column-major (Fortran-style) order in\n",
      "        memory.\n",
      "    device : str, optional\n",
      "        The device on which to place the created array. Default: None.\n",
      "        For Array-API interoperability only, so must be ``\"cpu\"`` if passed.\n",
      "\n",
      "        .. versionadded:: 2.0.0\n",
      "    like : array_like, optional\n",
      "            Reference object to allow the creation of arrays which are not\n",
      "            NumPy arrays. If an array-like passed in as ``like`` supports\n",
      "            the ``__array_function__`` protocol, the result will be defined\n",
      "            by it. In this case, it ensures the creation of an array object\n",
      "            compatible with that passed in via this argument.\n",
      "\n",
      "        .. versionadded:: 1.20.0\n",
      "\n",
      "    Returns\n",
      "    -------\n",
      "    out : ndarray\n",
      "        Array of ones with the given shape, dtype, and order.\n",
      "\n",
      "    See Also\n",
      "    --------\n",
      "    ones_like : Return an array of ones with shape and type of input.\n",
      "    empty : Return a new uninitialized array.\n",
      "    zeros : Return a new array setting values to zero.\n",
      "    full : Return a new array of given shape filled with value.\n",
      "\n",
      "    Examples\n",
      "    --------\n",
      "    >>> import numpy as np\n",
      "    >>> np.ones(5)\n",
      "    array([1., 1., 1., 1., 1.])\n",
      "\n",
      "    >>> np.ones((5,), dtype=int)\n",
      "    array([1, 1, 1, 1, 1])\n",
      "\n",
      "    >>> np.ones((2, 1))\n",
      "    array([[1.],\n",
      "           [1.]])\n",
      "\n",
      "    >>> s = (2,2)\n",
      "    >>> np.ones(s)\n",
      "    array([[1.,  1.],\n",
      "           [1.,  1.]])\n",
      "\n"
     ]
    }
   ],
   "execution_count": 8
  },
  {
   "metadata": {
    "ExecuteTime": {
     "end_time": "2025-03-28T11:49:05.515278Z",
     "start_time": "2025-03-28T11:49:05.505317Z"
    }
   },
   "cell_type": "code",
   "source": [
    "# Creating a 5 * 3 array of ones\n",
    "np.ones((5,3))  # np.ones() is a function that creates a numpy array filled with ones"
   ],
   "id": "200da8211e4c882a",
   "outputs": [
    {
     "data": {
      "text/plain": [
       "array([[1., 1., 1.],\n",
       "       [1., 1., 1.],\n",
       "       [1., 1., 1.],\n",
       "       [1., 1., 1.],\n",
       "       [1., 1., 1.]])"
      ]
     },
     "execution_count": 9,
     "metadata": {},
     "output_type": "execute_result"
    }
   ],
   "execution_count": 9
  },
  {
   "metadata": {
    "ExecuteTime": {
     "end_time": "2025-03-28T11:49:05.609075Z",
     "start_time": "2025-03-28T11:49:05.602869Z"
    }
   },
   "cell_type": "code",
   "source": [
    "# Notice that, by default, numpy creates a float array. To create an integer array, we can specify the dtype parameter.\n",
    "np.ones((5,3), dtype=int)  # np.ones() is a function that creates a numpy array filled with ones"
   ],
   "id": "e1a900447be78b50",
   "outputs": [
    {
     "data": {
      "text/plain": [
       "array([[1, 1, 1],\n",
       "       [1, 1, 1],\n",
       "       [1, 1, 1],\n",
       "       [1, 1, 1],\n",
       "       [1, 1, 1]])"
      ]
     },
     "execution_count": 10,
     "metadata": {},
     "output_type": "execute_result"
    }
   ],
   "execution_count": 10
  },
  {
   "metadata": {
    "ExecuteTime": {
     "end_time": "2025-03-28T11:49:06.570553Z",
     "start_time": "2025-03-28T11:49:06.564468Z"
    }
   },
   "cell_type": "code",
   "source": [
    "# creating array of zeros\n",
    "np.zeros(4, dtype = int) # np.zeros() is a function that creates a numpy array filled with zeros"
   ],
   "id": "2c9be0b9ecf03344",
   "outputs": [
    {
     "data": {
      "text/plain": [
       "array([0, 0, 0, 0])"
      ]
     },
     "execution_count": 11,
     "metadata": {},
     "output_type": "execute_result"
    }
   ],
   "execution_count": 11
  },
  {
   "metadata": {
    "ExecuteTime": {
     "end_time": "2025-03-28T11:49:06.877021Z",
     "start_time": "2025-03-28T11:49:06.868314Z"
    }
   },
   "cell_type": "code",
   "source": [
    "# array of random numbers\n",
    "np.random.random([3,4]) # np.random.random() is a function that creates a numpy array filled with random numbers between 0 and 1"
   ],
   "id": "338a65ef40b8e714",
   "outputs": [
    {
     "data": {
      "text/plain": [
       "array([[0.00691795, 0.6862007 , 0.16321939, 0.57703154],\n",
       "       [0.04350498, 0.13938654, 0.65981416, 0.55717665],\n",
       "       [0.43092889, 0.91900647, 0.27825653, 0.68812391]])"
      ]
     },
     "execution_count": 12,
     "metadata": {},
     "output_type": "execute_result"
    }
   ],
   "execution_count": 12
  },
  {
   "metadata": {
    "ExecuteTime": {
     "end_time": "2025-03-28T11:49:07.459412Z",
     "start_time": "2025-03-28T11:49:07.454163Z"
    }
   },
   "cell_type": "code",
   "source": [
    "# np.arange()\n",
    "# np.arnage() is the numpy equivalent if range()\n",
    "# Notice that 10 is included, 100 is not, as in standard python lists\n",
    "\n",
    "# from 10 to 100 with a step of 3\n",
    "numbers = np.arange(10, 100, 3) # np.arange() is a function that creates a numpy array with incremental of a fixed step size of 3\n",
    "print(numbers) # this will print the numbers as a numpy array"
   ],
   "id": "dacf57aa30236548",
   "outputs": [
    {
     "name": "stdout",
     "output_type": "stream",
     "text": [
      "[10 13 16 19 22 25 28 31 34 37 40 43 46 49 52 55 58 61 64 67 70 73 76 79\n",
      " 82 85 88 91 94 97]\n"
     ]
    }
   ],
   "execution_count": 13
  },
  {
   "metadata": {
    "ExecuteTime": {
     "end_time": "2025-03-28T11:49:07.672737Z",
     "start_time": "2025-03-28T11:49:07.665492Z"
    }
   },
   "cell_type": "code",
   "source": [
    "# np.linspace()\n",
    "# sometimes, you know the length of the array, not the step size\n",
    "\n",
    "# array of length 25 between 15 and 18\n",
    "np.linspace(15,18,25) # np.linspace() is a function that creates a numpy array of fixed length between 15 and 18"
   ],
   "id": "65797a747a363644",
   "outputs": [
    {
     "data": {
      "text/plain": [
       "array([15.   , 15.125, 15.25 , 15.375, 15.5  , 15.625, 15.75 , 15.875,\n",
       "       16.   , 16.125, 16.25 , 16.375, 16.5  , 16.625, 16.75 , 16.875,\n",
       "       17.   , 17.125, 17.25 , 17.375, 17.5  , 17.625, 17.75 , 17.875,\n",
       "       18.   ])"
      ]
     },
     "execution_count": 14,
     "metadata": {},
     "output_type": "execute_result"
    }
   ],
   "execution_count": 14
  },
  {
   "metadata": {},
   "cell_type": "markdown",
   "source": [
    "# Few to useful functions\n",
    "- np.full(): Create a constant array of any number 'n'\n",
    "- np.title(): create a new array -- by repeating an existing array -- for a particular number of times\n",
    "- np.eye(): create an identity matrix of a given size\n",
    "- np.random.randint(): create a array of random integers between a given range."
   ],
   "id": "5ecccb0965fe38a1"
  },
  {
   "metadata": {
    "ExecuteTime": {
     "end_time": "2025-03-28T11:49:07.859836Z",
     "start_time": "2025-03-28T11:49:07.854873Z"
    }
   },
   "cell_type": "code",
   "source": [
    "# Given an integer 'x', create an array of size m*n having all integer values equal to 'x'.\n",
    "# Hint: Use dtype to specify integer.\n",
    "x = 1\n",
    "m = 3\n",
    "n = 3\n",
    "\n",
    "# create a 3 * 3 array of ones\n",
    "array = np.full((m, n), x)  # np.full() is a function that creates a numpy array filled with the given number x\n",
    "print(array)  # this will print the array as a numpy array"
   ],
   "id": "971ad18d9a4fc8bc",
   "outputs": [
    {
     "name": "stdout",
     "output_type": "stream",
     "text": [
      "[[1 1 1]\n",
      " [1 1 1]\n",
      " [1 1 1]]\n"
     ]
    }
   ],
   "execution_count": 15
  },
  {
   "metadata": {
    "ExecuteTime": {
     "end_time": "2025-03-28T11:49:07.925161Z",
     "start_time": "2025-03-28T11:49:07.918379Z"
    }
   },
   "cell_type": "code",
   "source": [
    "# Create an array of first 10 multiples of 5 using 'arange' function\n",
    "np.arange(5, 55, 5) # np.arange() is a function that creates a numpy array with incremental of a fixed step size of 5"
   ],
   "id": "dfa2d997e5b0fae2",
   "outputs": [
    {
     "data": {
      "text/plain": [
       "array([ 5, 10, 15, 20, 25, 30, 35, 40, 45, 50])"
      ]
     },
     "execution_count": 16,
     "metadata": {},
     "output_type": "execute_result"
    }
   ],
   "execution_count": 16
  },
  {
   "metadata": {
    "ExecuteTime": {
     "end_time": "2025-03-28T11:49:08.066625Z",
     "start_time": "2025-03-28T11:49:08.061484Z"
    }
   },
   "cell_type": "code",
   "source": [
    "def create_checkerboard(n): # create_checkerboard() is a function that creates a checkerboard pattern of size n*n\n",
    "    if n % 2 != 0:  # Check if n is even\n",
    "        raise ValueError(\"n must be an even integer\")  # raise an error if n is not even\n",
    "\n",
    "    # Create the basic 2×2 pattern\n",
    "    basic_pattern = np.array([[0, 1], [1, 0]])   # np.array() is a function that creates a numpy array\n",
    "\n",
    "    # Tile the pattern to create an n×n checkerboard\n",
    "    checkerboard = np.tile(basic_pattern, (n//2, n//2))  # np.tile() is a function that creates a new array by repeating the existing array for a particular number of times\n",
    "\n",
    "    return checkerboard # return the checkerboard array\n",
    "\n",
    "# Example usage\n",
    "n = 2  # Can be any even integer\n",
    "checkerboard_matrix = create_checkerboard(n) # create_checkerboard() is a function that creates a checkerboard pattern of size n*n\n",
    "print(checkerboard_matrix)"
   ],
   "id": "5e843418dc975d12",
   "outputs": [
    {
     "name": "stdout",
     "output_type": "stream",
     "text": [
      "[[0 1]\n",
      " [1 0]]\n"
     ]
    }
   ],
   "execution_count": 17
  },
  {
   "metadata": {},
   "cell_type": "markdown",
   "source": [
    "# Some attributes of NumPy arrays are:\n",
    "- shape: Shape of array (n x m)\n",
    "- dtype: data type (int, float etc.)\n",
    "- ndim: Number of dimensions (or axes)\n",
    "- itemsize: Memory used by each array element in bytes"
   ],
   "id": "47e1eab26ae601b8"
  },
  {
   "metadata": {
    "ExecuteTime": {
     "end_time": "2025-03-28T11:49:08.143403Z",
     "start_time": "2025-03-28T11:49:08.137460Z"
    }
   },
   "cell_type": "code",
   "source": [
    "# shape\n",
    "# shape of the array is (3, 3)\n",
    "print(c.shape) # c is a 3 * 3 array\n",
    "\n",
    "# dtype\n",
    "# data type of the array is int\n",
    "print(c.dtype) # c is a 3 * 3 array\n",
    "\n",
    "# ndim\n",
    "# number of dimensions of the array is 2\n",
    "print(c.ndim) # c is a 3 * 3 array\n",
    "\n",
    "# itemsize\n",
    "# memory used by each array element in bytes is 4\n",
    "print(c.itemsize) # c is a 3 * 3 array"
   ],
   "id": "b89028d34dfa984d",
   "outputs": [
    {
     "name": "stdout",
     "output_type": "stream",
     "text": [
      "(3, 3)\n",
      "int64\n",
      "2\n",
      "8\n"
     ]
    }
   ],
   "execution_count": 18
  },
  {
   "metadata": {
    "ExecuteTime": {
     "end_time": "2025-03-28T11:49:08.218001Z",
     "start_time": "2025-03-28T11:49:08.213265Z"
    }
   },
   "cell_type": "code",
   "source": [
    "# Find shape and dimension of the array\n",
    "list_1 = [10,11,12,13]\n",
    "list_2 = [15,12,13,14]\n",
    "\n",
    "array_1 = np.array(list_1)   # np.array() is a function that creates a numpy array\n",
    "array_2 = np.array(list_2)  # np.array() is a function that creates a numpy array\n",
    "\n",
    "# shape of the array is (4,)\n",
    "print(array_1.shape) # array_1 is a 1 * 4 array\n",
    "# shape of the array is (4,)\n",
    "print(array_2.shape) # array_2 is a 1 * 4 array\n",
    "\n",
    "# dimension of the array is 1\n",
    "print(array_1.ndim) # array_1 is a 1 * 4 array\n",
    "# dimension of the array is 1\n",
    "print(array_2.ndim) # array_2 is a  1 * 4 array"
   ],
   "id": "25a3f3ce5decec98",
   "outputs": [
    {
     "name": "stdout",
     "output_type": "stream",
     "text": [
      "(4,)\n",
      "(4,)\n",
      "1\n",
      "1\n"
     ]
    }
   ],
   "execution_count": 19
  },
  {
   "metadata": {},
   "cell_type": "markdown",
   "source": "# subset, slice and index and iterate through Arrays",
   "id": "3157227ab2293def"
  },
  {
   "metadata": {
    "ExecuteTime": {
     "end_time": "2025-03-28T11:49:08.356453Z",
     "start_time": "2025-03-28T11:49:08.351273Z"
    }
   },
   "cell_type": "code",
   "source": [
    "# indexing and sclicing one dimensional array\n",
    "array_1D = np.arange(10) # np.arange() is a function that creates a numpy array with incremental of a fixed step size of 1\n",
    "print(array_1D) # this will print the first element of the array"
   ],
   "id": "615e1efe5b2e0ed4",
   "outputs": [
    {
     "name": "stdout",
     "output_type": "stream",
     "text": [
      "[0 1 2 3 4 5 6 7 8 9]\n"
     ]
    }
   ],
   "execution_count": 20
  },
  {
   "metadata": {
    "ExecuteTime": {
     "end_time": "2025-03-28T11:49:08.418507Z",
     "start_time": "2025-03-28T11:49:08.412144Z"
    }
   },
   "cell_type": "code",
   "source": [
    "# third element\n",
    "print(array_1D[2]) # this will print the third element of the array\n",
    "\n",
    "# specific elements\n",
    "print(array_1D[[0, 2, 4]]) # this will print the first, third and fifth element of the array\n",
    "\n",
    "# slice third element onward\n",
    "print(array_1D[2:]) # this will print the third element onward of the array\n",
    "\n",
    "# slice first to third element\n",
    "print(array_1D[:3]) # this will print the first three elements of the array\n",
    "\n",
    "# slice first to third element with step of 2\n",
    "print(array_1D[:3:2]) # this will print the first three elements of the array with step of 2\n",
    "\n",
    "#slice starting 0 at increment of 2\n",
    "print(array_1D[0::2]) # this will print the first element of the array with step of 4"
   ],
   "id": "5217bbba78863904",
   "outputs": [
    {
     "name": "stdout",
     "output_type": "stream",
     "text": [
      "2\n",
      "[0 2 4]\n",
      "[2 3 4 5 6 7 8 9]\n",
      "[0 1 2]\n",
      "[0 2]\n",
      "[0 2 4 6 8]\n"
     ]
    }
   ],
   "execution_count": 21
  },
  {
   "metadata": {
    "ExecuteTime": {
     "end_time": "2025-03-28T11:49:08.472204Z",
     "start_time": "2025-03-28T11:49:08.468410Z"
    }
   },
   "cell_type": "code",
   "source": [
    "# iteration are also similar to lists\n",
    "for i in array_1D:\n",
    "    print(i) # this will print the elements of the array one by one"
   ],
   "id": "259f65512aac6e72",
   "outputs": [
    {
     "name": "stdout",
     "output_type": "stream",
     "text": [
      "0\n",
      "1\n",
      "2\n",
      "3\n",
      "4\n",
      "5\n",
      "6\n",
      "7\n",
      "8\n",
      "9\n"
     ]
    }
   ],
   "execution_count": 22
  },
  {
   "metadata": {
    "ExecuteTime": {
     "end_time": "2025-03-28T11:49:08.538789Z",
     "start_time": "2025-03-28T11:49:08.532977Z"
    }
   },
   "cell_type": "code",
   "source": [
    "# ceate a 2D array\n",
    "array_2D = np.array([[1, 2, 3], [4, 5, 6], [7, 8, 9]]) # np.array() is a function that creates a numpy array\n",
    "print(array_2D) # this will print the 2D array"
   ],
   "id": "4fdc00a6e744bdf3",
   "outputs": [
    {
     "name": "stdout",
     "output_type": "stream",
     "text": [
      "[[1 2 3]\n",
      " [4 5 6]\n",
      " [7 8 9]]\n"
     ]
    }
   ],
   "execution_count": 23
  },
  {
   "metadata": {
    "ExecuteTime": {
     "end_time": "2025-03-28T11:49:08.663539Z",
     "start_time": "2025-03-28T11:49:08.657886Z"
    }
   },
   "cell_type": "code",
   "source": [
    "# third row and second column\n",
    "print(array_2D[2,1]) # this will print the third row and second column of the array"
   ],
   "id": "a13af1739de93398",
   "outputs": [
    {
     "name": "stdout",
     "output_type": "stream",
     "text": [
      "8\n"
     ]
    }
   ],
   "execution_count": 24
  },
  {
   "metadata": {
    "ExecuteTime": {
     "end_time": "2025-03-28T11:49:08.757137Z",
     "start_time": "2025-03-28T11:49:08.752721Z"
    }
   },
   "cell_type": "code",
   "source": [
    "# sclice the third row and all columns\n",
    "print(array_2D[2, :]) # this will print the third row and all columns of the array"
   ],
   "id": "5365b8006b54fbbd",
   "outputs": [
    {
     "name": "stdout",
     "output_type": "stream",
     "text": [
      "[7 8 9]\n"
     ]
    }
   ],
   "execution_count": 25
  },
  {
   "metadata": {
    "ExecuteTime": {
     "end_time": "2025-03-28T11:49:08.836800Z",
     "start_time": "2025-03-28T11:49:08.831766Z"
    }
   },
   "cell_type": "code",
   "source": [
    "# sclice all rows and second column\n",
    "print(array_2D[: , 1]) # this will print all rows and second column of the array"
   ],
   "id": "2d06d830ede9adc6",
   "outputs": [
    {
     "name": "stdout",
     "output_type": "stream",
     "text": [
      "[2 5 8]\n"
     ]
    }
   ],
   "execution_count": 26
  },
  {
   "metadata": {
    "ExecuteTime": {
     "end_time": "2025-03-28T11:49:08.913977Z",
     "start_time": "2025-03-28T11:49:08.908632Z"
    }
   },
   "cell_type": "code",
   "source": [
    "# sclicing all rows and first three column\n",
    "print(array_2D[: , :3]) # this will print all rows and first column of the array"
   ],
   "id": "b7f3e8f31a2b0295",
   "outputs": [
    {
     "name": "stdout",
     "output_type": "stream",
     "text": [
      "[[1 2 3]\n",
      " [4 5 6]\n",
      " [7 8 9]]\n"
     ]
    }
   ],
   "execution_count": 27
  },
  {
   "metadata": {},
   "cell_type": "markdown",
   "source": [
    "# Border Rows and Columns\n",
    "\n",
    "Description:\n",
    "Extract all the border rows and columns from a 2-D array.\n",
    "\n",
    "Format:\n",
    "Input: A 2-D Python list\n",
    "Output: Four NumPy arrays - First column of the input array, first row of the input array, last column of the input array, last row of the input array respectively.\n",
    "\n",
    "Example:\n",
    "Input 1:\n",
    "[[11 12 13 14]\n",
    " [21 22 23 24]\n",
    " [31 32 33 34]]\n",
    "Output 1:\n",
    "[11 21 31]\n",
    "[11 12 13 14]\n",
    "[14 24 34]\n",
    "[31 32 33 34]"
   ],
   "id": "d9c1c8aec386e314"
  },
  {
   "metadata": {
    "ExecuteTime": {
     "end_time": "2025-03-28T11:49:08.985923Z",
     "start_time": "2025-03-28T11:49:08.978196Z"
    }
   },
   "cell_type": "code",
   "source": [
    "def extract_borders(input_array):\n",
    "    # Convert input to NumPy array if it's not already\n",
    "    arr = np.array(input_array)\n",
    "\n",
    "    # Extract borders\n",
    "    first_column = arr[:, 0]\n",
    "    first_row = arr[0, :]\n",
    "    last_column = arr[:, -1]\n",
    "    last_row = arr[-1, :]\n",
    "\n",
    "    return first_column, first_row, last_column, last_row\n",
    "\n",
    "# Example usage\n",
    "arr = np.array([[11, 12, 13, 14],\n",
    "                [21, 22, 23, 24],\n",
    "                [31, 32, 33, 34]])\n",
    "\n",
    "first_col, first_row, last_col, last_row = extract_borders(arr)\n",
    "\n",
    "print(first_col)  # [11 21 31]\n",
    "print(first_row)  # [11 12 13 14]\n",
    "print(last_col)   # [14 24 34]\n",
    "print(last_row)   # [31 32 33 34]"
   ],
   "id": "1e9bba7bcfff503",
   "outputs": [
    {
     "name": "stdout",
     "output_type": "stream",
     "text": [
      "[11 21 31]\n",
      "[11 12 13 14]\n",
      "[14 24 34]\n",
      "[31 32 33 34]\n"
     ]
    }
   ],
   "execution_count": 28
  },
  {
   "metadata": {},
   "cell_type": "markdown",
   "source": [
    "### Let me explain why NumPy is fast using a real-world data science example.\n",
    "### Consider analyzing temperatures from 1 million weather station readings:"
   ],
   "id": "ea007ac05ba86d65"
  },
  {
   "metadata": {
    "ExecuteTime": {
     "end_time": "2025-03-28T11:49:09.261644Z",
     "start_time": "2025-03-28T11:49:09.056613Z"
    }
   },
   "cell_type": "code",
   "source": [
    "import numpy as np\n",
    "import time\n",
    "\n",
    "# create sample data: 1 million temperature readings\n",
    "temperatures_list = [20.5 + i * 0.001 for i in range(1000000)] # 20.5 is the base temperature and i * 0.001 is the increment\n",
    "temperatures_array = np.array(temperatures_list) # numpy array of temperatures\n",
    "\n",
    "# Task : Convert all temperatures from celsius to fahrenheit (F = C * 9/5 + 32)\n",
    "\n",
    "# using python list\n",
    "start_time = time.time() # start time\n",
    "fahrenheit_list = [(temp * 9/5 + 32 for temp in temperatures_list)]  # list comprehension to convert celsius to fahrenheit\n",
    "list_time = time.time() - start_time # end time\n",
    "\n",
    "# using numpy array\n",
    "start_time = time.time() # start time\n",
    "fahrenheit_array = temperatures_array * 9/5 + 32  # Vectorized operation to convert celsius to fahrenheit\n",
    "numpy_time = time.time() - start_time # end time\n",
    "\n",
    "print(f\"Python list time: { list_time:.4f} seconds\")\n",
    "print(f\"NumPy time: {numpy_time:.4f} seconds\")\n",
    "print(f\"NumPy is {list_time/numpy_time:.2f} times faster than Python list.\")"
   ],
   "id": "d3b7dfde89dd6116",
   "outputs": [
    {
     "name": "stdout",
     "output_type": "stream",
     "text": [
      "Python list time: 0.0002 seconds\n",
      "NumPy time: 0.0120 seconds\n",
      "NumPy is 0.02 times faster than Python list.\n"
     ]
    }
   ],
   "execution_count": 29
  },
  {
   "metadata": {},
   "cell_type": "markdown",
   "source": [
    "# Numpy is faster than Python lists because:\n",
    "- **Vectorization**: NumPy uses vectorized operations, allowing it to perform element-wise operations on entire arrays without the need for explicit loops. This is done using highly optimized C and Fortran libraries under the hood.\n",
    "- **Memory Efficiency**: NumPy arrays are more memory-efficient than Python lists. They store data in contiguous blocks of memory, which allows for better cache performance and reduces overhead.\n",
    "- **Broadcasting**: NumPy can automatically expand the dimensions of arrays to perform operations on arrays of different shapes, which reduces the need for manual reshaping and looping.\n",
    "- **Optimized Libraries**: NumPy is built on optimized libraries like BLAS and LAPACK, which are designed for high-performance numerical computations. These libraries take advantage of low-level optimizations and parallel processing capabilities of modern CPUs.\n",
    "- **Compiled Code**: NumPy operations are often implemented in compiled code (C or Fortran), which is generally faster than interpreted Python code. This allows NumPy to perform complex calculations more efficiently.\n",
    "- **Less Overhead**: NumPy arrays have less overhead compared to Python lists. Python lists are heterogeneous and can store different data types, which adds overhead. NumPy arrays are homogeneous, meaning all elements are of the same type, leading to better performance.\n",
    "- **Contiguous Memory Layout**: NumPy arrays are stored in contiguous memory locations, which allows for better cache locality and faster access times compared to Python lists, which can be scattered in memory.\n",
    "- **Parallelization**: NumPy can take advantage of multi-core processors and SIMD (Single Instruction, Multiple Data) instructions to perform operations in parallel, further speeding up computations.\n",
    "- **Less Python Overhead**: NumPy operations involve less overhead from Python's dynamic typing and object management, making them faster for numerical computations.\n",
    "- **Optimized Algorithms**: NumPy implements many algorithms in a highly optimized manner, taking advantage of mathematical properties and optimizations that are not possible with Python lists.\n",
    "- **Caching**: NumPy can take advantage of CPU caching mechanisms, which can significantly speed up computations by reducing memory access times.\n",
    "- **Data Locality**: NumPy arrays are designed to be stored in a contiguous block of memory, which improves data locality and reduces cache misses during computations."
   ],
   "id": "c18be3e1aa15729a"
  },
  {
   "metadata": {},
   "cell_type": "markdown",
   "source": "### NumPy is Fundamental in Machine learning for several reasons:",
   "id": "3fc2823754def4a1"
  },
  {
   "metadata": {
    "ExecuteTime": {
     "end_time": "2025-03-28T11:49:09.293598Z",
     "start_time": "2025-03-28T11:49:09.280530Z"
    }
   },
   "cell_type": "code",
   "source": [
    "# 1. Data Representation and manipulation:\n",
    "import numpy as np\n",
    "\n",
    "# Feature matrix (each row is a sample, each column is a feature)\n",
    "X = np.array([[1, 2, 3],\n",
    "              [4, 5, 6],\n",
    "              [7, 8, 9]])\n",
    "\n",
    "# Target values\n",
    "y = np.array([0, 1, 0])\n",
    "\n",
    "# 2. Mathematical Operations:\n",
    "# Matrix multiplication for predictions\n",
    "weights = np.array([0.1, 0.2, 0.3])\n",
    "predictions = X.dot(weights)  # Fast matrix multiplication\n",
    "print(predictions)\n",
    "\n",
    "# Statistical operations\n",
    "mean = X.mean(axis=0)  # Mean of each feature\n",
    "std = X.std(axis=0)   # Standard deviation of each feature\n",
    "print(mean, std)\n",
    "\n",
    "\n",
    "# 3. Feature Scaling:\n",
    "# Standardization (z - score normalization)\n",
    "def standardize(X):\n",
    "    return (X - X.mean(axis=0)) / X.std(axis=0)\n",
    "X_standardized = standardize(X)\n",
    "print(X_standardized)\n",
    "\n",
    "# Efficient memory usage:\n",
    "# Create large datasets efficiently\n",
    "large_matrix = np.zeros((10000, 1000)) # 10 million elements\n",
    "print(f\"memory size: {large_matrix.nbytes / (1024 * 1024)} MB\")  # print memory size in MB"
   ],
   "id": "fe2b70fae903b092",
   "outputs": [
    {
     "name": "stdout",
     "output_type": "stream",
     "text": [
      "[1.4 3.2 5. ]\n",
      "[4. 5. 6.] [2.44948974 2.44948974 2.44948974]\n",
      "[[-1.22474487 -1.22474487 -1.22474487]\n",
      " [ 0.          0.          0.        ]\n",
      " [ 1.22474487  1.22474487  1.22474487]]\n",
      "memory size: 76.2939453125 MB\n"
     ]
    }
   ],
   "execution_count": 30
  },
  {
   "metadata": {},
   "cell_type": "markdown",
   "source": [
    "### Multidimensional Arrays\n",
    "    * Reshape arrays\n",
    "    * Stack arrays"
   ],
   "id": "e8c7d09ff64ea256"
  },
  {
   "metadata": {
    "ExecuteTime": {
     "end_time": "2025-03-28T11:49:09.341417Z",
     "start_time": "2025-03-28T11:49:09.330976Z"
    }
   },
   "cell_type": "code",
   "source": [
    "# Reshape  arrays\n",
    "a = np.arange(12)\n",
    "print(a)\n",
    "# Reshape to 3 rows and 4 columns\n",
    "a_reshaped = a.reshape(3, 4) # np.reshape() is a function that reshapes the array to the given shape\n",
    "print(a_reshaped) # this will print the reshaped array\n",
    "# Reshape to 2 rows and 6 columns\n",
    "a_reshaped = a.reshape(2, 6) # np.reshape() is a function that reshapes the array to the given shape\n",
    "print(a_reshaped) # this will print the reshaped array\n",
    "# Reshape to 4 rows and 3 columns\n",
    "a_reshaped = a.reshape(4, 3) # np.reshape() is a function that reshapes the array to the given shape\n",
    "print(a_reshaped) # this will print the reshaped array\n",
    "a = a.reshape(4, -1) # np.reshape() is a function that reshapes the array to the given shape\n",
    "print(a) # this will print the reshaped array\n",
    "a.T # np.transpose() is a function that transposes the array"
   ],
   "id": "15e72babda880361",
   "outputs": [
    {
     "name": "stdout",
     "output_type": "stream",
     "text": [
      "[ 0  1  2  3  4  5  6  7  8  9 10 11]\n",
      "[[ 0  1  2  3]\n",
      " [ 4  5  6  7]\n",
      " [ 8  9 10 11]]\n",
      "[[ 0  1  2  3  4  5]\n",
      " [ 6  7  8  9 10 11]]\n",
      "[[ 0  1  2]\n",
      " [ 3  4  5]\n",
      " [ 6  7  8]\n",
      " [ 9 10 11]]\n",
      "[[ 0  1  2]\n",
      " [ 3  4  5]\n",
      " [ 6  7  8]\n",
      " [ 9 10 11]]\n"
     ]
    },
    {
     "data": {
      "text/plain": [
       "array([[ 0,  3,  6,  9],\n",
       "       [ 1,  4,  7, 10],\n",
       "       [ 2,  5,  8, 11]])"
      ]
     },
     "execution_count": 31,
     "metadata": {},
     "output_type": "execute_result"
    }
   ],
   "execution_count": 31
  },
  {
   "metadata": {
    "ExecuteTime": {
     "end_time": "2025-03-28T11:49:09.485141Z",
     "start_time": "2025-03-28T11:49:09.478058Z"
    }
   },
   "cell_type": "code",
   "source": [
    "# Stack arrays\n",
    "a = np.array([[1, 2], [3, 4]]) # np.array() is a function that creates a numpy array\n",
    "b = np.array([[5, 6], [7, 8]]) # np.array() is a function that creates a numpy array\n",
    "print(a)\n",
    "print(\"\\n\")\n",
    "print(b)"
   ],
   "id": "2b5e9b1dd9102a3b",
   "outputs": [
    {
     "name": "stdout",
     "output_type": "stream",
     "text": [
      "[[1 2]\n",
      " [3 4]]\n",
      "\n",
      "\n",
      "[[5 6]\n",
      " [7 8]]\n"
     ]
    }
   ],
   "execution_count": 32
  },
  {
   "metadata": {
    "ExecuteTime": {
     "end_time": "2025-03-28T11:49:09.620517Z",
     "start_time": "2025-03-28T11:49:09.614122Z"
    }
   },
   "cell_type": "code",
   "source": [
    "# Stack arrays vertically\n",
    "c = np.vstack((a,b)) # np.vstack() is a function that stacks the arrays vertically\n",
    "print(c) # this will print the stacked array"
   ],
   "id": "bfe51ed646df8249",
   "outputs": [
    {
     "name": "stdout",
     "output_type": "stream",
     "text": [
      "[[1 2]\n",
      " [3 4]\n",
      " [5 6]\n",
      " [7 8]]\n"
     ]
    }
   ],
   "execution_count": 33
  },
  {
   "metadata": {
    "ExecuteTime": {
     "end_time": "2025-03-28T11:49:09.757743Z",
     "start_time": "2025-03-28T11:49:09.750281Z"
    }
   },
   "cell_type": "code",
   "source": [
    "# stack three question :\n",
    "# Description: Horizontally stack two arrays using hstack, and finally, vertically stack the resultant array with the third array.\n",
    "a_ = np.array([[1,2] , [5,6]]) # np.array() is a function that creates a numpy array\n",
    "b_ = np.array([[3,4] , [7,8]]) # np.array() is a function that creates a numpy array\n",
    "c_ = np.array([9,10,11,12]) # np.array() is a function that creates a numpy array\n",
    "print(a_)\n",
    "print(\"\\n\")\n",
    "print(b_)\n",
    "\n",
    "# Stack arrays horizontally\n",
    "d_ = np.hstack((a_, b_ )) # np.hstack() is a function that stacks the arrays horizontally\n",
    "print(d_)\n",
    "print(c_)"
   ],
   "id": "434900571e27953b",
   "outputs": [
    {
     "name": "stdout",
     "output_type": "stream",
     "text": [
      "[[1 2]\n",
      " [5 6]]\n",
      "\n",
      "\n",
      "[[3 4]\n",
      " [7 8]]\n",
      "[[1 2 3 4]\n",
      " [5 6 7 8]]\n",
      "[ 9 10 11 12]\n"
     ]
    }
   ],
   "execution_count": 34
  },
  {
   "metadata": {
    "ExecuteTime": {
     "end_time": "2025-03-28T11:49:09.836714Z",
     "start_time": "2025-03-28T11:49:09.824655Z"
    }
   },
   "cell_type": "code",
   "source": [
    "# Mathematical operations\n",
    "# Mathematical operations are similar to lists\n",
    "# element wise multiplication\n",
    "array_1 = np.array([1,2,3]) # np.array() is a function that creates a numpy array\n",
    "array_2 = np.array([4,5,6]) # np.array() is a function that creates a numpy array\n",
    "array_3 = array_1 * array_2 # element wise multiplication\n",
    "print(array_3) # this will print the product as a numpy array\n",
    "\n",
    "# element wise addition\n",
    "array_3 = array_1 + array_2 # element wise addition\n",
    "print(array_3) # this will print the sum as a numpy array\n",
    "\n",
    "# element wise subtraction\n",
    "array_3 = array_1 - array_2 # element wise subtraction\n",
    "print(array_3) # this will print the difference as a numpy array\n",
    "\n",
    "# element wise division\n",
    "array_3 = array_1 / array_2 # element wise division\n",
    "print(array_3) # this will print the division as a numpy array\n",
    "\n",
    "# element wise exponentiation\n",
    "array_3 = array_1 ** 2 # element wise exponentiation\n",
    "print(array_3) # this will print the exponentiation as a numpy array\n",
    "\n",
    "# element wise square root\n",
    "array_3 = np.sqrt(array_1) # element wise square root\n",
    "print(array_3) # this will print the square root as a numpy array\n",
    "\n",
    "# element wise logarithm\n",
    "array_3 = np.log(array_1) # element wise logarithm\n",
    "print(array_3) # this will print the logarithm as a numpy array\n",
    "# element wise sine\n",
    "array_3 = np.sin(array_1) # element wise sine\n",
    "print(array_3) # this will print the sine as a numpy array\n",
    "# element wise cosine\n",
    "array_3 = np.cos(array_1) # element wise cosine\n",
    "print(array_3) # this will print the cosine as a numpy array\n",
    "# element wise tangent\n",
    "array_3 = np.tan(array_1) # element wise tangent\n",
    "print(array_3) # this will print the tangent as a numpy array\n",
    "# element wise hyperbolic sine\n",
    "array_3 = np.sinh(array_1) # element wise hyperbolic sine\n",
    "print(array_3) # this will print the hyperbolic sine as a numpy array\n",
    "# element wise hyperbolic cosine\n",
    "array_3 = np.cosh(array_1) # element wise hyperbolic cosine\n",
    "print(array_3) # this will print the hyperbolic cosine as a numpy array\n",
    "# element wise hyperbolic tangent\n",
    "array_3 = np.tanh(array_1) # element wise hyperbolic tangent\n",
    "print(array_3) # this will print the hyperbolic tangent as a numpy array\n",
    "# element wise exponential\n",
    "array_3 = np.exp(array_1) # element wise exponential\n",
    "print(array_3) # this will print the exponential as a numpy array\n",
    "# element wise absolute\n",
    "array_3 = np.abs(array_1) # element wise absolute\n",
    "print(array_3) # this will print the absolute as a numpy array\n",
    "# element wise floor\n",
    "array_3 = np.floor(array_1) # element wise floor\n",
    "print(array_3) # this will print the floor as a numpy array"
   ],
   "id": "51dbb2ec40bdcaa8",
   "outputs": [
    {
     "name": "stdout",
     "output_type": "stream",
     "text": [
      "[ 4 10 18]\n",
      "[5 7 9]\n",
      "[-3 -3 -3]\n",
      "[0.25 0.4  0.5 ]\n",
      "[1 4 9]\n",
      "[1.         1.41421356 1.73205081]\n",
      "[0.         0.69314718 1.09861229]\n",
      "[0.84147098 0.90929743 0.14112001]\n",
      "[ 0.54030231 -0.41614684 -0.9899925 ]\n",
      "[ 1.55740772 -2.18503986 -0.14254654]\n",
      "[ 1.17520119  3.62686041 10.01787493]\n",
      "[ 1.54308063  3.76219569 10.067662  ]\n",
      "[0.76159416 0.96402758 0.99505475]\n",
      "[ 2.71828183  7.3890561  20.08553692]\n",
      "[1 2 3]\n",
      "[1 2 3]\n"
     ]
    }
   ],
   "execution_count": 35
  },
  {
   "metadata": {
    "ExecuteTime": {
     "end_time": "2025-03-28T11:49:09.903740Z",
     "start_time": "2025-03-28T11:49:09.898159Z"
    }
   },
   "cell_type": "code",
   "source": [
    "a = np.arange(1,5) # np.arange() is a function that creates a numpy array with incremental of a fixed step size of 1 to 40\n",
    "print(a)\n",
    "# The Non NumPy way ! Not Recommended\n",
    "a_list = [x/(x+1) for x in a]\n",
    "print(a_list)"
   ],
   "id": "f8d7e9e3af21c1b2",
   "outputs": [
    {
     "name": "stdout",
     "output_type": "stream",
     "text": [
      "[1 2 3 4]\n",
      "[np.float64(0.5), np.float64(0.6666666666666666), np.float64(0.75), np.float64(0.8)]\n"
     ]
    }
   ],
   "execution_count": 36
  },
  {
   "metadata": {
    "ExecuteTime": {
     "end_time": "2025-03-28T11:49:09.963631Z",
     "start_time": "2025-03-28T11:49:09.957258Z"
    }
   },
   "cell_type": "code",
   "source": [
    "# The numpy way: vectorize the function, then apply it\n",
    "f = np.vectorize(lambda x: x/(x +1)) # np.vectorize() is a function that vectorizes the function\n",
    "f(a) # this will print the vectorized function applied to the array"
   ],
   "id": "982836e2d7ec2e0c",
   "outputs": [
    {
     "data": {
      "text/plain": [
       "array([0.5       , 0.66666667, 0.75      , 0.8       ])"
      ]
     },
     "execution_count": 37,
     "metadata": {},
     "output_type": "execute_result"
    }
   ],
   "execution_count": 37
  },
  {
   "metadata": {},
   "cell_type": "markdown",
   "source": [
    "Linear Algebra operations are also supported by numpy.\n",
    "- np.dot(): dot product\n",
    "- np.linalg.inv(): inverse of a matrix\n",
    "- np.linalg.det(): determinant of a matrix\n",
    "- np.linalg.eig(): eigenvalues and eigenvectors of a matrix\n",
    "- np.linalg.svd(): singular value decomposition of a matrix\n",
    "- np.linalg.norm(): norm of a matrix\n",
    "- np.linalg.solve(): solve a system of linear equations"
   ],
   "id": "f813eef4b15e37c"
  },
  {
   "metadata": {
    "ExecuteTime": {
     "end_time": "2025-03-28T11:49:10.041480Z",
     "start_time": "2025-03-28T11:49:10.035691Z"
    }
   },
   "cell_type": "code",
   "source": [
    "# np.dot(): dot product\n",
    "a = np.array([[1,2],\n",
    "              [3,4],\n",
    "              [5,6]]) # np.array() is a function that creates a numpy array\n",
    "b = np.array([[7,8,9],\n",
    "              [10,11,12]]) # np.array() is a function that creates a numpy array\n",
    "\n",
    "# dot product\n",
    "dot_product = np.dot(a, b) # np.dot() is a function that calculates the dot product of two arrays\n",
    "print(dot_product) # this will print the dot product as a numpy array"
   ],
   "id": "da6e2e5aef3e364e",
   "outputs": [
    {
     "name": "stdout",
     "output_type": "stream",
     "text": [
      "[[ 27  30  33]\n",
      " [ 61  68  75]\n",
      " [ 95 106 117]]\n"
     ]
    }
   ],
   "execution_count": 38
  },
  {
   "metadata": {
    "ExecuteTime": {
     "end_time": "2025-03-28T11:49:10.095847Z",
     "start_time": "2025-03-28T11:49:10.088260Z"
    }
   },
   "cell_type": "code",
   "source": [
    "# np.linalg.inv(): inverse of a matrix\n",
    "a = np.array([[1,2],\n",
    "              [3,4]]) # np.array() is a function that creates a numpy array\n",
    "\n",
    "# inverse of a matrix\n",
    "inverse = np.linalg.inv(a) # np.linalg.inv() is a function that calculates the inverse of a matrix\n",
    "print(inverse) # this will print the inverse of the matrix as a numpy array\n"
   ],
   "id": "22b1dd0507a7244",
   "outputs": [
    {
     "name": "stdout",
     "output_type": "stream",
     "text": [
      "[[-2.   1. ]\n",
      " [ 1.5 -0.5]]\n"
     ]
    }
   ],
   "execution_count": 39
  },
  {
   "metadata": {
    "ExecuteTime": {
     "end_time": "2025-03-28T11:49:10.132903Z",
     "start_time": "2025-03-28T11:49:10.128082Z"
    }
   },
   "cell_type": "code",
   "source": [
    "# np.linalg.det(): determinant of a matrix\n",
    "a = np.array([[1,2],\n",
    "              [3,4]]) # np.array() is a function that creates a numpy array\n",
    "# determinant of a matrix\n",
    "determinant = np.linalg.det(a) # np.linalg.det() is a function that calculates the determinant of a matrix\n",
    "print(determinant) # this will print the determinant of the matrix as a numpy array"
   ],
   "id": "b07f9951df986c0c",
   "outputs": [
    {
     "name": "stdout",
     "output_type": "stream",
     "text": [
      "-2.0000000000000004\n"
     ]
    }
   ],
   "execution_count": 40
  },
  {
   "metadata": {
    "ExecuteTime": {
     "end_time": "2025-03-28T11:49:10.186032Z",
     "start_time": "2025-03-28T11:49:10.174585Z"
    }
   },
   "cell_type": "code",
   "source": [
    "# np.linalg.eig(): eigenvalues and eigenvectors of a matrix\n",
    "a = np.array([[1,2],\n",
    "              [3,4]]) # np.array() is a function that creates a numpy array\n",
    "# eigenvalues and eigenvectors of a matrix\n",
    "eigenvalues, eigenvectors = np.linalg.eig(a) # np.linalg.eig() is a function that calculates the eigenvalues and eigenvectors of a matrix\n",
    "print(eigenvalues) # this will print the eigenvalues of the matrix as a numpy array"
   ],
   "id": "396789923ee0eb4f",
   "outputs": [
    {
     "name": "stdout",
     "output_type": "stream",
     "text": [
      "[-0.37228132  5.37228132]\n"
     ]
    }
   ],
   "execution_count": 41
  },
  {
   "metadata": {
    "ExecuteTime": {
     "end_time": "2025-03-28T11:49:10.252285Z",
     "start_time": "2025-03-28T11:49:10.242902Z"
    }
   },
   "cell_type": "code",
   "source": [
    "# np.linalg.svd(): singular value decomposition of a matrix\n",
    "a = np.array([[1,2],\n",
    "              [3,4]]) # np.array() is a function that creates a numpy array\n",
    "# singular value decomposition of a matrix\n",
    "U, S, V = np.linalg.svd(a) # np.linalg.svd() is a function that calculates the singular value decomposition of a matrix\n",
    "print(U) # this will print the U matrix of the singular value decomposition as a numpy array\n",
    "print(\"\\n\")\n",
    "print(S) # this will print the S matrix of the singular value decomposition as a numpy array\n",
    "print(\"\\n\")\n",
    "print(V) # this will print the V matrix of the singular value decomposition as a numpy array"
   ],
   "id": "9542e65b3a3c2f79",
   "outputs": [
    {
     "name": "stdout",
     "output_type": "stream",
     "text": [
      "[[-0.40455358 -0.9145143 ]\n",
      " [-0.9145143   0.40455358]]\n",
      "\n",
      "\n",
      "[5.4649857  0.36596619]\n",
      "\n",
      "\n",
      "[[-0.57604844 -0.81741556]\n",
      " [ 0.81741556 -0.57604844]]\n"
     ]
    }
   ],
   "execution_count": 42
  },
  {
   "metadata": {
    "ExecuteTime": {
     "end_time": "2025-03-28T11:49:10.302623Z",
     "start_time": "2025-03-28T11:49:10.297546Z"
    }
   },
   "cell_type": "code",
   "source": [
    "# np.linalg.norm(): norm of a matrix\n",
    "a = np.array([[1,2],\n",
    "              [3,4]]) # np.array() is a function that creates a numpy array\n",
    "# norm of a matrix\n",
    "norm = np.linalg.norm(a) # np.linalg.norm() is a function that calculates the norm of a matrix\n",
    "print(norm) # this will print the norm of the matrix as a numpy array"
   ],
   "id": "974f21a43a63dc2e",
   "outputs": [
    {
     "name": "stdout",
     "output_type": "stream",
     "text": [
      "5.477225575051661\n"
     ]
    }
   ],
   "execution_count": 43
  },
  {
   "metadata": {
    "ExecuteTime": {
     "end_time": "2025-03-28T11:49:10.343557Z",
     "start_time": "2025-03-28T11:49:10.337850Z"
    }
   },
   "cell_type": "code",
   "source": [
    "# np.linalg.solve(): solve a system of linear equations\n",
    "a = np.array([[1,2],\n",
    "              [3,4]]) # np.array() is a function that creates a numpy array\n",
    "b = np.array([5,6]) # np.array() is a function that creates a numpy array\n",
    "# solve a system of linear equations\n",
    "solution = np.linalg.solve(a, b) # np.linalg.solve() is a function that solves a system of linear equations\n",
    "print(solution) # this will print the solution of the system of linear equations as a numpy array"
   ],
   "id": "932ed758a782cac0",
   "outputs": [
    {
     "name": "stdout",
     "output_type": "stream",
     "text": [
      "[-4.   4.5]\n"
     ]
    }
   ],
   "execution_count": 44
  },
  {
   "metadata": {
    "ExecuteTime": {
     "end_time": "2025-03-28T11:49:10.402608Z",
     "start_time": "2025-03-28T11:49:10.399549Z"
    }
   },
   "cell_type": "code",
   "source": "",
   "id": "8d5a8562ec836e8d",
   "outputs": [],
   "execution_count": null
  }
 ],
 "metadata": {
  "kernelspec": {
   "display_name": "Python 3",
   "language": "python",
   "name": "python3"
  },
  "language_info": {
   "codemirror_mode": {
    "name": "ipython",
    "version": 2
   },
   "file_extension": ".py",
   "mimetype": "text/x-python",
   "name": "python",
   "nbconvert_exporter": "python",
   "pygments_lexer": "ipython2",
   "version": "2.7.6"
  }
 },
 "nbformat": 4,
 "nbformat_minor": 5
}
