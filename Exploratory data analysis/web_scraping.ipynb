{
 "cells": [
  {
   "cell_type": "markdown",
   "id": "81794167",
   "metadata": {},
   "source": [
    "#### Web Scraping with Python\n",
    "1. Import the libraries and classes:\n",
    "- urllib request\n",
    "- BeautifulSoup\n",
    "\n",
    "2. Steps:\n",
    "- html upload\n",
    "-html parser\n",
    "- Extracting of data from web page\n",
    "- Transformation into required file: csv."
   ]
  },
  {
   "cell_type": "code",
   "execution_count": 55,
   "id": "6bf0b7a3",
   "metadata": {},
   "outputs": [],
   "source": [
    "from urllib.request import urlopen as uReq\n",
    "from bs4 import BeautifulSoup as soup "
   ]
  },
  {
   "cell_type": "code",
   "execution_count": 56,
   "id": "e8c4a685",
   "metadata": {},
   "outputs": [],
   "source": [
    "# For making HTTP requests\n",
    "import requests\n",
    "# Alternative: from urllib.request import urlopen\n",
    "\n",
    "# For parsing HTML\n",
    "from bs4 import BeautifulSoup\n",
    "\n",
    "# For data handling\n",
    "import pandas as pd"
   ]
  }
 ],
 "metadata": {
  "kernelspec": {
   "display_name": "Python 3",
   "language": "python",
   "name": "python3"
  },
  "language_info": {
   "codemirror_mode": {
    "name": "ipython",
    "version": 3
   },
   "file_extension": ".py",
   "mimetype": "text/x-python",
   "name": "python",
   "nbconvert_exporter": "python",
   "pygments_lexer": "ipython3",
   "version": "3.12.1"
  }
 },
 "nbformat": 4,
 "nbformat_minor": 5
}
