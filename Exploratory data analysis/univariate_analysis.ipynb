{
 "cells": [
  {
   "cell_type": "markdown",
   "id": "667e1fce",
   "metadata": {},
   "source": [
    "##### In this session i am learning Univariate analysis:\n",
    "- Categorical unordered univariate analysis\n",
    "- Categorical ordered univariate analysis\n",
    "- Statistics on the numerical variable\n",
    "- Numerical variable univariate analysis"
   ]
  },
  {
   "cell_type": "code",
   "execution_count": null,
   "id": "396a9c50",
   "metadata": {},
   "outputs": [],
   "source": []
  },
  {
   "cell_type": "code",
   "execution_count": null,
   "id": "a2eb7e05",
   "metadata": {},
   "outputs": [],
   "source": []
  }
 ],
 "metadata": {
  "kernelspec": {
   "display_name": "Python 3",
   "language": "python",
   "name": "python3"
  },
  "language_info": {
   "codemirror_mode": {
    "name": "ipython",
    "version": 3
   },
   "file_extension": ".py",
   "mimetype": "text/x-python",
   "name": "python",
   "nbconvert_exporter": "python",
   "pygments_lexer": "ipython3",
   "version": "3.12.1"
  }
 },
 "nbformat": 4,
 "nbformat_minor": 5
}
